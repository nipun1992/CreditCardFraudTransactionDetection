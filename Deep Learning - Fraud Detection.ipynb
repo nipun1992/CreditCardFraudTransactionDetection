{
 "cells": [
  {
   "cell_type": "markdown",
   "id": "e1288529",
   "metadata": {},
   "source": [
    "# 1. Problem Statement\n",
    " \n",
    "1. What is the problem that you are trying to solve?\n",
    "   \n",
    "   **Answer**: The problem is regarding **Fraud detection** on credit card transactions.\n",
    "   \n",
    "   \n",
    "2. What kind of prediction (classification / regression) task are you performing?\n",
    "\n",
    "   **Answer**: This is a binary classification task. We have to predict if a transaction is genuine or fraudulent"
   ]
  },
  {
   "cell_type": "markdown",
   "id": "c3544f08",
   "metadata": {},
   "source": [
    "### Importing libraries"
   ]
  },
  {
   "cell_type": "code",
   "execution_count": 1,
   "id": "cd342391",
   "metadata": {},
   "outputs": [],
   "source": [
    "import numpy as np\n",
    "import pandas as pd\n",
    "from matplotlib import pyplot as plt\n",
    "import seaborn as sns\n",
    "import os\n",
    "\n",
    "import warnings\n",
    "warnings.filterwarnings('ignore')"
   ]
  },
  {
   "cell_type": "code",
   "execution_count": 2,
   "id": "6b1dcf63",
   "metadata": {},
   "outputs": [
    {
     "name": "stdout",
     "output_type": "stream",
     "text": [
      "Requirement already satisfied: opendatasets in c:\\users\\nipun.gupta\\anaconda3\\lib\\site-packages (0.1.22)\n",
      "Requirement already satisfied: click in c:\\users\\nipun.gupta\\anaconda3\\lib\\site-packages (from opendatasets) (8.0.4)\n",
      "Requirement already satisfied: kaggle in c:\\users\\nipun.gupta\\anaconda3\\lib\\site-packages (from opendatasets) (1.5.12)\n",
      "Requirement already satisfied: tqdm in c:\\users\\nipun.gupta\\anaconda3\\lib\\site-packages (from opendatasets) (4.64.1)\n",
      "Requirement already satisfied: colorama in c:\\users\\nipun.gupta\\anaconda3\\lib\\site-packages (from click->opendatasets) (0.4.5)\n",
      "Requirement already satisfied: urllib3 in c:\\users\\nipun.gupta\\anaconda3\\lib\\site-packages (from kaggle->opendatasets) (1.26.11)\n",
      "Requirement already satisfied: python-slugify in c:\\users\\nipun.gupta\\anaconda3\\lib\\site-packages (from kaggle->opendatasets) (5.0.2)\n",
      "Requirement already satisfied: six>=1.10 in c:\\users\\nipun.gupta\\anaconda3\\lib\\site-packages (from kaggle->opendatasets) (1.16.0)\n",
      "Requirement already satisfied: requests in c:\\users\\nipun.gupta\\anaconda3\\lib\\site-packages (from kaggle->opendatasets) (2.28.1)\n",
      "Requirement already satisfied: certifi in c:\\users\\nipun.gupta\\anaconda3\\lib\\site-packages (from kaggle->opendatasets) (2022.9.14)\n",
      "Requirement already satisfied: python-dateutil in c:\\users\\nipun.gupta\\anaconda3\\lib\\site-packages (from kaggle->opendatasets) (2.8.2)\n",
      "Requirement already satisfied: text-unidecode>=1.3 in c:\\users\\nipun.gupta\\anaconda3\\lib\\site-packages (from python-slugify->kaggle->opendatasets) (1.3)\n",
      "Requirement already satisfied: idna<4,>=2.5 in c:\\users\\nipun.gupta\\anaconda3\\lib\\site-packages (from requests->kaggle->opendatasets) (3.3)\n",
      "Requirement already satisfied: charset-normalizer<3,>=2 in c:\\users\\nipun.gupta\\anaconda3\\lib\\site-packages (from requests->kaggle->opendatasets) (2.0.4)\n"
     ]
    }
   ],
   "source": [
    "# Installing opendatasets library to download the dataset\n",
    "!pip install opendatasets"
   ]
  },
  {
   "cell_type": "code",
   "execution_count": 3,
   "id": "01f7a65d",
   "metadata": {},
   "outputs": [],
   "source": [
    "import opendatasets as od"
   ]
  },
  {
   "cell_type": "markdown",
   "id": "18682cd3",
   "metadata": {},
   "source": [
    "# 2. Data Acquisition"
   ]
  },
  {
   "cell_type": "markdown",
   "id": "52319f3e",
   "metadata": {},
   "source": [
    "## 2.1 Download the data directly\n",
    "\n",
    "The dataset has been downloaded from Kaggle website : **https://www.kaggle.com/datasets/dermisfit/fraud-transactions-dataset**."
   ]
  },
  {
   "cell_type": "code",
   "execution_count": 4,
   "id": "84de426a",
   "metadata": {},
   "outputs": [],
   "source": [
    "# Path to the dataset on kaggle website\n",
    "dataset = r\"https://www.kaggle.com/datasets/dermisfit/fraud-transactions-dataset\""
   ]
  },
  {
   "cell_type": "code",
   "execution_count": 5,
   "id": "04852d40",
   "metadata": {},
   "outputs": [
    {
     "name": "stdout",
     "output_type": "stream",
     "text": [
      "Skipping, found downloaded files in \".\\fraud-transactions-dataset\" (use force=True to force download)\n"
     ]
    }
   ],
   "source": [
    "# Downloading the dataset\n",
    "od.download(dataset)"
   ]
  },
  {
   "cell_type": "markdown",
   "id": "9a931715",
   "metadata": {},
   "source": [
    "## 2.2 Code for converting the above downloaded data into a form suitable for DL "
   ]
  },
  {
   "cell_type": "code",
   "execution_count": 6,
   "id": "c6499396",
   "metadata": {},
   "outputs": [],
   "source": [
    "# Directory of the downloaded datasets in local system\n",
    "data_dir = r'.\\fraud-transactions-dataset'"
   ]
  },
  {
   "cell_type": "code",
   "execution_count": 7,
   "id": "c1eeeac4",
   "metadata": {},
   "outputs": [
    {
     "data": {
      "text/plain": [
       "['fraudTest.csv', 'fraudTrain.csv']"
      ]
     },
     "execution_count": 7,
     "metadata": {},
     "output_type": "execute_result"
    }
   ],
   "source": [
    "# Listing out the datasets\n",
    "os.listdir(data_dir)"
   ]
  },
  {
   "cell_type": "markdown",
   "id": "9bd5e9a3",
   "metadata": {},
   "source": [
    "Reading the dataset using pandas"
   ]
  },
  {
   "cell_type": "code",
   "execution_count": 8,
   "id": "bdbfea21",
   "metadata": {},
   "outputs": [],
   "source": [
    "df_fraudTrain = pd.read_csv(r\"C:\\Users\\nipun.gupta\\Downloads\\Credit card Fraud transaction detection\\fraud-transactions-dataset\\fraudTrain.csv\", index_col=0)"
   ]
  },
  {
   "cell_type": "code",
   "execution_count": 9,
   "id": "b72c4376",
   "metadata": {},
   "outputs": [
    {
     "data": {
      "text/plain": [
       "(1296675, 22)"
      ]
     },
     "execution_count": 9,
     "metadata": {},
     "output_type": "execute_result"
    }
   ],
   "source": [
    "df_fraudTrain.shape"
   ]
  },
  {
   "cell_type": "code",
   "execution_count": 10,
   "id": "5e734833",
   "metadata": {},
   "outputs": [],
   "source": [
    "df_fraudTest = pd.read_csv(r\"C:\\Users\\nipun.gupta\\Downloads\\Credit card Fraud transaction detection\\fraud-transactions-dataset\\fraudTest.csv\", index_col=0)"
   ]
  },
  {
   "cell_type": "code",
   "execution_count": 11,
   "id": "0a739f41",
   "metadata": {},
   "outputs": [
    {
     "data": {
      "text/plain": [
       "(555719, 22)"
      ]
     },
     "execution_count": 11,
     "metadata": {},
     "output_type": "execute_result"
    }
   ],
   "source": [
    "df_fraudTest.shape"
   ]
  },
  {
   "cell_type": "markdown",
   "id": "1189203f",
   "metadata": {},
   "source": [
    "The **fraudTrain.csv** dataset is very huge in comparison to the **fraudTest.csv** dataset and thus working on the the **fraudTrain.csv** dataset will consume a lot of time for data cleaning and model training purpose. So we can consider **fraudTest.csv** for the problem scenario"
   ]
  },
  {
   "cell_type": "markdown",
   "id": "136d25da",
   "metadata": {},
   "source": [
    "## 2.3 Observations from the above dataframe"
   ]
  },
  {
   "cell_type": "code",
   "execution_count": 12,
   "id": "5a10bcbf",
   "metadata": {},
   "outputs": [
    {
     "data": {
      "text/html": [
       "<div>\n",
       "<style scoped>\n",
       "    .dataframe tbody tr th:only-of-type {\n",
       "        vertical-align: middle;\n",
       "    }\n",
       "\n",
       "    .dataframe tbody tr th {\n",
       "        vertical-align: top;\n",
       "    }\n",
       "\n",
       "    .dataframe thead th {\n",
       "        text-align: right;\n",
       "    }\n",
       "</style>\n",
       "<table border=\"1\" class=\"dataframe\">\n",
       "  <thead>\n",
       "    <tr style=\"text-align: right;\">\n",
       "      <th></th>\n",
       "      <th>trans_date_trans_time</th>\n",
       "      <th>cc_num</th>\n",
       "      <th>merchant</th>\n",
       "      <th>category</th>\n",
       "      <th>amt</th>\n",
       "      <th>first</th>\n",
       "      <th>last</th>\n",
       "      <th>gender</th>\n",
       "      <th>street</th>\n",
       "      <th>city</th>\n",
       "      <th>...</th>\n",
       "      <th>lat</th>\n",
       "      <th>long</th>\n",
       "      <th>city_pop</th>\n",
       "      <th>job</th>\n",
       "      <th>dob</th>\n",
       "      <th>trans_num</th>\n",
       "      <th>unix_time</th>\n",
       "      <th>merch_lat</th>\n",
       "      <th>merch_long</th>\n",
       "      <th>is_fraud</th>\n",
       "    </tr>\n",
       "  </thead>\n",
       "  <tbody>\n",
       "    <tr>\n",
       "      <th>0</th>\n",
       "      <td>2020-06-21 12:14:25</td>\n",
       "      <td>2291163933867244</td>\n",
       "      <td>fraud_Kirlin and Sons</td>\n",
       "      <td>personal_care</td>\n",
       "      <td>2.86</td>\n",
       "      <td>Jeff</td>\n",
       "      <td>Elliott</td>\n",
       "      <td>M</td>\n",
       "      <td>351 Darlene Green</td>\n",
       "      <td>Columbia</td>\n",
       "      <td>...</td>\n",
       "      <td>33.9659</td>\n",
       "      <td>-80.9355</td>\n",
       "      <td>333497</td>\n",
       "      <td>Mechanical engineer</td>\n",
       "      <td>1968-03-19</td>\n",
       "      <td>2da90c7d74bd46a0caf3777415b3ebd3</td>\n",
       "      <td>1371816865</td>\n",
       "      <td>33.986391</td>\n",
       "      <td>-81.200714</td>\n",
       "      <td>0</td>\n",
       "    </tr>\n",
       "    <tr>\n",
       "      <th>1</th>\n",
       "      <td>2020-06-21 12:14:33</td>\n",
       "      <td>3573030041201292</td>\n",
       "      <td>fraud_Sporer-Keebler</td>\n",
       "      <td>personal_care</td>\n",
       "      <td>29.84</td>\n",
       "      <td>Joanne</td>\n",
       "      <td>Williams</td>\n",
       "      <td>F</td>\n",
       "      <td>3638 Marsh Union</td>\n",
       "      <td>Altonah</td>\n",
       "      <td>...</td>\n",
       "      <td>40.3207</td>\n",
       "      <td>-110.4360</td>\n",
       "      <td>302</td>\n",
       "      <td>Sales professional, IT</td>\n",
       "      <td>1990-01-17</td>\n",
       "      <td>324cc204407e99f51b0d6ca0055005e7</td>\n",
       "      <td>1371816873</td>\n",
       "      <td>39.450498</td>\n",
       "      <td>-109.960431</td>\n",
       "      <td>0</td>\n",
       "    </tr>\n",
       "    <tr>\n",
       "      <th>2</th>\n",
       "      <td>2020-06-21 12:14:53</td>\n",
       "      <td>3598215285024754</td>\n",
       "      <td>fraud_Swaniawski, Nitzsche and Welch</td>\n",
       "      <td>health_fitness</td>\n",
       "      <td>41.28</td>\n",
       "      <td>Ashley</td>\n",
       "      <td>Lopez</td>\n",
       "      <td>F</td>\n",
       "      <td>9333 Valentine Point</td>\n",
       "      <td>Bellmore</td>\n",
       "      <td>...</td>\n",
       "      <td>40.6729</td>\n",
       "      <td>-73.5365</td>\n",
       "      <td>34496</td>\n",
       "      <td>Librarian, public</td>\n",
       "      <td>1970-10-21</td>\n",
       "      <td>c81755dbbbea9d5c77f094348a7579be</td>\n",
       "      <td>1371816893</td>\n",
       "      <td>40.495810</td>\n",
       "      <td>-74.196111</td>\n",
       "      <td>0</td>\n",
       "    </tr>\n",
       "    <tr>\n",
       "      <th>3</th>\n",
       "      <td>2020-06-21 12:15:15</td>\n",
       "      <td>3591919803438423</td>\n",
       "      <td>fraud_Haley Group</td>\n",
       "      <td>misc_pos</td>\n",
       "      <td>60.05</td>\n",
       "      <td>Brian</td>\n",
       "      <td>Williams</td>\n",
       "      <td>M</td>\n",
       "      <td>32941 Krystal Mill Apt. 552</td>\n",
       "      <td>Titusville</td>\n",
       "      <td>...</td>\n",
       "      <td>28.5697</td>\n",
       "      <td>-80.8191</td>\n",
       "      <td>54767</td>\n",
       "      <td>Set designer</td>\n",
       "      <td>1987-07-25</td>\n",
       "      <td>2159175b9efe66dc301f149d3d5abf8c</td>\n",
       "      <td>1371816915</td>\n",
       "      <td>28.812398</td>\n",
       "      <td>-80.883061</td>\n",
       "      <td>0</td>\n",
       "    </tr>\n",
       "    <tr>\n",
       "      <th>4</th>\n",
       "      <td>2020-06-21 12:15:17</td>\n",
       "      <td>3526826139003047</td>\n",
       "      <td>fraud_Johnston-Casper</td>\n",
       "      <td>travel</td>\n",
       "      <td>3.19</td>\n",
       "      <td>Nathan</td>\n",
       "      <td>Massey</td>\n",
       "      <td>M</td>\n",
       "      <td>5783 Evan Roads Apt. 465</td>\n",
       "      <td>Falmouth</td>\n",
       "      <td>...</td>\n",
       "      <td>44.2529</td>\n",
       "      <td>-85.0170</td>\n",
       "      <td>1126</td>\n",
       "      <td>Furniture designer</td>\n",
       "      <td>1955-07-06</td>\n",
       "      <td>57ff021bd3f328f8738bb535c302a31b</td>\n",
       "      <td>1371816917</td>\n",
       "      <td>44.959148</td>\n",
       "      <td>-85.884734</td>\n",
       "      <td>0</td>\n",
       "    </tr>\n",
       "  </tbody>\n",
       "</table>\n",
       "<p>5 rows × 22 columns</p>\n",
       "</div>"
      ],
      "text/plain": [
       "  trans_date_trans_time            cc_num  \\\n",
       "0   2020-06-21 12:14:25  2291163933867244   \n",
       "1   2020-06-21 12:14:33  3573030041201292   \n",
       "2   2020-06-21 12:14:53  3598215285024754   \n",
       "3   2020-06-21 12:15:15  3591919803438423   \n",
       "4   2020-06-21 12:15:17  3526826139003047   \n",
       "\n",
       "                               merchant        category    amt   first  \\\n",
       "0                 fraud_Kirlin and Sons   personal_care   2.86    Jeff   \n",
       "1                  fraud_Sporer-Keebler   personal_care  29.84  Joanne   \n",
       "2  fraud_Swaniawski, Nitzsche and Welch  health_fitness  41.28  Ashley   \n",
       "3                     fraud_Haley Group        misc_pos  60.05   Brian   \n",
       "4                 fraud_Johnston-Casper          travel   3.19  Nathan   \n",
       "\n",
       "       last gender                       street        city  ...      lat  \\\n",
       "0   Elliott      M            351 Darlene Green    Columbia  ...  33.9659   \n",
       "1  Williams      F             3638 Marsh Union     Altonah  ...  40.3207   \n",
       "2     Lopez      F         9333 Valentine Point    Bellmore  ...  40.6729   \n",
       "3  Williams      M  32941 Krystal Mill Apt. 552  Titusville  ...  28.5697   \n",
       "4    Massey      M     5783 Evan Roads Apt. 465    Falmouth  ...  44.2529   \n",
       "\n",
       "       long  city_pop                     job         dob  \\\n",
       "0  -80.9355    333497     Mechanical engineer  1968-03-19   \n",
       "1 -110.4360       302  Sales professional, IT  1990-01-17   \n",
       "2  -73.5365     34496       Librarian, public  1970-10-21   \n",
       "3  -80.8191     54767            Set designer  1987-07-25   \n",
       "4  -85.0170      1126      Furniture designer  1955-07-06   \n",
       "\n",
       "                          trans_num   unix_time  merch_lat  merch_long  \\\n",
       "0  2da90c7d74bd46a0caf3777415b3ebd3  1371816865  33.986391  -81.200714   \n",
       "1  324cc204407e99f51b0d6ca0055005e7  1371816873  39.450498 -109.960431   \n",
       "2  c81755dbbbea9d5c77f094348a7579be  1371816893  40.495810  -74.196111   \n",
       "3  2159175b9efe66dc301f149d3d5abf8c  1371816915  28.812398  -80.883061   \n",
       "4  57ff021bd3f328f8738bb535c302a31b  1371816917  44.959148  -85.884734   \n",
       "\n",
       "   is_fraud  \n",
       "0         0  \n",
       "1         0  \n",
       "2         0  \n",
       "3         0  \n",
       "4         0  \n",
       "\n",
       "[5 rows x 22 columns]"
      ]
     },
     "execution_count": 12,
     "metadata": {},
     "output_type": "execute_result"
    }
   ],
   "source": [
    "df_fraudTest.head()"
   ]
  },
  {
   "cell_type": "markdown",
   "id": "84f72527",
   "metadata": {},
   "source": [
    "#### Shape of the dataframe"
   ]
  },
  {
   "cell_type": "code",
   "execution_count": 13,
   "id": "74419165",
   "metadata": {},
   "outputs": [
    {
     "data": {
      "text/plain": [
       "(555719, 22)"
      ]
     },
     "execution_count": 13,
     "metadata": {},
     "output_type": "execute_result"
    }
   ],
   "source": [
    "df_fraudTest.shape"
   ]
  },
  {
   "cell_type": "markdown",
   "id": "8a0abfc1",
   "metadata": {},
   "source": [
    "The dataframe consists of **555719** rows and **22** columns"
   ]
  },
  {
   "cell_type": "markdown",
   "id": "3e08d198",
   "metadata": {},
   "source": [
    "#### Description of the attributes of the dataframe"
   ]
  },
  {
   "cell_type": "markdown",
   "id": "f0e1cd12",
   "metadata": {},
   "source": [
    "trans_date_trans_time: The date and time of the transaction.\n",
    "\n",
    "cc_num: credit card number.\n",
    "\n",
    "merchant: Merchant who was getting paid.\n",
    "\n",
    "category: In what area does that merchant deal.\n",
    "\n",
    "amt: Amount of money in American Dollars.\n",
    "\n",
    "first: first name of the card holder.\n",
    "\n",
    "last: last name of the card holder.\n",
    "\n",
    "gender: Gender of the cardholder.Just male and female!\n",
    "\n",
    "street:Street of card holder residence\n",
    "\n",
    "city:city of card holder residence\n",
    "\n",
    "state:state of card holder residence\n",
    "\n",
    "zip:ZIP code of card holder residence\n",
    "\n",
    "lat:latitude of card holder\n",
    "\n",
    "long:longitude of card holder\n",
    "\n",
    "city_pop:Population of the city\n",
    "\n",
    "job:trade of the card holder\n",
    "\n",
    "dob:Date of birth of the card holder\n",
    "\n",
    "trans_num: Transaction ID\n",
    "\n",
    "unix_time: Unix time which is the time calculated since 1970 to today.\n",
    "\n",
    "merch_lat: latitude of the merchant\n",
    "\n",
    "merch_long:longitude of the merchant\n",
    "\n",
    "is_fraud: Whether the transaction is fraud(1) or not(0)"
   ]
  },
  {
   "cell_type": "code",
   "execution_count": 14,
   "id": "f8226406",
   "metadata": {},
   "outputs": [
    {
     "name": "stdout",
     "output_type": "stream",
     "text": [
      "<class 'pandas.core.frame.DataFrame'>\n",
      "Int64Index: 555719 entries, 0 to 555718\n",
      "Data columns (total 22 columns):\n",
      " #   Column                 Non-Null Count   Dtype  \n",
      "---  ------                 --------------   -----  \n",
      " 0   trans_date_trans_time  555719 non-null  object \n",
      " 1   cc_num                 555719 non-null  int64  \n",
      " 2   merchant               555719 non-null  object \n",
      " 3   category               555719 non-null  object \n",
      " 4   amt                    555719 non-null  float64\n",
      " 5   first                  555719 non-null  object \n",
      " 6   last                   555719 non-null  object \n",
      " 7   gender                 555719 non-null  object \n",
      " 8   street                 555719 non-null  object \n",
      " 9   city                   555719 non-null  object \n",
      " 10  state                  555719 non-null  object \n",
      " 11  zip                    555719 non-null  int64  \n",
      " 12  lat                    555719 non-null  float64\n",
      " 13  long                   555719 non-null  float64\n",
      " 14  city_pop               555719 non-null  int64  \n",
      " 15  job                    555719 non-null  object \n",
      " 16  dob                    555719 non-null  object \n",
      " 17  trans_num              555719 non-null  object \n",
      " 18  unix_time              555719 non-null  int64  \n",
      " 19  merch_lat              555719 non-null  float64\n",
      " 20  merch_long             555719 non-null  float64\n",
      " 21  is_fraud               555719 non-null  int64  \n",
      "dtypes: float64(5), int64(5), object(12)\n",
      "memory usage: 97.5+ MB\n"
     ]
    }
   ],
   "source": [
    "df_fraudTest.info()"
   ]
  },
  {
   "cell_type": "markdown",
   "id": "77beeb8c",
   "metadata": {},
   "source": [
    "### Data Preprocessing and Exploratory Data Analysis"
   ]
  },
  {
   "cell_type": "markdown",
   "id": "78624c4f",
   "metadata": {},
   "source": [
    "#### Dropping irrelevant features"
   ]
  },
  {
   "cell_type": "markdown",
   "id": "f1ad21f8",
   "metadata": {},
   "source": [
    "Based on domain knowledge, the attributes that will not be useful for fraud detection are :\n",
    "\n",
    " - trans_date_trans_time\n",
    " - cc_num\n",
    " - first\n",
    " - last\n",
    " - street\n",
    " - dob\n",
    " - zip\n",
    " - lat\n",
    " - long\n",
    " - trans_num\n",
    " - unix_time\n",
    " - merchant\n",
    " - city\n",
    " - job\n",
    " \n",
    " These attributes can be dropped "
   ]
  },
  {
   "cell_type": "code",
   "execution_count": 15,
   "id": "7ac4ddb0",
   "metadata": {},
   "outputs": [],
   "source": [
    "df_fraudTest = df_fraudTest.drop(columns=[\"trans_date_trans_time\", \"cc_num\", \"first\", \"last\", \"street\", \"dob\", \"zip\", \"lat\", \"long\", \"trans_num\", \"unix_time\", \"merchant\", \"city\", \"job\"], axis=1)"
   ]
  },
  {
   "cell_type": "code",
   "execution_count": 16,
   "id": "1a4d30d9",
   "metadata": {},
   "outputs": [
    {
     "name": "stdout",
     "output_type": "stream",
     "text": [
      "<class 'pandas.core.frame.DataFrame'>\n",
      "Int64Index: 555719 entries, 0 to 555718\n",
      "Data columns (total 8 columns):\n",
      " #   Column      Non-Null Count   Dtype  \n",
      "---  ------      --------------   -----  \n",
      " 0   category    555719 non-null  object \n",
      " 1   amt         555719 non-null  float64\n",
      " 2   gender      555719 non-null  object \n",
      " 3   state       555719 non-null  object \n",
      " 4   city_pop    555719 non-null  int64  \n",
      " 5   merch_lat   555719 non-null  float64\n",
      " 6   merch_long  555719 non-null  float64\n",
      " 7   is_fraud    555719 non-null  int64  \n",
      "dtypes: float64(3), int64(2), object(3)\n",
      "memory usage: 38.2+ MB\n"
     ]
    }
   ],
   "source": [
    "df_fraudTest.info()"
   ]
  },
  {
   "cell_type": "markdown",
   "id": "2d30cdd3",
   "metadata": {},
   "source": [
    "It can be observed that the irrelevant features have been dropped"
   ]
  },
  {
   "cell_type": "markdown",
   "id": "71623a8b",
   "metadata": {},
   "source": [
    "#### Checking for duplicate rows"
   ]
  },
  {
   "cell_type": "code",
   "execution_count": 17,
   "id": "f1f73d08",
   "metadata": {},
   "outputs": [
    {
     "data": {
      "text/plain": [
       "0"
      ]
     },
     "execution_count": 17,
     "metadata": {},
     "output_type": "execute_result"
    }
   ],
   "source": [
    "df_fraudTest.duplicated().sum()"
   ]
  },
  {
   "cell_type": "markdown",
   "id": "33d860d9",
   "metadata": {},
   "source": [
    "There are no duplicate rows in the dataframe"
   ]
  },
  {
   "cell_type": "code",
   "execution_count": 18,
   "id": "9781e69b",
   "metadata": {},
   "outputs": [
    {
     "name": "stdout",
     "output_type": "stream",
     "text": [
      "Value count for feature is_fraud\n",
      "0    553574\n",
      "1      2145\n",
      "Name: is_fraud, dtype: int64\n"
     ]
    },
    {
     "data": {
      "text/plain": [
       "<AxesSubplot:xlabel='is_fraud', ylabel='count'>"
      ]
     },
     "execution_count": 18,
     "metadata": {},
     "output_type": "execute_result"
    },
    {
     "data": {
      "image/png": "[encoded data removed]",
      "text/plain": [
       "<Figure size 600x600 with 1 Axes>"
      ]
     },
     "metadata": {},
     "output_type": "display_data"
    }
   ],
   "source": [
    "plt.figure(figsize=(6,6))\n",
    "print(\"Value count for feature is_fraud\")\n",
    "print(df_fraudTest['is_fraud'].value_counts())\n",
    "sns.countplot('is_fraud', data=df_fraudTest)"
   ]
  },
  {
   "cell_type": "markdown",
   "id": "ebbded5a",
   "metadata": {},
   "source": [
    "It can be observe that the dataframe is highly imbalanced. There are **553574** counts of genuine transactions whereas **2145** counts for fraud transactions. The dataset will need to be balanced"
   ]
  },
  {
   "cell_type": "code",
   "execution_count": 19,
   "id": "2a7b783b",
   "metadata": {},
   "outputs": [
    {
     "name": "stdout",
     "output_type": "stream",
     "text": [
      "Value count for feature gender\n",
      "F    304886\n",
      "M    250833\n",
      "Name: gender, dtype: int64\n"
     ]
    },
    {
     "data": {
      "text/plain": [
       "<AxesSubplot:xlabel='gender', ylabel='count'>"
      ]
     },
     "execution_count": 19,
     "metadata": {},
     "output_type": "execute_result"
    },
    {
     "data": {
      "image/png": "[encoded data removed]",
      "text/plain": [
       "<Figure size 600x600 with 1 Axes>"
      ]
     },
     "metadata": {},
     "output_type": "display_data"
    }
   ],
   "source": [
    "plt.figure(figsize=(6,6))\n",
    "print(\"Value count for feature gender\")\n",
    "print(df_fraudTest['gender'].value_counts())\n",
    "sns.countplot('gender', data=df_fraudTest)"
   ]
  },
  {
   "cell_type": "markdown",
   "id": "fc4f6488",
   "metadata": {},
   "source": [
    "It can be observed that there are **304886** females whereas **250833** males"
   ]
  },
  {
   "cell_type": "markdown",
   "id": "e68e8121",
   "metadata": {},
   "source": [
    "#### Data Leakage and train test split"
   ]
  },
  {
   "cell_type": "markdown",
   "id": "a681c6b3",
   "metadata": {},
   "source": [
    "During the training phase, the ML model should know only about the training data. But if the model gets to know about the test data during the training phase, then this is called data leakage.\n",
    "\n",
    "So we should perform splitting of the dataset before applying feature engineering. After splitting, we will first apply feature engineering for the training data and then apply it on to the test data. This will help to reduce data leakage and overfitting.\n",
    "\n",
    "But presence of duplicates can also cause data leakage. Therefore, we will first remove the duplicate records from the dataset and then perform train test split"
   ]
  },
  {
   "cell_type": "markdown",
   "id": "2d5862f3",
   "metadata": {},
   "source": [
    "The indices of the dataframe will have to be reset"
   ]
  },
  {
   "cell_type": "code",
   "execution_count": 20,
   "id": "64adeaef",
   "metadata": {},
   "outputs": [],
   "source": [
    "df_fraudTest.reset_index(inplace = True, drop = True)"
   ]
  },
  {
   "cell_type": "code",
   "execution_count": 21,
   "id": "b78a539a",
   "metadata": {},
   "outputs": [
    {
     "data": {
      "text/html": [
       "<div>\n",
       "<style scoped>\n",
       "    .dataframe tbody tr th:only-of-type {\n",
       "        vertical-align: middle;\n",
       "    }\n",
       "\n",
       "    .dataframe tbody tr th {\n",
       "        vertical-align: top;\n",
       "    }\n",
       "\n",
       "    .dataframe thead th {\n",
       "        text-align: right;\n",
       "    }\n",
       "</style>\n",
       "<table border=\"1\" class=\"dataframe\">\n",
       "  <thead>\n",
       "    <tr style=\"text-align: right;\">\n",
       "      <th></th>\n",
       "      <th>category</th>\n",
       "      <th>amt</th>\n",
       "      <th>gender</th>\n",
       "      <th>state</th>\n",
       "      <th>city_pop</th>\n",
       "      <th>merch_lat</th>\n",
       "      <th>merch_long</th>\n",
       "      <th>is_fraud</th>\n",
       "    </tr>\n",
       "  </thead>\n",
       "  <tbody>\n",
       "    <tr>\n",
       "      <th>0</th>\n",
       "      <td>personal_care</td>\n",
       "      <td>2.86</td>\n",
       "      <td>M</td>\n",
       "      <td>SC</td>\n",
       "      <td>333497</td>\n",
       "      <td>33.986391</td>\n",
       "      <td>-81.200714</td>\n",
       "      <td>0</td>\n",
       "    </tr>\n",
       "    <tr>\n",
       "      <th>1</th>\n",
       "      <td>personal_care</td>\n",
       "      <td>29.84</td>\n",
       "      <td>F</td>\n",
       "      <td>UT</td>\n",
       "      <td>302</td>\n",
       "      <td>39.450498</td>\n",
       "      <td>-109.960431</td>\n",
       "      <td>0</td>\n",
       "    </tr>\n",
       "    <tr>\n",
       "      <th>2</th>\n",
       "      <td>health_fitness</td>\n",
       "      <td>41.28</td>\n",
       "      <td>F</td>\n",
       "      <td>NY</td>\n",
       "      <td>34496</td>\n",
       "      <td>40.495810</td>\n",
       "      <td>-74.196111</td>\n",
       "      <td>0</td>\n",
       "    </tr>\n",
       "    <tr>\n",
       "      <th>3</th>\n",
       "      <td>misc_pos</td>\n",
       "      <td>60.05</td>\n",
       "      <td>M</td>\n",
       "      <td>FL</td>\n",
       "      <td>54767</td>\n",
       "      <td>28.812398</td>\n",
       "      <td>-80.883061</td>\n",
       "      <td>0</td>\n",
       "    </tr>\n",
       "    <tr>\n",
       "      <th>4</th>\n",
       "      <td>travel</td>\n",
       "      <td>3.19</td>\n",
       "      <td>M</td>\n",
       "      <td>MI</td>\n",
       "      <td>1126</td>\n",
       "      <td>44.959148</td>\n",
       "      <td>-85.884734</td>\n",
       "      <td>0</td>\n",
       "    </tr>\n",
       "  </tbody>\n",
       "</table>\n",
       "</div>"
      ],
      "text/plain": [
       "         category    amt gender state  city_pop  merch_lat  merch_long  \\\n",
       "0   personal_care   2.86      M    SC    333497  33.986391  -81.200714   \n",
       "1   personal_care  29.84      F    UT       302  39.450498 -109.960431   \n",
       "2  health_fitness  41.28      F    NY     34496  40.495810  -74.196111   \n",
       "3        misc_pos  60.05      M    FL     54767  28.812398  -80.883061   \n",
       "4          travel   3.19      M    MI      1126  44.959148  -85.884734   \n",
       "\n",
       "   is_fraud  \n",
       "0         0  \n",
       "1         0  \n",
       "2         0  \n",
       "3         0  \n",
       "4         0  "
      ]
     },
     "execution_count": 21,
     "metadata": {},
     "output_type": "execute_result"
    }
   ],
   "source": [
    "df_fraudTest.head()"
   ]
  },
  {
   "cell_type": "markdown",
   "id": "bc13d208",
   "metadata": {},
   "source": [
    "#### Splitting the dataset into training and testing datasets"
   ]
  },
  {
   "cell_type": "markdown",
   "id": "01ff56b6",
   "metadata": {},
   "source": [
    "Separating the independent variables and the dependent variable"
   ]
  },
  {
   "cell_type": "code",
   "execution_count": 22,
   "id": "cf67fd1a",
   "metadata": {},
   "outputs": [],
   "source": [
    "X = df_fraudTest.drop(columns=[\"is_fraud\"], axis=1)\n",
    "Y = df_fraudTest.is_fraud"
   ]
  },
  {
   "cell_type": "markdown",
   "id": "e7ba455e",
   "metadata": {},
   "source": [
    "Performing **train test split** using **scikit learn** module"
   ]
  },
  {
   "cell_type": "code",
   "execution_count": 23,
   "id": "efbf53d3",
   "metadata": {},
   "outputs": [],
   "source": [
    "from sklearn.model_selection import train_test_split, StratifiedShuffleSplit\n",
    "X_train, X_test, y_train, y_test = train_test_split(X, Y, test_size = 0.5, random_state = 42, shuffle=True)"
   ]
  },
  {
   "cell_type": "markdown",
   "id": "d77f581d",
   "metadata": {},
   "source": [
    "Checking the shape of the training and testing dataframes"
   ]
  },
  {
   "cell_type": "code",
   "execution_count": 24,
   "id": "0b324593",
   "metadata": {},
   "outputs": [
    {
     "data": {
      "text/plain": [
       "(277859, 7)"
      ]
     },
     "execution_count": 24,
     "metadata": {},
     "output_type": "execute_result"
    }
   ],
   "source": [
    "X_train.shape"
   ]
  },
  {
   "cell_type": "code",
   "execution_count": 25,
   "id": "5139b567",
   "metadata": {},
   "outputs": [
    {
     "data": {
      "text/plain": [
       "(277860, 7)"
      ]
     },
     "execution_count": 25,
     "metadata": {},
     "output_type": "execute_result"
    }
   ],
   "source": [
    "X_test.shape"
   ]
  },
  {
   "cell_type": "code",
   "execution_count": 26,
   "id": "24a2336d",
   "metadata": {},
   "outputs": [
    {
     "data": {
      "text/plain": [
       "(277859,)"
      ]
     },
     "execution_count": 26,
     "metadata": {},
     "output_type": "execute_result"
    }
   ],
   "source": [
    "y_train.shape"
   ]
  },
  {
   "cell_type": "code",
   "execution_count": 27,
   "id": "3735356d",
   "metadata": {},
   "outputs": [
    {
     "data": {
      "text/plain": [
       "(277860,)"
      ]
     },
     "execution_count": 27,
     "metadata": {},
     "output_type": "execute_result"
    }
   ],
   "source": [
    "y_test.shape"
   ]
  },
  {
   "cell_type": "markdown",
   "id": "05ccd708",
   "metadata": {},
   "source": [
    "Joining the training dataframe"
   ]
  },
  {
   "cell_type": "code",
   "execution_count": 28,
   "id": "e59fee44",
   "metadata": {},
   "outputs": [],
   "source": [
    "df_train = X_train.join(y_train, how='inner')"
   ]
  },
  {
   "cell_type": "markdown",
   "id": "e0860114",
   "metadata": {},
   "source": [
    "Joining the testing dataframe"
   ]
  },
  {
   "cell_type": "code",
   "execution_count": 29,
   "id": "4ff9917b",
   "metadata": {},
   "outputs": [],
   "source": [
    "df_test = X_test.join(y_test, how='inner')"
   ]
  },
  {
   "cell_type": "markdown",
   "id": "b5841804",
   "metadata": {},
   "source": [
    "Resetting the indices for the training and test dataframes"
   ]
  },
  {
   "cell_type": "code",
   "execution_count": 30,
   "id": "c6f1530e",
   "metadata": {},
   "outputs": [],
   "source": [
    "df_train.reset_index(inplace = True, drop = True)"
   ]
  },
  {
   "cell_type": "code",
   "execution_count": 31,
   "id": "0fda4555",
   "metadata": {},
   "outputs": [],
   "source": [
    "df_test.reset_index(inplace = True, drop = True)"
   ]
  },
  {
   "cell_type": "markdown",
   "id": "1e7a654a",
   "metadata": {},
   "source": [
    "Now we will clean the training dataset"
   ]
  },
  {
   "cell_type": "markdown",
   "id": "ab601fb9",
   "metadata": {},
   "source": [
    "Checking if there is any missing value in the dataset"
   ]
  },
  {
   "cell_type": "code",
   "execution_count": 32,
   "id": "ec6b700f",
   "metadata": {},
   "outputs": [
    {
     "data": {
      "text/plain": [
       "category      0\n",
       "amt           0\n",
       "gender        0\n",
       "state         0\n",
       "city_pop      0\n",
       "merch_lat     0\n",
       "merch_long    0\n",
       "is_fraud      0\n",
       "dtype: int64"
      ]
     },
     "execution_count": 32,
     "metadata": {},
     "output_type": "execute_result"
    }
   ],
   "source": [
    "df_train.isnull().sum()"
   ]
  },
  {
   "cell_type": "markdown",
   "id": "e0c9055c",
   "metadata": {},
   "source": [
    "It can be observed there are no missing values in the training dataset"
   ]
  },
  {
   "cell_type": "code",
   "execution_count": 33,
   "id": "16cf238f",
   "metadata": {},
   "outputs": [
    {
     "data": {
      "text/html": [
       "<div>\n",
       "<style scoped>\n",
       "    .dataframe tbody tr th:only-of-type {\n",
       "        vertical-align: middle;\n",
       "    }\n",
       "\n",
       "    .dataframe tbody tr th {\n",
       "        vertical-align: top;\n",
       "    }\n",
       "\n",
       "    .dataframe thead th {\n",
       "        text-align: right;\n",
       "    }\n",
       "</style>\n",
       "<table border=\"1\" class=\"dataframe\">\n",
       "  <thead>\n",
       "    <tr style=\"text-align: right;\">\n",
       "      <th></th>\n",
       "      <th>category</th>\n",
       "      <th>amt</th>\n",
       "      <th>gender</th>\n",
       "      <th>state</th>\n",
       "      <th>city_pop</th>\n",
       "      <th>merch_lat</th>\n",
       "      <th>merch_long</th>\n",
       "      <th>is_fraud</th>\n",
       "    </tr>\n",
       "  </thead>\n",
       "  <tbody>\n",
       "    <tr>\n",
       "      <th>0</th>\n",
       "      <td>home</td>\n",
       "      <td>6.80</td>\n",
       "      <td>M</td>\n",
       "      <td>MD</td>\n",
       "      <td>626</td>\n",
       "      <td>39.752861</td>\n",
       "      <td>-78.727874</td>\n",
       "      <td>0</td>\n",
       "    </tr>\n",
       "    <tr>\n",
       "      <th>1</th>\n",
       "      <td>gas_transport</td>\n",
       "      <td>61.74</td>\n",
       "      <td>M</td>\n",
       "      <td>OR</td>\n",
       "      <td>841711</td>\n",
       "      <td>45.341148</td>\n",
       "      <td>-123.117822</td>\n",
       "      <td>0</td>\n",
       "    </tr>\n",
       "    <tr>\n",
       "      <th>2</th>\n",
       "      <td>shopping_pos</td>\n",
       "      <td>1501.30</td>\n",
       "      <td>F</td>\n",
       "      <td>WV</td>\n",
       "      <td>16183</td>\n",
       "      <td>39.324516</td>\n",
       "      <td>-81.006573</td>\n",
       "      <td>0</td>\n",
       "    </tr>\n",
       "    <tr>\n",
       "      <th>3</th>\n",
       "      <td>food_dining</td>\n",
       "      <td>1.90</td>\n",
       "      <td>F</td>\n",
       "      <td>MD</td>\n",
       "      <td>313</td>\n",
       "      <td>37.554991</td>\n",
       "      <td>-75.473321</td>\n",
       "      <td>0</td>\n",
       "    </tr>\n",
       "    <tr>\n",
       "      <th>4</th>\n",
       "      <td>entertainment</td>\n",
       "      <td>66.09</td>\n",
       "      <td>F</td>\n",
       "      <td>TX</td>\n",
       "      <td>1563</td>\n",
       "      <td>32.554119</td>\n",
       "      <td>-96.383418</td>\n",
       "      <td>0</td>\n",
       "    </tr>\n",
       "  </tbody>\n",
       "</table>\n",
       "</div>"
      ],
      "text/plain": [
       "        category      amt gender state  city_pop  merch_lat  merch_long  \\\n",
       "0           home     6.80      M    MD       626  39.752861  -78.727874   \n",
       "1  gas_transport    61.74      M    OR    841711  45.341148 -123.117822   \n",
       "2   shopping_pos  1501.30      F    WV     16183  39.324516  -81.006573   \n",
       "3    food_dining     1.90      F    MD       313  37.554991  -75.473321   \n",
       "4  entertainment    66.09      F    TX      1563  32.554119  -96.383418   \n",
       "\n",
       "   is_fraud  \n",
       "0         0  \n",
       "1         0  \n",
       "2         0  \n",
       "3         0  \n",
       "4         0  "
      ]
     },
     "execution_count": 33,
     "metadata": {},
     "output_type": "execute_result"
    }
   ],
   "source": [
    "df_train.head()"
   ]
  },
  {
   "cell_type": "code",
   "execution_count": 34,
   "id": "1bd08cb6",
   "metadata": {},
   "outputs": [
    {
     "name": "stdout",
     "output_type": "stream",
     "text": [
      "<class 'pandas.core.frame.DataFrame'>\n",
      "RangeIndex: 277859 entries, 0 to 277858\n",
      "Data columns (total 8 columns):\n",
      " #   Column      Non-Null Count   Dtype  \n",
      "---  ------      --------------   -----  \n",
      " 0   category    277859 non-null  object \n",
      " 1   amt         277859 non-null  float64\n",
      " 2   gender      277859 non-null  object \n",
      " 3   state       277859 non-null  object \n",
      " 4   city_pop    277859 non-null  int64  \n",
      " 5   merch_lat   277859 non-null  float64\n",
      " 6   merch_long  277859 non-null  float64\n",
      " 7   is_fraud    277859 non-null  int64  \n",
      "dtypes: float64(3), int64(2), object(3)\n",
      "memory usage: 17.0+ MB\n"
     ]
    }
   ],
   "source": [
    "df_train.info()"
   ]
  },
  {
   "cell_type": "markdown",
   "id": "b91b9e79",
   "metadata": {},
   "source": [
    "It can be observed that there are **277859** rows in the training dataset"
   ]
  },
  {
   "cell_type": "markdown",
   "id": "21ca5b8d",
   "metadata": {},
   "source": [
    "#### Extracting the continuous features from the data"
   ]
  },
  {
   "cell_type": "code",
   "execution_count": 35,
   "id": "f5993cca",
   "metadata": {},
   "outputs": [],
   "source": [
    "continuous_features = [feature for feature in df_train.select_dtypes(np.number).columns if feature not in ['merch_lat', 'merch_long', 'is_fraud']]"
   ]
  },
  {
   "cell_type": "code",
   "execution_count": 36,
   "id": "8a7eee70",
   "metadata": {},
   "outputs": [
    {
     "data": {
      "text/plain": [
       "['amt', 'city_pop']"
      ]
     },
     "execution_count": 36,
     "metadata": {},
     "output_type": "execute_result"
    }
   ],
   "source": [
    "continuous_features"
   ]
  },
  {
   "cell_type": "markdown",
   "id": "f9d1eec3",
   "metadata": {},
   "source": [
    "#### Plotting Boxplots to identify Univariate outliers"
   ]
  },
  {
   "cell_type": "code",
   "execution_count": 37,
   "id": "da543afb",
   "metadata": {},
   "outputs": [],
   "source": [
    "def create_boxplots(dataset, feature_list, target):\n",
    "    for feature in feature_list:\n",
    "        plt.figure(figsize=(8,8))\n",
    "        plt.subplot(2,2,1)\n",
    "        dataset.boxplot(column=feature)\n",
    "        plt.ylabel(feature)\n",
    "        plt.title(feature)\n",
    "        plt.subplot(2,2,2)\n",
    "        sns.boxplot(x=dataset[target], y=dataset[feature], data=dataset, hue=target, color='orange')\n",
    "        plt.ylabel(feature)\n",
    "        plt.title(feature)\n",
    "        plt.show()"
   ]
  },
  {
   "cell_type": "code",
   "execution_count": 38,
   "id": "63087eb1",
   "metadata": {},
   "outputs": [
    {
     "data": {
      "image/png": "[encoded data removed]",
      "text/plain": [
       "<Figure size 800x800 with 2 Axes>"
      ]
     },
     "metadata": {},
     "output_type": "display_data"
    },
    {
     "data": {
      "image/png": "[encoded data removed]",
      "text/plain": [
       "<Figure size 800x800 with 2 Axes>"
      ]
     },
     "metadata": {},
     "output_type": "display_data"
    }
   ],
   "source": [
    "create_boxplots(df_train, continuous_features, 'is_fraud')"
   ]
  },
  {
   "cell_type": "markdown",
   "id": "8b68243d",
   "metadata": {},
   "source": [
    "From the boxplots, it can be observed that the above continuous features have univariate outliers"
   ]
  },
  {
   "cell_type": "markdown",
   "id": "8bfe4e3c",
   "metadata": {},
   "source": [
    "#### Plotting histograms and distplots to check the distributions of continuous variables"
   ]
  },
  {
   "cell_type": "code",
   "execution_count": 39,
   "id": "e7b60464",
   "metadata": {},
   "outputs": [],
   "source": [
    "def create_histograms_distplots(dataset, feature_list):\n",
    "    for feature in feature_list:\n",
    "        plt.figure(figsize=(10,10))\n",
    "        plt.subplot(2,2,1)\n",
    "        plt.hist(dataset[feature].dropna())\n",
    "        plt.xlabel(feature)\n",
    "        plt.ylabel(feature)\n",
    "        plt.title(feature)\n",
    "        plt.subplot(2,2,2)\n",
    "        sns.distplot(dataset[feature])\n",
    "        plt.xlabel(feature)\n",
    "        plt.show()"
   ]
  },
  {
   "cell_type": "code",
   "execution_count": 40,
   "id": "32ff04ab",
   "metadata": {},
   "outputs": [
    {
     "data": {
      "image/png": "[encoded data removed]",
      "text/plain": [
       "<Figure size 1000x1000 with 2 Axes>"
      ]
     },
     "metadata": {},
     "output_type": "display_data"
    },
    {
     "data": {
      "image/png": "[encoded data removed]",
      "text/plain": [
       "<Figure size 1000x1000 with 2 Axes>"
      ]
     },
     "metadata": {},
     "output_type": "display_data"
    }
   ],
   "source": [
    "create_histograms_distplots(df_train, continuous_features)"
   ]
  },
  {
   "cell_type": "markdown",
   "id": "6030bb65",
   "metadata": {},
   "source": [
    "From the above histograms and distplots, it can be observed that the above continuous features have skewness"
   ]
  },
  {
   "cell_type": "markdown",
   "id": "8048b09f",
   "metadata": {},
   "source": [
    "#### Plotting a Heatmap for correlation analysis"
   ]
  },
  {
   "cell_type": "code",
   "execution_count": 41,
   "id": "ba4bb523",
   "metadata": {},
   "outputs": [
    {
     "data": {
      "text/plain": [
       "<AxesSubplot:>"
      ]
     },
     "execution_count": 41,
     "metadata": {},
     "output_type": "execute_result"
    },
    {
     "data": {
      "image/png": "[encoded data removed]",
      "text/plain": [
       "<Figure size 1000x1000 with 2 Axes>"
      ]
     },
     "metadata": {},
     "output_type": "display_data"
    }
   ],
   "source": [
    "plt.figure(figsize=(10,10))\n",
    "sns.heatmap(df_train.corr(), annot=True, cmap=\"RdYlGn\")"
   ]
  },
  {
   "cell_type": "markdown",
   "id": "14049fb0",
   "metadata": {},
   "source": [
    "The correlation analysis using heatmap shows values of pearson correlation coefficient for the respective combinations of the features. The pearson correlation coefficient varies from -1 to 1. The stronger the negative value, the more inversely related are the features. The stronger the positive value, the stronger the direct relationship between the features. A value of zero means the features are independent of each other.\n",
    "\n",
    "The correlation analysis will have effect on the feature selection. The combination of features which are strongly and directly related to each other need to be considered. One of such features can be dropped as all of such features will have the same impact on the target feature."
   ]
  },
  {
   "cell_type": "markdown",
   "id": "76f551da",
   "metadata": {},
   "source": [
    "#### Creating Pivot table"
   ]
  },
  {
   "cell_type": "code",
   "execution_count": 42,
   "id": "9af802c8",
   "metadata": {},
   "outputs": [
    {
     "data": {
      "text/html": [
       "<div>\n",
       "<style scoped>\n",
       "    .dataframe tbody tr th:only-of-type {\n",
       "        vertical-align: middle;\n",
       "    }\n",
       "\n",
       "    .dataframe tbody tr th {\n",
       "        vertical-align: top;\n",
       "    }\n",
       "\n",
       "    .dataframe thead tr th {\n",
       "        text-align: left;\n",
       "    }\n",
       "\n",
       "    .dataframe thead tr:last-of-type th {\n",
       "        text-align: right;\n",
       "    }\n",
       "</style>\n",
       "<table border=\"1\" class=\"dataframe\">\n",
       "  <thead>\n",
       "    <tr>\n",
       "      <th></th>\n",
       "      <th colspan=\"4\" halign=\"left\">median</th>\n",
       "    </tr>\n",
       "    <tr>\n",
       "      <th></th>\n",
       "      <th>amt</th>\n",
       "      <th>city_pop</th>\n",
       "      <th>merch_lat</th>\n",
       "      <th>merch_long</th>\n",
       "    </tr>\n",
       "    <tr>\n",
       "      <th>is_fraud</th>\n",
       "      <th></th>\n",
       "      <th></th>\n",
       "      <th></th>\n",
       "      <th></th>\n",
       "    </tr>\n",
       "  </thead>\n",
       "  <tbody>\n",
       "    <tr>\n",
       "      <th>0</th>\n",
       "      <td>47.01</td>\n",
       "      <td>2408</td>\n",
       "      <td>39.360680</td>\n",
       "      <td>-87.465025</td>\n",
       "    </tr>\n",
       "    <tr>\n",
       "      <th>1</th>\n",
       "      <td>382.18</td>\n",
       "      <td>3289</td>\n",
       "      <td>39.865905</td>\n",
       "      <td>-88.077309</td>\n",
       "    </tr>\n",
       "  </tbody>\n",
       "</table>\n",
       "</div>"
      ],
      "text/plain": [
       "          median                               \n",
       "             amt city_pop  merch_lat merch_long\n",
       "is_fraud                                       \n",
       "0          47.01     2408  39.360680 -87.465025\n",
       "1         382.18     3289  39.865905 -88.077309"
      ]
     },
     "execution_count": 42,
     "metadata": {},
     "output_type": "execute_result"
    }
   ],
   "source": [
    "pd.pivot_table(df_train, index='is_fraud', values=['amt', 'city_pop', 'merch_lat', 'merch_long'], aggfunc=['median'])"
   ]
  },
  {
   "cell_type": "markdown",
   "id": "9522432a",
   "metadata": {},
   "source": [
    "It can be observed that fraud transactions correspond to a much higher median **amt(amount)** and **city_pop(city population)**. This implies that when the trnsaction amount is high, it is more likely for the transaction to be fraudulent"
   ]
  },
  {
   "cell_type": "code",
   "execution_count": 43,
   "id": "d4abeb49",
   "metadata": {},
   "outputs": [
    {
     "data": {
      "text/html": [
       "<div>\n",
       "<style scoped>\n",
       "    .dataframe tbody tr th:only-of-type {\n",
       "        vertical-align: middle;\n",
       "    }\n",
       "\n",
       "    .dataframe tbody tr th {\n",
       "        vertical-align: top;\n",
       "    }\n",
       "\n",
       "    .dataframe thead th {\n",
       "        text-align: right;\n",
       "    }\n",
       "</style>\n",
       "<table border=\"1\" class=\"dataframe\">\n",
       "  <thead>\n",
       "    <tr style=\"text-align: right;\">\n",
       "      <th></th>\n",
       "      <th>amt</th>\n",
       "      <th>city_pop</th>\n",
       "      <th>merch_lat</th>\n",
       "      <th>merch_long</th>\n",
       "    </tr>\n",
       "    <tr>\n",
       "      <th>gender</th>\n",
       "      <th></th>\n",
       "      <th></th>\n",
       "      <th></th>\n",
       "      <th></th>\n",
       "    </tr>\n",
       "  </thead>\n",
       "  <tbody>\n",
       "    <tr>\n",
       "      <th>F</th>\n",
       "      <td>43.16</td>\n",
       "      <td>2211</td>\n",
       "      <td>39.139656</td>\n",
       "      <td>-88.551806</td>\n",
       "    </tr>\n",
       "    <tr>\n",
       "      <th>M</th>\n",
       "      <td>51.32</td>\n",
       "      <td>2916</td>\n",
       "      <td>39.624762</td>\n",
       "      <td>-86.605122</td>\n",
       "    </tr>\n",
       "  </tbody>\n",
       "</table>\n",
       "</div>"
      ],
      "text/plain": [
       "          amt  city_pop  merch_lat  merch_long\n",
       "gender                                        \n",
       "F       43.16      2211  39.139656  -88.551806\n",
       "M       51.32      2916  39.624762  -86.605122"
      ]
     },
     "execution_count": 43,
     "metadata": {},
     "output_type": "execute_result"
    }
   ],
   "source": [
    "pd.pivot_table(df_train, index='gender', values=['amt', 'city_pop', 'merch_lat', 'merch_long'], aggfunc='median')"
   ]
  },
  {
   "cell_type": "markdown",
   "id": "576f5e0e",
   "metadata": {},
   "source": [
    "It can be observed that males correspond to a higher median **amt(transaction amount)** and comprise a higher **city_pop(city population)**. This implies that males spend more and there are more number of males in the considered geographical area"
   ]
  },
  {
   "cell_type": "code",
   "execution_count": 44,
   "id": "aceda8b8",
   "metadata": {},
   "outputs": [
    {
     "data": {
      "text/html": [
       "<div>\n",
       "<style scoped>\n",
       "    .dataframe tbody tr th:only-of-type {\n",
       "        vertical-align: middle;\n",
       "    }\n",
       "\n",
       "    .dataframe tbody tr th {\n",
       "        vertical-align: top;\n",
       "    }\n",
       "\n",
       "    .dataframe thead th {\n",
       "        text-align: right;\n",
       "    }\n",
       "</style>\n",
       "<table border=\"1\" class=\"dataframe\">\n",
       "  <thead>\n",
       "    <tr style=\"text-align: right;\">\n",
       "      <th></th>\n",
       "      <th></th>\n",
       "      <th>Count of males/females</th>\n",
       "    </tr>\n",
       "    <tr>\n",
       "      <th>is_fraud</th>\n",
       "      <th>gender</th>\n",
       "      <th></th>\n",
       "    </tr>\n",
       "  </thead>\n",
       "  <tbody>\n",
       "    <tr>\n",
       "      <th rowspan=\"2\" valign=\"top\">0</th>\n",
       "      <th>F</th>\n",
       "      <td>152096</td>\n",
       "    </tr>\n",
       "    <tr>\n",
       "      <th>M</th>\n",
       "      <td>124700</td>\n",
       "    </tr>\n",
       "    <tr>\n",
       "      <th rowspan=\"2\" valign=\"top\">1</th>\n",
       "      <th>F</th>\n",
       "      <td>592</td>\n",
       "    </tr>\n",
       "    <tr>\n",
       "      <th>M</th>\n",
       "      <td>471</td>\n",
       "    </tr>\n",
       "  </tbody>\n",
       "</table>\n",
       "</div>"
      ],
      "text/plain": [
       "                 Count of males/females\n",
       "is_fraud gender                        \n",
       "0        F                       152096\n",
       "         M                       124700\n",
       "1        F                          592\n",
       "         M                          471"
      ]
     },
     "execution_count": 44,
     "metadata": {},
     "output_type": "execute_result"
    }
   ],
   "source": [
    "df_train.groupby(['is_fraud', 'gender'])[['gender']].count().sort_values(['is_fraud']).rename(columns={'gender':'Count of males/females'})"
   ]
  },
  {
   "cell_type": "markdown",
   "id": "9ce21891",
   "metadata": {},
   "source": [
    "The above table shows the count of males/females for genuine and fraudulent transactions"
   ]
  },
  {
   "cell_type": "code",
   "execution_count": 45,
   "id": "87794950",
   "metadata": {},
   "outputs": [
    {
     "data": {
      "text/plain": [
       "<AxesSubplot:xlabel='is_fraud,gender'>"
      ]
     },
     "execution_count": 45,
     "metadata": {},
     "output_type": "execute_result"
    },
    {
     "data": {
      "image/png": "[encoded data removed]",
      "text/plain": [
       "<Figure size 640x480 with 1 Axes>"
      ]
     },
     "metadata": {},
     "output_type": "display_data"
    }
   ],
   "source": [
    "df_train.groupby(['is_fraud', 'gender'])[['gender']].count().sort_values(['is_fraud']).rename(columns={'gender':'Count of males/females'}).plot(kind='bar')"
   ]
  },
  {
   "cell_type": "markdown",
   "id": "bb47ff85",
   "metadata": {},
   "source": [
    "The above bar chart shows that there is higher count of females than males for genuine transactions. For fraudulent transactions, the number of males and females are approximately the same"
   ]
  },
  {
   "cell_type": "code",
   "execution_count": 46,
   "id": "873b30d7",
   "metadata": {},
   "outputs": [
    {
     "data": {
      "text/html": [
       "<div>\n",
       "<style scoped>\n",
       "    .dataframe tbody tr th:only-of-type {\n",
       "        vertical-align: middle;\n",
       "    }\n",
       "\n",
       "    .dataframe tbody tr th {\n",
       "        vertical-align: top;\n",
       "    }\n",
       "\n",
       "    .dataframe thead th {\n",
       "        text-align: right;\n",
       "    }\n",
       "</style>\n",
       "<table border=\"1\" class=\"dataframe\">\n",
       "  <thead>\n",
       "    <tr style=\"text-align: right;\">\n",
       "      <th></th>\n",
       "      <th>category</th>\n",
       "      <th>amt</th>\n",
       "      <th>gender</th>\n",
       "      <th>state</th>\n",
       "      <th>city_pop</th>\n",
       "      <th>merch_lat</th>\n",
       "      <th>merch_long</th>\n",
       "      <th>is_fraud</th>\n",
       "    </tr>\n",
       "  </thead>\n",
       "  <tbody>\n",
       "    <tr>\n",
       "      <th>0</th>\n",
       "      <td>home</td>\n",
       "      <td>6.80</td>\n",
       "      <td>M</td>\n",
       "      <td>MD</td>\n",
       "      <td>626</td>\n",
       "      <td>39.752861</td>\n",
       "      <td>-78.727874</td>\n",
       "      <td>0</td>\n",
       "    </tr>\n",
       "    <tr>\n",
       "      <th>1</th>\n",
       "      <td>gas_transport</td>\n",
       "      <td>61.74</td>\n",
       "      <td>M</td>\n",
       "      <td>OR</td>\n",
       "      <td>841711</td>\n",
       "      <td>45.341148</td>\n",
       "      <td>-123.117822</td>\n",
       "      <td>0</td>\n",
       "    </tr>\n",
       "    <tr>\n",
       "      <th>2</th>\n",
       "      <td>shopping_pos</td>\n",
       "      <td>1501.30</td>\n",
       "      <td>F</td>\n",
       "      <td>WV</td>\n",
       "      <td>16183</td>\n",
       "      <td>39.324516</td>\n",
       "      <td>-81.006573</td>\n",
       "      <td>0</td>\n",
       "    </tr>\n",
       "    <tr>\n",
       "      <th>3</th>\n",
       "      <td>food_dining</td>\n",
       "      <td>1.90</td>\n",
       "      <td>F</td>\n",
       "      <td>MD</td>\n",
       "      <td>313</td>\n",
       "      <td>37.554991</td>\n",
       "      <td>-75.473321</td>\n",
       "      <td>0</td>\n",
       "    </tr>\n",
       "    <tr>\n",
       "      <th>4</th>\n",
       "      <td>entertainment</td>\n",
       "      <td>66.09</td>\n",
       "      <td>F</td>\n",
       "      <td>TX</td>\n",
       "      <td>1563</td>\n",
       "      <td>32.554119</td>\n",
       "      <td>-96.383418</td>\n",
       "      <td>0</td>\n",
       "    </tr>\n",
       "  </tbody>\n",
       "</table>\n",
       "</div>"
      ],
      "text/plain": [
       "        category      amt gender state  city_pop  merch_lat  merch_long  \\\n",
       "0           home     6.80      M    MD       626  39.752861  -78.727874   \n",
       "1  gas_transport    61.74      M    OR    841711  45.341148 -123.117822   \n",
       "2   shopping_pos  1501.30      F    WV     16183  39.324516  -81.006573   \n",
       "3    food_dining     1.90      F    MD       313  37.554991  -75.473321   \n",
       "4  entertainment    66.09      F    TX      1563  32.554119  -96.383418   \n",
       "\n",
       "   is_fraud  \n",
       "0         0  \n",
       "1         0  \n",
       "2         0  \n",
       "3         0  \n",
       "4         0  "
      ]
     },
     "execution_count": 46,
     "metadata": {},
     "output_type": "execute_result"
    }
   ],
   "source": [
    "df_train.head()"
   ]
  },
  {
   "cell_type": "code",
   "execution_count": 47,
   "id": "7b48a556",
   "metadata": {},
   "outputs": [
    {
     "data": {
      "text/html": [
       "<div>\n",
       "<style scoped>\n",
       "    .dataframe tbody tr th:only-of-type {\n",
       "        vertical-align: middle;\n",
       "    }\n",
       "\n",
       "    .dataframe tbody tr th {\n",
       "        vertical-align: top;\n",
       "    }\n",
       "\n",
       "    .dataframe thead th {\n",
       "        text-align: right;\n",
       "    }\n",
       "</style>\n",
       "<table border=\"1\" class=\"dataframe\">\n",
       "  <thead>\n",
       "    <tr style=\"text-align: right;\">\n",
       "      <th></th>\n",
       "      <th></th>\n",
       "      <th>Count of merchants</th>\n",
       "    </tr>\n",
       "    <tr>\n",
       "      <th>is_fraud</th>\n",
       "      <th>category</th>\n",
       "      <th></th>\n",
       "    </tr>\n",
       "  </thead>\n",
       "  <tbody>\n",
       "    <tr>\n",
       "      <th rowspan=\"14\" valign=\"top\">0</th>\n",
       "      <th>entertainment</th>\n",
       "      <td>19918</td>\n",
       "    </tr>\n",
       "    <tr>\n",
       "      <th>shopping_pos</th>\n",
       "      <td>24790</td>\n",
       "    </tr>\n",
       "    <tr>\n",
       "      <th>shopping_net</th>\n",
       "      <td>20503</td>\n",
       "    </tr>\n",
       "    <tr>\n",
       "      <th>personal_care</th>\n",
       "      <td>19681</td>\n",
       "    </tr>\n",
       "    <tr>\n",
       "      <th>misc_pos</th>\n",
       "      <td>17351</td>\n",
       "    </tr>\n",
       "    <tr>\n",
       "      <th>misc_net</th>\n",
       "      <td>13593</td>\n",
       "    </tr>\n",
       "    <tr>\n",
       "      <th>kids_pets</th>\n",
       "      <td>24490</td>\n",
       "    </tr>\n",
       "    <tr>\n",
       "      <th>travel</th>\n",
       "      <td>8710</td>\n",
       "    </tr>\n",
       "    <tr>\n",
       "      <th>health_fitness</th>\n",
       "      <td>18288</td>\n",
       "    </tr>\n",
       "    <tr>\n",
       "      <th>grocery_pos</th>\n",
       "      <td>25888</td>\n",
       "    </tr>\n",
       "    <tr>\n",
       "      <th>grocery_net</th>\n",
       "      <td>9643</td>\n",
       "    </tr>\n",
       "    <tr>\n",
       "      <th>gas_transport</th>\n",
       "      <td>28170</td>\n",
       "    </tr>\n",
       "    <tr>\n",
       "      <th>food_dining</th>\n",
       "      <td>19688</td>\n",
       "    </tr>\n",
       "    <tr>\n",
       "      <th>home</th>\n",
       "      <td>26083</td>\n",
       "    </tr>\n",
       "    <tr>\n",
       "      <th rowspan=\"14\" valign=\"top\">1</th>\n",
       "      <th>shopping_net</th>\n",
       "      <td>256</td>\n",
       "    </tr>\n",
       "    <tr>\n",
       "      <th>personal_care</th>\n",
       "      <td>37</td>\n",
       "    </tr>\n",
       "    <tr>\n",
       "      <th>misc_pos</th>\n",
       "      <td>34</td>\n",
       "    </tr>\n",
       "    <tr>\n",
       "      <th>misc_net</th>\n",
       "      <td>129</td>\n",
       "    </tr>\n",
       "    <tr>\n",
       "      <th>kids_pets</th>\n",
       "      <td>33</td>\n",
       "    </tr>\n",
       "    <tr>\n",
       "      <th>home</th>\n",
       "      <td>30</td>\n",
       "    </tr>\n",
       "    <tr>\n",
       "      <th>grocery_net</th>\n",
       "      <td>16</td>\n",
       "    </tr>\n",
       "    <tr>\n",
       "      <th>grocery_pos</th>\n",
       "      <td>254</td>\n",
       "    </tr>\n",
       "    <tr>\n",
       "      <th>gas_transport</th>\n",
       "      <td>69</td>\n",
       "    </tr>\n",
       "    <tr>\n",
       "      <th>food_dining</th>\n",
       "      <td>23</td>\n",
       "    </tr>\n",
       "    <tr>\n",
       "      <th>entertainment</th>\n",
       "      <td>29</td>\n",
       "    </tr>\n",
       "    <tr>\n",
       "      <th>shopping_pos</th>\n",
       "      <td>106</td>\n",
       "    </tr>\n",
       "    <tr>\n",
       "      <th>health_fitness</th>\n",
       "      <td>26</td>\n",
       "    </tr>\n",
       "    <tr>\n",
       "      <th>travel</th>\n",
       "      <td>21</td>\n",
       "    </tr>\n",
       "  </tbody>\n",
       "</table>\n",
       "</div>"
      ],
      "text/plain": [
       "                         Count of merchants\n",
       "is_fraud category                          \n",
       "0        entertainment                19918\n",
       "         shopping_pos                 24790\n",
       "         shopping_net                 20503\n",
       "         personal_care                19681\n",
       "         misc_pos                     17351\n",
       "         misc_net                     13593\n",
       "         kids_pets                    24490\n",
       "         travel                        8710\n",
       "         health_fitness               18288\n",
       "         grocery_pos                  25888\n",
       "         grocery_net                   9643\n",
       "         gas_transport                28170\n",
       "         food_dining                  19688\n",
       "         home                         26083\n",
       "1        shopping_net                   256\n",
       "         personal_care                   37\n",
       "         misc_pos                        34\n",
       "         misc_net                       129\n",
       "         kids_pets                       33\n",
       "         home                            30\n",
       "         grocery_net                     16\n",
       "         grocery_pos                    254\n",
       "         gas_transport                   69\n",
       "         food_dining                     23\n",
       "         entertainment                   29\n",
       "         shopping_pos                   106\n",
       "         health_fitness                  26\n",
       "         travel                          21"
      ]
     },
     "execution_count": 47,
     "metadata": {},
     "output_type": "execute_result"
    }
   ],
   "source": [
    "df_train.groupby(['is_fraud', 'category'])[['category']].count().sort_values(['is_fraud']).rename(columns={'category':'Count of merchants'})"
   ]
  },
  {
   "cell_type": "code",
   "execution_count": 48,
   "id": "18a38052",
   "metadata": {},
   "outputs": [
    {
     "data": {
      "text/plain": [
       "<AxesSubplot:xlabel='is_fraud,category'>"
      ]
     },
     "execution_count": 48,
     "metadata": {},
     "output_type": "execute_result"
    },
    {
     "data": {
      "image/png": "[encoded data removed]",
      "text/plain": [
       "<Figure size 640x480 with 1 Axes>"
      ]
     },
     "metadata": {},
     "output_type": "display_data"
    }
   ],
   "source": [
    "df_train.groupby(['is_fraud', 'category'])[['category']].count().sort_values(['is_fraud']).rename(columns={'category':'Count of merchants'}).plot(kind='bar')"
   ]
  },
  {
   "cell_type": "markdown",
   "id": "df6b6254",
   "metadata": {},
   "source": [
    "#### Handling the outliers"
   ]
  },
  {
   "cell_type": "code",
   "execution_count": 49,
   "id": "dac6f36d",
   "metadata": {},
   "outputs": [],
   "source": [
    "def remove_outliers(dataset, list_of_features):\n",
    "    for feature in list_of_features:\n",
    "        IQR = dataset[feature].quantile(0.75)-dataset[feature].quantile(0.25)\n",
    "        lower_bridge = dataset[feature].quantile(0.25) - IQR*(1.5)\n",
    "        upper_bridge = dataset[feature].quantile(0.75) + IQR*(1.5)\n",
    "        dataset.loc[dataset[feature] >= upper_bridge, feature] = upper_bridge\n",
    "        dataset.loc[dataset[feature] <= lower_bridge, feature] = lower_bridge"
   ]
  },
  {
   "cell_type": "code",
   "execution_count": 50,
   "id": "df1b31ae",
   "metadata": {},
   "outputs": [],
   "source": [
    "remove_outliers(df_train, continuous_features)"
   ]
  },
  {
   "cell_type": "code",
   "execution_count": 51,
   "id": "3159e3dc",
   "metadata": {},
   "outputs": [
    {
     "data": {
      "image/png": "[encoded data removed]",
      "text/plain": [
       "<Figure size 800x800 with 2 Axes>"
      ]
     },
     "metadata": {},
     "output_type": "display_data"
    },
    {
     "data": {
      "image/png": "[encoded data removed]",
      "text/plain": [
       "<Figure size 800x800 with 2 Axes>"
      ]
     },
     "metadata": {},
     "output_type": "display_data"
    }
   ],
   "source": [
    "create_boxplots(df_train, continuous_features, 'is_fraud')"
   ]
  },
  {
   "cell_type": "markdown",
   "id": "5cfde39f",
   "metadata": {},
   "source": [
    "The univariate outliers have been treated"
   ]
  },
  {
   "cell_type": "markdown",
   "id": "15a2db0e",
   "metadata": {},
   "source": [
    "### Checking for skewness"
   ]
  },
  {
   "cell_type": "markdown",
   "id": "b8c160e4",
   "metadata": {},
   "source": [
    "Skewness scores to determine skewness in the column"
   ]
  },
  {
   "cell_type": "code",
   "execution_count": 52,
   "id": "5d34c283",
   "metadata": {},
   "outputs": [],
   "source": [
    "from scipy.stats import skew"
   ]
  },
  {
   "cell_type": "code",
   "execution_count": 53,
   "id": "c68f360b",
   "metadata": {},
   "outputs": [],
   "source": [
    "def skewness_score(dataset, feature_list):\n",
    "    variables = []\n",
    "    skew_scores = []\n",
    "    for feature in feature_list:\n",
    "        variables.append(feature)\n",
    "        skew_scores.append(skew(dataset[feature]))\n",
    "        skew_dict = {'Feature': variables, 'Skewness Score': skew_scores}\n",
    "        skewness_score = pd.DataFrame(skew_dict)\n",
    "    return skewness_score"
   ]
  },
  {
   "cell_type": "code",
   "execution_count": 54,
   "id": "4d612594",
   "metadata": {},
   "outputs": [
    {
     "data": {
      "text/html": [
       "<div>\n",
       "<style scoped>\n",
       "    .dataframe tbody tr th:only-of-type {\n",
       "        vertical-align: middle;\n",
       "    }\n",
       "\n",
       "    .dataframe tbody tr th {\n",
       "        vertical-align: top;\n",
       "    }\n",
       "\n",
       "    .dataframe thead th {\n",
       "        text-align: right;\n",
       "    }\n",
       "</style>\n",
       "<table border=\"1\" class=\"dataframe\">\n",
       "  <thead>\n",
       "    <tr style=\"text-align: right;\">\n",
       "      <th></th>\n",
       "      <th>Feature</th>\n",
       "      <th>Skewness Score</th>\n",
       "    </tr>\n",
       "  </thead>\n",
       "  <tbody>\n",
       "    <tr>\n",
       "      <th>0</th>\n",
       "      <td>amt</td>\n",
       "      <td>1.059482</td>\n",
       "    </tr>\n",
       "    <tr>\n",
       "      <th>1</th>\n",
       "      <td>city_pop</td>\n",
       "      <td>1.185163</td>\n",
       "    </tr>\n",
       "  </tbody>\n",
       "</table>\n",
       "</div>"
      ],
      "text/plain": [
       "    Feature  Skewness Score\n",
       "0       amt        1.059482\n",
       "1  city_pop        1.185163"
      ]
     },
     "execution_count": 54,
     "metadata": {},
     "output_type": "execute_result"
    }
   ],
   "source": [
    "skewness_score(df_train, continuous_features)"
   ]
  },
  {
   "cell_type": "markdown",
   "id": "581e6124",
   "metadata": {},
   "source": [
    "From the distplots and skewness scores, it can be observed that the feature columns **amt** and **city_pop** are considerably skewed. We will remove skewness by performing square root transformation"
   ]
  },
  {
   "cell_type": "code",
   "execution_count": 55,
   "id": "f863afbc",
   "metadata": {},
   "outputs": [
    {
     "data": {
      "text/plain": [
       "<AxesSubplot:xlabel='amt', ylabel='Density'>"
      ]
     },
     "execution_count": 55,
     "metadata": {},
     "output_type": "execute_result"
    },
    {
     "data": {
      "image/png": "[encoded data removed]",
      "text/plain": [
       "<Figure size 600x600 with 1 Axes>"
      ]
     },
     "metadata": {},
     "output_type": "display_data"
    }
   ],
   "source": [
    "plt.figure(figsize=(6,6))\n",
    "df_train['amt'] = np.sqrt(df_train['amt'])\n",
    "sns.distplot(df_train['amt'])"
   ]
  },
  {
   "cell_type": "code",
   "execution_count": 56,
   "id": "4ca838bd",
   "metadata": {},
   "outputs": [
    {
     "data": {
      "text/plain": [
       "<AxesSubplot:xlabel='city_pop', ylabel='Density'>"
      ]
     },
     "execution_count": 56,
     "metadata": {},
     "output_type": "execute_result"
    },
    {
     "data": {
      "image/png": "[encoded data removed]",
      "text/plain": [
       "<Figure size 600x600 with 1 Axes>"
      ]
     },
     "metadata": {},
     "output_type": "display_data"
    }
   ],
   "source": [
    "plt.figure(figsize=(6,6))\n",
    "df_train['city_pop'] = np.sqrt(df_train['city_pop'])\n",
    "sns.distplot(df_train['city_pop'])"
   ]
  },
  {
   "cell_type": "markdown",
   "id": "ea2156b9",
   "metadata": {},
   "source": [
    "The skewness has been handled"
   ]
  },
  {
   "cell_type": "markdown",
   "id": "ddd754bf",
   "metadata": {},
   "source": [
    "#### Separating the independent and dependent features in the training dataset"
   ]
  },
  {
   "cell_type": "code",
   "execution_count": 57,
   "id": "28ed74e6",
   "metadata": {},
   "outputs": [],
   "source": [
    "X = df_train.iloc[:,:-1]"
   ]
  },
  {
   "cell_type": "code",
   "execution_count": 58,
   "id": "ad6209ce",
   "metadata": {},
   "outputs": [],
   "source": [
    "Y = df_train.iloc[:,-1]"
   ]
  },
  {
   "cell_type": "code",
   "execution_count": 59,
   "id": "c1de63eb",
   "metadata": {},
   "outputs": [
    {
     "data": {
      "text/html": [
       "<div>\n",
       "<style scoped>\n",
       "    .dataframe tbody tr th:only-of-type {\n",
       "        vertical-align: middle;\n",
       "    }\n",
       "\n",
       "    .dataframe tbody tr th {\n",
       "        vertical-align: top;\n",
       "    }\n",
       "\n",
       "    .dataframe thead th {\n",
       "        text-align: right;\n",
       "    }\n",
       "</style>\n",
       "<table border=\"1\" class=\"dataframe\">\n",
       "  <thead>\n",
       "    <tr style=\"text-align: right;\">\n",
       "      <th></th>\n",
       "      <th>category</th>\n",
       "      <th>amt</th>\n",
       "      <th>gender</th>\n",
       "      <th>state</th>\n",
       "      <th>city_pop</th>\n",
       "      <th>merch_lat</th>\n",
       "      <th>merch_long</th>\n",
       "    </tr>\n",
       "  </thead>\n",
       "  <tbody>\n",
       "    <tr>\n",
       "      <th>0</th>\n",
       "      <td>home</td>\n",
       "      <td>2.607681</td>\n",
       "      <td>M</td>\n",
       "      <td>MD</td>\n",
       "      <td>25.019992</td>\n",
       "      <td>39.752861</td>\n",
       "      <td>-78.727874</td>\n",
       "    </tr>\n",
       "    <tr>\n",
       "      <th>1</th>\n",
       "      <td>gas_transport</td>\n",
       "      <td>7.857481</td>\n",
       "      <td>M</td>\n",
       "      <td>OR</td>\n",
       "      <td>219.319402</td>\n",
       "      <td>45.341148</td>\n",
       "      <td>-123.117822</td>\n",
       "    </tr>\n",
       "    <tr>\n",
       "      <th>2</th>\n",
       "      <td>shopping_pos</td>\n",
       "      <td>13.890644</td>\n",
       "      <td>F</td>\n",
       "      <td>WV</td>\n",
       "      <td>127.212421</td>\n",
       "      <td>39.324516</td>\n",
       "      <td>-81.006573</td>\n",
       "    </tr>\n",
       "    <tr>\n",
       "      <th>3</th>\n",
       "      <td>food_dining</td>\n",
       "      <td>1.378405</td>\n",
       "      <td>F</td>\n",
       "      <td>MD</td>\n",
       "      <td>17.691806</td>\n",
       "      <td>37.554991</td>\n",
       "      <td>-75.473321</td>\n",
       "    </tr>\n",
       "    <tr>\n",
       "      <th>4</th>\n",
       "      <td>entertainment</td>\n",
       "      <td>8.129576</td>\n",
       "      <td>F</td>\n",
       "      <td>TX</td>\n",
       "      <td>39.534795</td>\n",
       "      <td>32.554119</td>\n",
       "      <td>-96.383418</td>\n",
       "    </tr>\n",
       "  </tbody>\n",
       "</table>\n",
       "</div>"
      ],
      "text/plain": [
       "        category        amt gender state    city_pop  merch_lat  merch_long\n",
       "0           home   2.607681      M    MD   25.019992  39.752861  -78.727874\n",
       "1  gas_transport   7.857481      M    OR  219.319402  45.341148 -123.117822\n",
       "2   shopping_pos  13.890644      F    WV  127.212421  39.324516  -81.006573\n",
       "3    food_dining   1.378405      F    MD   17.691806  37.554991  -75.473321\n",
       "4  entertainment   8.129576      F    TX   39.534795  32.554119  -96.383418"
      ]
     },
     "execution_count": 59,
     "metadata": {},
     "output_type": "execute_result"
    }
   ],
   "source": [
    "X.head()"
   ]
  },
  {
   "cell_type": "code",
   "execution_count": 60,
   "id": "5ff4193f",
   "metadata": {},
   "outputs": [
    {
     "data": {
      "text/plain": [
       "0    0\n",
       "1    0\n",
       "2    0\n",
       "3    0\n",
       "4    0\n",
       "Name: is_fraud, dtype: int64"
      ]
     },
     "execution_count": 60,
     "metadata": {},
     "output_type": "execute_result"
    }
   ],
   "source": [
    "Y.head()"
   ]
  },
  {
   "cell_type": "markdown",
   "id": "7053ac2c",
   "metadata": {},
   "source": [
    "#### Encoding of categorical variables in the training dataset"
   ]
  },
  {
   "cell_type": "code",
   "execution_count": 61,
   "id": "58942e94",
   "metadata": {},
   "outputs": [],
   "source": [
    "categorical_features = [feature for feature in X.select_dtypes(np.object).columns]"
   ]
  },
  {
   "cell_type": "code",
   "execution_count": 62,
   "id": "fb60b17f",
   "metadata": {},
   "outputs": [
    {
     "data": {
      "text/plain": [
       "['category', 'gender', 'state']"
      ]
     },
     "execution_count": 62,
     "metadata": {},
     "output_type": "execute_result"
    }
   ],
   "source": [
    "categorical_features"
   ]
  },
  {
   "cell_type": "code",
   "execution_count": 63,
   "id": "bbd5c096",
   "metadata": {},
   "outputs": [
    {
     "name": "stdout",
     "output_type": "stream",
     "text": [
      "Unique categories in the feature category :  14\n",
      "Unique categories in the feature gender :  2\n",
      "Unique categories in the feature state :  50\n"
     ]
    }
   ],
   "source": [
    "for col in categorical_features:\n",
    "    print('Unique categories in the feature', col, ': ', X[col].nunique())"
   ]
  },
  {
   "cell_type": "markdown",
   "id": "7a567e4b",
   "metadata": {},
   "source": [
    "It can be observed that the features **merchant**, **city**, **state** and **job** have too many categories. So for each of the features, we can consider the top 10 categories having higher counts than the remaining categories"
   ]
  },
  {
   "cell_type": "code",
   "execution_count": 64,
   "id": "658068ef",
   "metadata": {},
   "outputs": [],
   "source": [
    "def one_hot_top_10(dataset, variable):\n",
    "    top_10 = [x for x in dataset[variable].value_counts().sort_values(ascending=False).head(10).index]\n",
    "    \n",
    "    for label in top_10:\n",
    "        dataset[variable+'_'+label] = np.where(dataset[variable]==label,1,0)"
   ]
  },
  {
   "cell_type": "code",
   "execution_count": 65,
   "id": "c8722ac7",
   "metadata": {},
   "outputs": [],
   "source": [
    "one_hot_top_10(X, 'state')"
   ]
  },
  {
   "cell_type": "code",
   "execution_count": 66,
   "id": "edeb8229",
   "metadata": {},
   "outputs": [],
   "source": [
    "X = X.drop(columns=[\"state\"], axis=1)"
   ]
  },
  {
   "cell_type": "code",
   "execution_count": 67,
   "id": "507166e9",
   "metadata": {},
   "outputs": [],
   "source": [
    "X = pd.get_dummies(X, drop_first=True)"
   ]
  },
  {
   "cell_type": "code",
   "execution_count": 68,
   "id": "04efa0c5",
   "metadata": {},
   "outputs": [
    {
     "data": {
      "text/html": [
       "<div>\n",
       "<style scoped>\n",
       "    .dataframe tbody tr th:only-of-type {\n",
       "        vertical-align: middle;\n",
       "    }\n",
       "\n",
       "    .dataframe tbody tr th {\n",
       "        vertical-align: top;\n",
       "    }\n",
       "\n",
       "    .dataframe thead th {\n",
       "        text-align: right;\n",
       "    }\n",
       "</style>\n",
       "<table border=\"1\" class=\"dataframe\">\n",
       "  <thead>\n",
       "    <tr style=\"text-align: right;\">\n",
       "      <th></th>\n",
       "      <th>amt</th>\n",
       "      <th>city_pop</th>\n",
       "      <th>merch_lat</th>\n",
       "      <th>merch_long</th>\n",
       "      <th>state_TX</th>\n",
       "      <th>state_NY</th>\n",
       "      <th>state_PA</th>\n",
       "      <th>state_CA</th>\n",
       "      <th>state_OH</th>\n",
       "      <th>state_MI</th>\n",
       "      <th>...</th>\n",
       "      <th>category_health_fitness</th>\n",
       "      <th>category_home</th>\n",
       "      <th>category_kids_pets</th>\n",
       "      <th>category_misc_net</th>\n",
       "      <th>category_misc_pos</th>\n",
       "      <th>category_personal_care</th>\n",
       "      <th>category_shopping_net</th>\n",
       "      <th>category_shopping_pos</th>\n",
       "      <th>category_travel</th>\n",
       "      <th>gender_M</th>\n",
       "    </tr>\n",
       "  </thead>\n",
       "  <tbody>\n",
       "    <tr>\n",
       "      <th>0</th>\n",
       "      <td>2.607681</td>\n",
       "      <td>25.019992</td>\n",
       "      <td>39.752861</td>\n",
       "      <td>-78.727874</td>\n",
       "      <td>0</td>\n",
       "      <td>0</td>\n",
       "      <td>0</td>\n",
       "      <td>0</td>\n",
       "      <td>0</td>\n",
       "      <td>0</td>\n",
       "      <td>...</td>\n",
       "      <td>0</td>\n",
       "      <td>1</td>\n",
       "      <td>0</td>\n",
       "      <td>0</td>\n",
       "      <td>0</td>\n",
       "      <td>0</td>\n",
       "      <td>0</td>\n",
       "      <td>0</td>\n",
       "      <td>0</td>\n",
       "      <td>1</td>\n",
       "    </tr>\n",
       "    <tr>\n",
       "      <th>1</th>\n",
       "      <td>7.857481</td>\n",
       "      <td>219.319402</td>\n",
       "      <td>45.341148</td>\n",
       "      <td>-123.117822</td>\n",
       "      <td>0</td>\n",
       "      <td>0</td>\n",
       "      <td>0</td>\n",
       "      <td>0</td>\n",
       "      <td>0</td>\n",
       "      <td>0</td>\n",
       "      <td>...</td>\n",
       "      <td>0</td>\n",
       "      <td>0</td>\n",
       "      <td>0</td>\n",
       "      <td>0</td>\n",
       "      <td>0</td>\n",
       "      <td>0</td>\n",
       "      <td>0</td>\n",
       "      <td>0</td>\n",
       "      <td>0</td>\n",
       "      <td>1</td>\n",
       "    </tr>\n",
       "    <tr>\n",
       "      <th>2</th>\n",
       "      <td>13.890644</td>\n",
       "      <td>127.212421</td>\n",
       "      <td>39.324516</td>\n",
       "      <td>-81.006573</td>\n",
       "      <td>0</td>\n",
       "      <td>0</td>\n",
       "      <td>0</td>\n",
       "      <td>0</td>\n",
       "      <td>0</td>\n",
       "      <td>0</td>\n",
       "      <td>...</td>\n",
       "      <td>0</td>\n",
       "      <td>0</td>\n",
       "      <td>0</td>\n",
       "      <td>0</td>\n",
       "      <td>0</td>\n",
       "      <td>0</td>\n",
       "      <td>0</td>\n",
       "      <td>1</td>\n",
       "      <td>0</td>\n",
       "      <td>0</td>\n",
       "    </tr>\n",
       "    <tr>\n",
       "      <th>3</th>\n",
       "      <td>1.378405</td>\n",
       "      <td>17.691806</td>\n",
       "      <td>37.554991</td>\n",
       "      <td>-75.473321</td>\n",
       "      <td>0</td>\n",
       "      <td>0</td>\n",
       "      <td>0</td>\n",
       "      <td>0</td>\n",
       "      <td>0</td>\n",
       "      <td>0</td>\n",
       "      <td>...</td>\n",
       "      <td>0</td>\n",
       "      <td>0</td>\n",
       "      <td>0</td>\n",
       "      <td>0</td>\n",
       "      <td>0</td>\n",
       "      <td>0</td>\n",
       "      <td>0</td>\n",
       "      <td>0</td>\n",
       "      <td>0</td>\n",
       "      <td>0</td>\n",
       "    </tr>\n",
       "    <tr>\n",
       "      <th>4</th>\n",
       "      <td>8.129576</td>\n",
       "      <td>39.534795</td>\n",
       "      <td>32.554119</td>\n",
       "      <td>-96.383418</td>\n",
       "      <td>1</td>\n",
       "      <td>0</td>\n",
       "      <td>0</td>\n",
       "      <td>0</td>\n",
       "      <td>0</td>\n",
       "      <td>0</td>\n",
       "      <td>...</td>\n",
       "      <td>0</td>\n",
       "      <td>0</td>\n",
       "      <td>0</td>\n",
       "      <td>0</td>\n",
       "      <td>0</td>\n",
       "      <td>0</td>\n",
       "      <td>0</td>\n",
       "      <td>0</td>\n",
       "      <td>0</td>\n",
       "      <td>0</td>\n",
       "    </tr>\n",
       "    <tr>\n",
       "      <th>5</th>\n",
       "      <td>5.384236</td>\n",
       "      <td>35.651087</td>\n",
       "      <td>43.217609</td>\n",
       "      <td>-76.838025</td>\n",
       "      <td>0</td>\n",
       "      <td>1</td>\n",
       "      <td>0</td>\n",
       "      <td>0</td>\n",
       "      <td>0</td>\n",
       "      <td>0</td>\n",
       "      <td>...</td>\n",
       "      <td>1</td>\n",
       "      <td>0</td>\n",
       "      <td>0</td>\n",
       "      <td>0</td>\n",
       "      <td>0</td>\n",
       "      <td>0</td>\n",
       "      <td>0</td>\n",
       "      <td>0</td>\n",
       "      <td>0</td>\n",
       "      <td>0</td>\n",
       "    </tr>\n",
       "    <tr>\n",
       "      <th>6</th>\n",
       "      <td>7.584853</td>\n",
       "      <td>18.466185</td>\n",
       "      <td>39.523698</td>\n",
       "      <td>-81.733606</td>\n",
       "      <td>0</td>\n",
       "      <td>0</td>\n",
       "      <td>0</td>\n",
       "      <td>0</td>\n",
       "      <td>1</td>\n",
       "      <td>0</td>\n",
       "      <td>...</td>\n",
       "      <td>0</td>\n",
       "      <td>0</td>\n",
       "      <td>1</td>\n",
       "      <td>0</td>\n",
       "      <td>0</td>\n",
       "      <td>0</td>\n",
       "      <td>0</td>\n",
       "      <td>0</td>\n",
       "      <td>0</td>\n",
       "      <td>1</td>\n",
       "    </tr>\n",
       "    <tr>\n",
       "      <th>7</th>\n",
       "      <td>1.913113</td>\n",
       "      <td>219.319402</td>\n",
       "      <td>43.159532</td>\n",
       "      <td>-87.176356</td>\n",
       "      <td>0</td>\n",
       "      <td>0</td>\n",
       "      <td>0</td>\n",
       "      <td>0</td>\n",
       "      <td>0</td>\n",
       "      <td>0</td>\n",
       "      <td>...</td>\n",
       "      <td>0</td>\n",
       "      <td>0</td>\n",
       "      <td>0</td>\n",
       "      <td>0</td>\n",
       "      <td>1</td>\n",
       "      <td>0</td>\n",
       "      <td>0</td>\n",
       "      <td>0</td>\n",
       "      <td>0</td>\n",
       "      <td>1</td>\n",
       "    </tr>\n",
       "    <tr>\n",
       "      <th>8</th>\n",
       "      <td>8.742425</td>\n",
       "      <td>54.000000</td>\n",
       "      <td>44.822887</td>\n",
       "      <td>-93.043369</td>\n",
       "      <td>0</td>\n",
       "      <td>0</td>\n",
       "      <td>0</td>\n",
       "      <td>0</td>\n",
       "      <td>0</td>\n",
       "      <td>0</td>\n",
       "      <td>...</td>\n",
       "      <td>0</td>\n",
       "      <td>0</td>\n",
       "      <td>0</td>\n",
       "      <td>0</td>\n",
       "      <td>0</td>\n",
       "      <td>0</td>\n",
       "      <td>0</td>\n",
       "      <td>0</td>\n",
       "      <td>0</td>\n",
       "      <td>1</td>\n",
       "    </tr>\n",
       "    <tr>\n",
       "      <th>9</th>\n",
       "      <td>9.954898</td>\n",
       "      <td>8.774964</td>\n",
       "      <td>46.248864</td>\n",
       "      <td>-101.443055</td>\n",
       "      <td>0</td>\n",
       "      <td>0</td>\n",
       "      <td>0</td>\n",
       "      <td>0</td>\n",
       "      <td>0</td>\n",
       "      <td>0</td>\n",
       "      <td>...</td>\n",
       "      <td>0</td>\n",
       "      <td>0</td>\n",
       "      <td>0</td>\n",
       "      <td>0</td>\n",
       "      <td>0</td>\n",
       "      <td>1</td>\n",
       "      <td>0</td>\n",
       "      <td>0</td>\n",
       "      <td>0</td>\n",
       "      <td>0</td>\n",
       "    </tr>\n",
       "  </tbody>\n",
       "</table>\n",
       "<p>10 rows × 28 columns</p>\n",
       "</div>"
      ],
      "text/plain": [
       "         amt    city_pop  merch_lat  merch_long  state_TX  state_NY  state_PA  \\\n",
       "0   2.607681   25.019992  39.752861  -78.727874         0         0         0   \n",
       "1   7.857481  219.319402  45.341148 -123.117822         0         0         0   \n",
       "2  13.890644  127.212421  39.324516  -81.006573         0         0         0   \n",
       "3   1.378405   17.691806  37.554991  -75.473321         0         0         0   \n",
       "4   8.129576   39.534795  32.554119  -96.383418         1         0         0   \n",
       "5   5.384236   35.651087  43.217609  -76.838025         0         1         0   \n",
       "6   7.584853   18.466185  39.523698  -81.733606         0         0         0   \n",
       "7   1.913113  219.319402  43.159532  -87.176356         0         0         0   \n",
       "8   8.742425   54.000000  44.822887  -93.043369         0         0         0   \n",
       "9   9.954898    8.774964  46.248864 -101.443055         0         0         0   \n",
       "\n",
       "   state_CA  state_OH  state_MI  ...  category_health_fitness  category_home  \\\n",
       "0         0         0         0  ...                        0              1   \n",
       "1         0         0         0  ...                        0              0   \n",
       "2         0         0         0  ...                        0              0   \n",
       "3         0         0         0  ...                        0              0   \n",
       "4         0         0         0  ...                        0              0   \n",
       "5         0         0         0  ...                        1              0   \n",
       "6         0         1         0  ...                        0              0   \n",
       "7         0         0         0  ...                        0              0   \n",
       "8         0         0         0  ...                        0              0   \n",
       "9         0         0         0  ...                        0              0   \n",
       "\n",
       "   category_kids_pets  category_misc_net  category_misc_pos  \\\n",
       "0                   0                  0                  0   \n",
       "1                   0                  0                  0   \n",
       "2                   0                  0                  0   \n",
       "3                   0                  0                  0   \n",
       "4                   0                  0                  0   \n",
       "5                   0                  0                  0   \n",
       "6                   1                  0                  0   \n",
       "7                   0                  0                  1   \n",
       "8                   0                  0                  0   \n",
       "9                   0                  0                  0   \n",
       "\n",
       "   category_personal_care  category_shopping_net  category_shopping_pos  \\\n",
       "0                       0                      0                      0   \n",
       "1                       0                      0                      0   \n",
       "2                       0                      0                      1   \n",
       "3                       0                      0                      0   \n",
       "4                       0                      0                      0   \n",
       "5                       0                      0                      0   \n",
       "6                       0                      0                      0   \n",
       "7                       0                      0                      0   \n",
       "8                       0                      0                      0   \n",
       "9                       1                      0                      0   \n",
       "\n",
       "   category_travel  gender_M  \n",
       "0                0         1  \n",
       "1                0         1  \n",
       "2                0         0  \n",
       "3                0         0  \n",
       "4                0         0  \n",
       "5                0         0  \n",
       "6                0         1  \n",
       "7                0         1  \n",
       "8                0         1  \n",
       "9                0         0  \n",
       "\n",
       "[10 rows x 28 columns]"
      ]
     },
     "execution_count": 68,
     "metadata": {},
     "output_type": "execute_result"
    }
   ],
   "source": [
    "X.head(10)"
   ]
  },
  {
   "cell_type": "markdown",
   "id": "a11ce8ab",
   "metadata": {},
   "source": [
    "#### Handling imbalance in the data"
   ]
  },
  {
   "cell_type": "code",
   "execution_count": 69,
   "id": "6a32f02e",
   "metadata": {},
   "outputs": [
    {
     "name": "stdout",
     "output_type": "stream",
     "text": [
      "0    276796\n",
      "1      1063\n",
      "Name: is_fraud, dtype: int64\n"
     ]
    }
   ],
   "source": [
    "print(Y.value_counts())"
   ]
  },
  {
   "cell_type": "markdown",
   "id": "65783440",
   "metadata": {},
   "source": [
    "It can be observed that there is a huge imbalance in the target column **is_fraud** in the dataset"
   ]
  },
  {
   "cell_type": "markdown",
   "id": "1025b4c7",
   "metadata": {},
   "source": [
    "We will perform **oversampling** using **SMOTEtomek** technique"
   ]
  },
  {
   "cell_type": "code",
   "execution_count": 70,
   "id": "d54d61d1",
   "metadata": {},
   "outputs": [
    {
     "name": "stdout",
     "output_type": "stream",
     "text": [
      "Requirement already satisfied: imblearn in c:\\users\\nipun.gupta\\anaconda3\\lib\\site-packages (0.0)\n",
      "Requirement already satisfied: imbalanced-learn in c:\\users\\nipun.gupta\\anaconda3\\lib\\site-packages (from imblearn) (0.10.0)\n",
      "Requirement already satisfied: threadpoolctl>=2.0.0 in c:\\users\\nipun.gupta\\anaconda3\\lib\\site-packages (from imbalanced-learn->imblearn) (2.2.0)\n",
      "Requirement already satisfied: numpy>=1.17.3 in c:\\users\\nipun.gupta\\anaconda3\\lib\\site-packages (from imbalanced-learn->imblearn) (1.21.5)\n",
      "Requirement already satisfied: joblib>=1.1.1 in c:\\users\\nipun.gupta\\anaconda3\\lib\\site-packages (from imbalanced-learn->imblearn) (1.2.0)\n",
      "Requirement already satisfied: scipy>=1.3.2 in c:\\users\\nipun.gupta\\anaconda3\\lib\\site-packages (from imbalanced-learn->imblearn) (1.9.1)\n",
      "Requirement already satisfied: scikit-learn>=1.0.2 in c:\\users\\nipun.gupta\\anaconda3\\lib\\site-packages (from imbalanced-learn->imblearn) (1.0.2)\n"
     ]
    }
   ],
   "source": [
    "# Installing imblearn library\n",
    "!pip install imblearn"
   ]
  },
  {
   "cell_type": "code",
   "execution_count": 71,
   "id": "ccd55f24",
   "metadata": {},
   "outputs": [],
   "source": [
    "# Importing SMOTETomek\n",
    "from imblearn.combine import SMOTETomek"
   ]
  },
  {
   "cell_type": "code",
   "execution_count": 72,
   "id": "424c3dd4",
   "metadata": {},
   "outputs": [],
   "source": [
    "# Initializing SMOTETomek\n",
    "os = SMOTETomek(random_state=42)"
   ]
  },
  {
   "cell_type": "code",
   "execution_count": 73,
   "id": "fc8f834f",
   "metadata": {},
   "outputs": [],
   "source": [
    "# Fitting the training data onto the SMOTETomek object\n",
    "X_train, Y_train = os.fit_resample(X, Y)"
   ]
  },
  {
   "cell_type": "code",
   "execution_count": 74,
   "id": "65c72249",
   "metadata": {},
   "outputs": [],
   "source": [
    "from collections import Counter"
   ]
  },
  {
   "cell_type": "code",
   "execution_count": 75,
   "id": "25604221",
   "metadata": {},
   "outputs": [
    {
     "name": "stdout",
     "output_type": "stream",
     "text": [
      "Number of classes after fit Counter({0: 276788, 1: 276788})\n"
     ]
    }
   ],
   "source": [
    "print(\"Number of classes after fit {}\".format(Counter(Y_train)))"
   ]
  },
  {
   "cell_type": "markdown",
   "id": "962133d3",
   "metadata": {},
   "source": [
    "Joining **X_train** and **Y_train** dataframes"
   ]
  },
  {
   "cell_type": "code",
   "execution_count": 76,
   "id": "fb918060",
   "metadata": {},
   "outputs": [],
   "source": [
    "df_train = X_train.join(Y_train, how='inner')"
   ]
  },
  {
   "cell_type": "code",
   "execution_count": 77,
   "id": "faa73cb9",
   "metadata": {},
   "outputs": [
    {
     "name": "stdout",
     "output_type": "stream",
     "text": [
      "Value count for feature is_fraud\n",
      "0    276788\n",
      "1    276788\n",
      "Name: is_fraud, dtype: int64\n"
     ]
    },
    {
     "data": {
      "text/plain": [
       "<AxesSubplot:xlabel='is_fraud', ylabel='count'>"
      ]
     },
     "execution_count": 77,
     "metadata": {},
     "output_type": "execute_result"
    },
    {
     "data": {
      "image/png": "[encoded data removed]",
      "text/plain": [
       "<Figure size 600x600 with 1 Axes>"
      ]
     },
     "metadata": {},
     "output_type": "display_data"
    }
   ],
   "source": [
    "plt.figure(figsize=(6,6))\n",
    "print(\"Value count for feature is_fraud\")\n",
    "print(df_train['is_fraud'].value_counts())\n",
    "sns.countplot('is_fraud', data=df_train)"
   ]
  },
  {
   "cell_type": "markdown",
   "id": "38db36ff",
   "metadata": {},
   "source": [
    "It can be observed that the dataset is quite balanced now"
   ]
  },
  {
   "cell_type": "markdown",
   "id": "0dc69f9e",
   "metadata": {},
   "source": [
    "#### Feature Selection in the training dataset"
   ]
  },
  {
   "cell_type": "markdown",
   "id": "772b3b2e",
   "metadata": {},
   "source": [
    "Feature Selection is performed to retain only the important features and discard the irrelevant features"
   ]
  },
  {
   "cell_type": "code",
   "execution_count": 78,
   "id": "8bec519e",
   "metadata": {},
   "outputs": [
    {
     "data": {
      "text/html": [
       "<div>\n",
       "<style scoped>\n",
       "    .dataframe tbody tr th:only-of-type {\n",
       "        vertical-align: middle;\n",
       "    }\n",
       "\n",
       "    .dataframe tbody tr th {\n",
       "        vertical-align: top;\n",
       "    }\n",
       "\n",
       "    .dataframe thead th {\n",
       "        text-align: right;\n",
       "    }\n",
       "</style>\n",
       "<table border=\"1\" class=\"dataframe\">\n",
       "  <thead>\n",
       "    <tr style=\"text-align: right;\">\n",
       "      <th></th>\n",
       "      <th>amt</th>\n",
       "      <th>city_pop</th>\n",
       "      <th>merch_lat</th>\n",
       "      <th>merch_long</th>\n",
       "      <th>state_TX</th>\n",
       "      <th>state_NY</th>\n",
       "      <th>state_PA</th>\n",
       "      <th>state_CA</th>\n",
       "      <th>state_OH</th>\n",
       "      <th>state_MI</th>\n",
       "      <th>...</th>\n",
       "      <th>category_home</th>\n",
       "      <th>category_kids_pets</th>\n",
       "      <th>category_misc_net</th>\n",
       "      <th>category_misc_pos</th>\n",
       "      <th>category_personal_care</th>\n",
       "      <th>category_shopping_net</th>\n",
       "      <th>category_shopping_pos</th>\n",
       "      <th>category_travel</th>\n",
       "      <th>gender_M</th>\n",
       "      <th>is_fraud</th>\n",
       "    </tr>\n",
       "  </thead>\n",
       "  <tbody>\n",
       "    <tr>\n",
       "      <th>0</th>\n",
       "      <td>2.607681</td>\n",
       "      <td>25.019992</td>\n",
       "      <td>39.752861</td>\n",
       "      <td>-78.727874</td>\n",
       "      <td>0</td>\n",
       "      <td>0</td>\n",
       "      <td>0</td>\n",
       "      <td>0</td>\n",
       "      <td>0</td>\n",
       "      <td>0</td>\n",
       "      <td>...</td>\n",
       "      <td>1</td>\n",
       "      <td>0</td>\n",
       "      <td>0</td>\n",
       "      <td>0</td>\n",
       "      <td>0</td>\n",
       "      <td>0</td>\n",
       "      <td>0</td>\n",
       "      <td>0</td>\n",
       "      <td>1</td>\n",
       "      <td>0</td>\n",
       "    </tr>\n",
       "    <tr>\n",
       "      <th>1</th>\n",
       "      <td>7.857481</td>\n",
       "      <td>219.319402</td>\n",
       "      <td>45.341148</td>\n",
       "      <td>-123.117822</td>\n",
       "      <td>0</td>\n",
       "      <td>0</td>\n",
       "      <td>0</td>\n",
       "      <td>0</td>\n",
       "      <td>0</td>\n",
       "      <td>0</td>\n",
       "      <td>...</td>\n",
       "      <td>0</td>\n",
       "      <td>0</td>\n",
       "      <td>0</td>\n",
       "      <td>0</td>\n",
       "      <td>0</td>\n",
       "      <td>0</td>\n",
       "      <td>0</td>\n",
       "      <td>0</td>\n",
       "      <td>1</td>\n",
       "      <td>0</td>\n",
       "    </tr>\n",
       "    <tr>\n",
       "      <th>2</th>\n",
       "      <td>13.890644</td>\n",
       "      <td>127.212421</td>\n",
       "      <td>39.324516</td>\n",
       "      <td>-81.006573</td>\n",
       "      <td>0</td>\n",
       "      <td>0</td>\n",
       "      <td>0</td>\n",
       "      <td>0</td>\n",
       "      <td>0</td>\n",
       "      <td>0</td>\n",
       "      <td>...</td>\n",
       "      <td>0</td>\n",
       "      <td>0</td>\n",
       "      <td>0</td>\n",
       "      <td>0</td>\n",
       "      <td>0</td>\n",
       "      <td>0</td>\n",
       "      <td>1</td>\n",
       "      <td>0</td>\n",
       "      <td>0</td>\n",
       "      <td>0</td>\n",
       "    </tr>\n",
       "    <tr>\n",
       "      <th>3</th>\n",
       "      <td>1.378405</td>\n",
       "      <td>17.691806</td>\n",
       "      <td>37.554991</td>\n",
       "      <td>-75.473321</td>\n",
       "      <td>0</td>\n",
       "      <td>0</td>\n",
       "      <td>0</td>\n",
       "      <td>0</td>\n",
       "      <td>0</td>\n",
       "      <td>0</td>\n",
       "      <td>...</td>\n",
       "      <td>0</td>\n",
       "      <td>0</td>\n",
       "      <td>0</td>\n",
       "      <td>0</td>\n",
       "      <td>0</td>\n",
       "      <td>0</td>\n",
       "      <td>0</td>\n",
       "      <td>0</td>\n",
       "      <td>0</td>\n",
       "      <td>0</td>\n",
       "    </tr>\n",
       "    <tr>\n",
       "      <th>4</th>\n",
       "      <td>8.129576</td>\n",
       "      <td>39.534795</td>\n",
       "      <td>32.554119</td>\n",
       "      <td>-96.383418</td>\n",
       "      <td>1</td>\n",
       "      <td>0</td>\n",
       "      <td>0</td>\n",
       "      <td>0</td>\n",
       "      <td>0</td>\n",
       "      <td>0</td>\n",
       "      <td>...</td>\n",
       "      <td>0</td>\n",
       "      <td>0</td>\n",
       "      <td>0</td>\n",
       "      <td>0</td>\n",
       "      <td>0</td>\n",
       "      <td>0</td>\n",
       "      <td>0</td>\n",
       "      <td>0</td>\n",
       "      <td>0</td>\n",
       "      <td>0</td>\n",
       "    </tr>\n",
       "  </tbody>\n",
       "</table>\n",
       "<p>5 rows × 29 columns</p>\n",
       "</div>"
      ],
      "text/plain": [
       "         amt    city_pop  merch_lat  merch_long  state_TX  state_NY  state_PA  \\\n",
       "0   2.607681   25.019992  39.752861  -78.727874         0         0         0   \n",
       "1   7.857481  219.319402  45.341148 -123.117822         0         0         0   \n",
       "2  13.890644  127.212421  39.324516  -81.006573         0         0         0   \n",
       "3   1.378405   17.691806  37.554991  -75.473321         0         0         0   \n",
       "4   8.129576   39.534795  32.554119  -96.383418         1         0         0   \n",
       "\n",
       "   state_CA  state_OH  state_MI  ...  category_home  category_kids_pets  \\\n",
       "0         0         0         0  ...              1                   0   \n",
       "1         0         0         0  ...              0                   0   \n",
       "2         0         0         0  ...              0                   0   \n",
       "3         0         0         0  ...              0                   0   \n",
       "4         0         0         0  ...              0                   0   \n",
       "\n",
       "   category_misc_net  category_misc_pos  category_personal_care  \\\n",
       "0                  0                  0                       0   \n",
       "1                  0                  0                       0   \n",
       "2                  0                  0                       0   \n",
       "3                  0                  0                       0   \n",
       "4                  0                  0                       0   \n",
       "\n",
       "   category_shopping_net  category_shopping_pos  category_travel  gender_M  \\\n",
       "0                      0                      0                0         1   \n",
       "1                      0                      0                0         1   \n",
       "2                      0                      1                0         0   \n",
       "3                      0                      0                0         0   \n",
       "4                      0                      0                0         0   \n",
       "\n",
       "   is_fraud  \n",
       "0         0  \n",
       "1         0  \n",
       "2         0  \n",
       "3         0  \n",
       "4         0  \n",
       "\n",
       "[5 rows x 29 columns]"
      ]
     },
     "execution_count": 78,
     "metadata": {},
     "output_type": "execute_result"
    }
   ],
   "source": [
    "df_train.head()"
   ]
  },
  {
   "cell_type": "code",
   "execution_count": 79,
   "id": "9979dcea",
   "metadata": {},
   "outputs": [],
   "source": [
    "from sklearn.feature_selection import SelectKBest\n",
    "from sklearn.feature_selection import chi2"
   ]
  },
  {
   "cell_type": "code",
   "execution_count": 80,
   "id": "c8a656a1",
   "metadata": {},
   "outputs": [],
   "source": [
    "X = df_train.iloc[:,:-1]"
   ]
  },
  {
   "cell_type": "code",
   "execution_count": 81,
   "id": "5276ac6e",
   "metadata": {},
   "outputs": [],
   "source": [
    "Y = df_train.iloc[:,-1]"
   ]
  },
  {
   "cell_type": "code",
   "execution_count": 82,
   "id": "fe8d05ba",
   "metadata": {},
   "outputs": [],
   "source": [
    "bestfeatures = SelectKBest(score_func = chi2)"
   ]
  },
  {
   "cell_type": "markdown",
   "id": "c27ad4f1",
   "metadata": {},
   "source": [
    "For fitting the data on the feature selection algorithm, we need to consider non-negative values of the data. So we can use **abs(absolute)** function to obtain the absolute positive value"
   ]
  },
  {
   "cell_type": "code",
   "execution_count": 83,
   "id": "a565831b",
   "metadata": {},
   "outputs": [],
   "source": [
    "X['merch_long'] = abs(X['merch_long'])"
   ]
  },
  {
   "cell_type": "code",
   "execution_count": 84,
   "id": "3861e1c6",
   "metadata": {},
   "outputs": [],
   "source": [
    "X['merch_lat'] = abs(X['merch_lat'])"
   ]
  },
  {
   "cell_type": "code",
   "execution_count": 85,
   "id": "24a2d0f1",
   "metadata": {},
   "outputs": [],
   "source": [
    "fit = bestfeatures.fit(X, Y)"
   ]
  },
  {
   "cell_type": "code",
   "execution_count": 86,
   "id": "724fc58f",
   "metadata": {},
   "outputs": [],
   "source": [
    "dfscores = pd.DataFrame(fit.scores_)\n",
    "dfcolumns = pd.DataFrame(X.columns)"
   ]
  },
  {
   "cell_type": "code",
   "execution_count": 87,
   "id": "12dc70f0",
   "metadata": {},
   "outputs": [],
   "source": [
    "featureScores = pd.concat([dfcolumns, dfscores], axis=1)"
   ]
  },
  {
   "cell_type": "code",
   "execution_count": 88,
   "id": "d00c8374",
   "metadata": {},
   "outputs": [],
   "source": [
    "featureScores.columns = ['Features', 'Score']"
   ]
  },
  {
   "cell_type": "code",
   "execution_count": 89,
   "id": "98a52917",
   "metadata": {},
   "outputs": [
    {
     "data": {
      "text/html": [
       "<div>\n",
       "<style scoped>\n",
       "    .dataframe tbody tr th:only-of-type {\n",
       "        vertical-align: middle;\n",
       "    }\n",
       "\n",
       "    .dataframe tbody tr th {\n",
       "        vertical-align: top;\n",
       "    }\n",
       "\n",
       "    .dataframe thead th {\n",
       "        text-align: right;\n",
       "    }\n",
       "</style>\n",
       "<table border=\"1\" class=\"dataframe\">\n",
       "  <thead>\n",
       "    <tr style=\"text-align: right;\">\n",
       "      <th></th>\n",
       "      <th>Features</th>\n",
       "      <th>Score</th>\n",
       "    </tr>\n",
       "  </thead>\n",
       "  <tbody>\n",
       "    <tr>\n",
       "      <th>0</th>\n",
       "      <td>amt</td>\n",
       "      <td>400855.525348</td>\n",
       "    </tr>\n",
       "    <tr>\n",
       "      <th>19</th>\n",
       "      <td>category_home</td>\n",
       "      <td>24783.593455</td>\n",
       "    </tr>\n",
       "    <tr>\n",
       "      <th>20</th>\n",
       "      <td>category_kids_pets</td>\n",
       "      <td>20683.257590</td>\n",
       "    </tr>\n",
       "    <tr>\n",
       "      <th>14</th>\n",
       "      <td>category_food_dining</td>\n",
       "      <td>19619.107351</td>\n",
       "    </tr>\n",
       "    <tr>\n",
       "      <th>23</th>\n",
       "      <td>category_personal_care</td>\n",
       "      <td>16157.725165</td>\n",
       "    </tr>\n",
       "    <tr>\n",
       "      <th>18</th>\n",
       "      <td>category_health_fitness</td>\n",
       "      <td>14988.612337</td>\n",
       "    </tr>\n",
       "    <tr>\n",
       "      <th>15</th>\n",
       "      <td>category_gas_transport</td>\n",
       "      <td>14482.441562</td>\n",
       "    </tr>\n",
       "    <tr>\n",
       "      <th>22</th>\n",
       "      <td>category_misc_pos</td>\n",
       "      <td>14353.961975</td>\n",
       "    </tr>\n",
       "    <tr>\n",
       "      <th>25</th>\n",
       "      <td>category_shopping_pos</td>\n",
       "      <td>13335.501668</td>\n",
       "    </tr>\n",
       "    <tr>\n",
       "      <th>16</th>\n",
       "      <td>category_grocery_net</td>\n",
       "      <td>8006.517882</td>\n",
       "    </tr>\n",
       "    <tr>\n",
       "      <th>26</th>\n",
       "      <td>category_travel</td>\n",
       "      <td>5950.901512</td>\n",
       "    </tr>\n",
       "    <tr>\n",
       "      <th>4</th>\n",
       "      <td>state_TX</td>\n",
       "      <td>5228.726259</td>\n",
       "    </tr>\n",
       "    <tr>\n",
       "      <th>27</th>\n",
       "      <td>gender_M</td>\n",
       "      <td>3432.921416</td>\n",
       "    </tr>\n",
       "    <tr>\n",
       "      <th>8</th>\n",
       "      <td>state_OH</td>\n",
       "      <td>3103.469965</td>\n",
       "    </tr>\n",
       "    <tr>\n",
       "      <th>21</th>\n",
       "      <td>category_misc_net</td>\n",
       "      <td>2204.979676</td>\n",
       "    </tr>\n",
       "    <tr>\n",
       "      <th>9</th>\n",
       "      <td>state_MI</td>\n",
       "      <td>2157.009348</td>\n",
       "    </tr>\n",
       "    <tr>\n",
       "      <th>11</th>\n",
       "      <td>state_FL</td>\n",
       "      <td>1177.536757</td>\n",
       "    </tr>\n",
       "    <tr>\n",
       "      <th>6</th>\n",
       "      <td>state_PA</td>\n",
       "      <td>954.403190</td>\n",
       "    </tr>\n",
       "    <tr>\n",
       "      <th>2</th>\n",
       "      <td>merch_lat</td>\n",
       "      <td>897.999075</td>\n",
       "    </tr>\n",
       "    <tr>\n",
       "      <th>24</th>\n",
       "      <td>category_shopping_net</td>\n",
       "      <td>809.259226</td>\n",
       "    </tr>\n",
       "    <tr>\n",
       "      <th>3</th>\n",
       "      <td>merch_long</td>\n",
       "      <td>744.894452</td>\n",
       "    </tr>\n",
       "    <tr>\n",
       "      <th>12</th>\n",
       "      <td>state_AL</td>\n",
       "      <td>680.941988</td>\n",
       "    </tr>\n",
       "    <tr>\n",
       "      <th>5</th>\n",
       "      <td>state_NY</td>\n",
       "      <td>419.995692</td>\n",
       "    </tr>\n",
       "    <tr>\n",
       "      <th>10</th>\n",
       "      <td>state_IL</td>\n",
       "      <td>418.502232</td>\n",
       "    </tr>\n",
       "    <tr>\n",
       "      <th>1</th>\n",
       "      <td>city_pop</td>\n",
       "      <td>307.704806</td>\n",
       "    </tr>\n",
       "    <tr>\n",
       "      <th>13</th>\n",
       "      <td>state_MO</td>\n",
       "      <td>216.921049</td>\n",
       "    </tr>\n",
       "    <tr>\n",
       "      <th>7</th>\n",
       "      <td>state_CA</td>\n",
       "      <td>139.884784</td>\n",
       "    </tr>\n",
       "    <tr>\n",
       "      <th>17</th>\n",
       "      <td>category_grocery_pos</td>\n",
       "      <td>45.120678</td>\n",
       "    </tr>\n",
       "  </tbody>\n",
       "</table>\n",
       "</div>"
      ],
      "text/plain": [
       "                   Features          Score\n",
       "0                       amt  400855.525348\n",
       "19            category_home   24783.593455\n",
       "20       category_kids_pets   20683.257590\n",
       "14     category_food_dining   19619.107351\n",
       "23   category_personal_care   16157.725165\n",
       "18  category_health_fitness   14988.612337\n",
       "15   category_gas_transport   14482.441562\n",
       "22        category_misc_pos   14353.961975\n",
       "25    category_shopping_pos   13335.501668\n",
       "16     category_grocery_net    8006.517882\n",
       "26          category_travel    5950.901512\n",
       "4                  state_TX    5228.726259\n",
       "27                 gender_M    3432.921416\n",
       "8                  state_OH    3103.469965\n",
       "21        category_misc_net    2204.979676\n",
       "9                  state_MI    2157.009348\n",
       "11                 state_FL    1177.536757\n",
       "6                  state_PA     954.403190\n",
       "2                 merch_lat     897.999075\n",
       "24    category_shopping_net     809.259226\n",
       "3                merch_long     744.894452\n",
       "12                 state_AL     680.941988\n",
       "5                  state_NY     419.995692\n",
       "10                 state_IL     418.502232\n",
       "1                  city_pop     307.704806\n",
       "13                 state_MO     216.921049\n",
       "7                  state_CA     139.884784\n",
       "17     category_grocery_pos      45.120678"
      ]
     },
     "execution_count": 89,
     "metadata": {},
     "output_type": "execute_result"
    }
   ],
   "source": [
    "featureScores.sort_values(by='Score', ascending=False)"
   ]
  },
  {
   "cell_type": "markdown",
   "id": "1e917168",
   "metadata": {},
   "source": [
    "The features that have high scores are more correlated with the target variable."
   ]
  },
  {
   "cell_type": "markdown",
   "id": "77b62a11",
   "metadata": {},
   "source": [
    "The features **state_MO**, **category_grocery_pos**, **state_NY** and **state_FL** do not contribute much to the prediction of the target variable"
   ]
  },
  {
   "cell_type": "markdown",
   "id": "c863f3b0",
   "metadata": {},
   "source": [
    "#### Feature Importance"
   ]
  },
  {
   "cell_type": "code",
   "execution_count": 90,
   "id": "9e5fdc1d",
   "metadata": {},
   "outputs": [],
   "source": [
    "from sklearn.ensemble import ExtraTreesClassifier"
   ]
  },
  {
   "cell_type": "code",
   "execution_count": 91,
   "id": "6c1a382e",
   "metadata": {},
   "outputs": [],
   "source": [
    "model = ExtraTreesClassifier()"
   ]
  },
  {
   "cell_type": "code",
   "execution_count": 92,
   "id": "f90ea0d9",
   "metadata": {},
   "outputs": [
    {
     "data": {
      "text/plain": [
       "ExtraTreesClassifier()"
      ]
     },
     "execution_count": 92,
     "metadata": {},
     "output_type": "execute_result"
    }
   ],
   "source": [
    "model.fit(X,Y)"
   ]
  },
  {
   "cell_type": "code",
   "execution_count": 93,
   "id": "52b1a268",
   "metadata": {},
   "outputs": [],
   "source": [
    "feat_importances = pd.Series(model.feature_importances_, index = X.columns)"
   ]
  },
  {
   "cell_type": "code",
   "execution_count": 94,
   "id": "0e269408",
   "metadata": {},
   "outputs": [
    {
     "data": {
      "image/png": "[encoded data removed]",
      "text/plain": [
       "<Figure size 600x600 with 1 Axes>"
      ]
     },
     "metadata": {},
     "output_type": "display_data"
    }
   ],
   "source": [
    "plt.figure(figsize=(6,6))\n",
    "feat_importances.plot(kind='barh')\n",
    "plt.show()"
   ]
  },
  {
   "cell_type": "markdown",
   "id": "55a12293",
   "metadata": {},
   "source": [
    "The above barplot displays the feature importance scores. From the above barplot, it can be observed that none of the states are important and thus can be removed from the dataset"
   ]
  },
  {
   "cell_type": "code",
   "execution_count": 95,
   "id": "292ecea4",
   "metadata": {},
   "outputs": [],
   "source": [
    "df_train = df_train.drop(['state_FL', 'state_NY', 'state_MO'], axis = 1)"
   ]
  },
  {
   "cell_type": "code",
   "execution_count": 96,
   "id": "426848d6",
   "metadata": {},
   "outputs": [
    {
     "data": {
      "text/html": [
       "<div>\n",
       "<style scoped>\n",
       "    .dataframe tbody tr th:only-of-type {\n",
       "        vertical-align: middle;\n",
       "    }\n",
       "\n",
       "    .dataframe tbody tr th {\n",
       "        vertical-align: top;\n",
       "    }\n",
       "\n",
       "    .dataframe thead th {\n",
       "        text-align: right;\n",
       "    }\n",
       "</style>\n",
       "<table border=\"1\" class=\"dataframe\">\n",
       "  <thead>\n",
       "    <tr style=\"text-align: right;\">\n",
       "      <th></th>\n",
       "      <th>amt</th>\n",
       "      <th>city_pop</th>\n",
       "      <th>merch_lat</th>\n",
       "      <th>merch_long</th>\n",
       "      <th>state_TX</th>\n",
       "      <th>state_PA</th>\n",
       "      <th>state_CA</th>\n",
       "      <th>state_OH</th>\n",
       "      <th>state_MI</th>\n",
       "      <th>state_IL</th>\n",
       "      <th>...</th>\n",
       "      <th>category_home</th>\n",
       "      <th>category_kids_pets</th>\n",
       "      <th>category_misc_net</th>\n",
       "      <th>category_misc_pos</th>\n",
       "      <th>category_personal_care</th>\n",
       "      <th>category_shopping_net</th>\n",
       "      <th>category_shopping_pos</th>\n",
       "      <th>category_travel</th>\n",
       "      <th>gender_M</th>\n",
       "      <th>is_fraud</th>\n",
       "    </tr>\n",
       "  </thead>\n",
       "  <tbody>\n",
       "    <tr>\n",
       "      <th>0</th>\n",
       "      <td>2.607681</td>\n",
       "      <td>25.019992</td>\n",
       "      <td>39.752861</td>\n",
       "      <td>-78.727874</td>\n",
       "      <td>0</td>\n",
       "      <td>0</td>\n",
       "      <td>0</td>\n",
       "      <td>0</td>\n",
       "      <td>0</td>\n",
       "      <td>0</td>\n",
       "      <td>...</td>\n",
       "      <td>1</td>\n",
       "      <td>0</td>\n",
       "      <td>0</td>\n",
       "      <td>0</td>\n",
       "      <td>0</td>\n",
       "      <td>0</td>\n",
       "      <td>0</td>\n",
       "      <td>0</td>\n",
       "      <td>1</td>\n",
       "      <td>0</td>\n",
       "    </tr>\n",
       "    <tr>\n",
       "      <th>1</th>\n",
       "      <td>7.857481</td>\n",
       "      <td>219.319402</td>\n",
       "      <td>45.341148</td>\n",
       "      <td>-123.117822</td>\n",
       "      <td>0</td>\n",
       "      <td>0</td>\n",
       "      <td>0</td>\n",
       "      <td>0</td>\n",
       "      <td>0</td>\n",
       "      <td>0</td>\n",
       "      <td>...</td>\n",
       "      <td>0</td>\n",
       "      <td>0</td>\n",
       "      <td>0</td>\n",
       "      <td>0</td>\n",
       "      <td>0</td>\n",
       "      <td>0</td>\n",
       "      <td>0</td>\n",
       "      <td>0</td>\n",
       "      <td>1</td>\n",
       "      <td>0</td>\n",
       "    </tr>\n",
       "    <tr>\n",
       "      <th>2</th>\n",
       "      <td>13.890644</td>\n",
       "      <td>127.212421</td>\n",
       "      <td>39.324516</td>\n",
       "      <td>-81.006573</td>\n",
       "      <td>0</td>\n",
       "      <td>0</td>\n",
       "      <td>0</td>\n",
       "      <td>0</td>\n",
       "      <td>0</td>\n",
       "      <td>0</td>\n",
       "      <td>...</td>\n",
       "      <td>0</td>\n",
       "      <td>0</td>\n",
       "      <td>0</td>\n",
       "      <td>0</td>\n",
       "      <td>0</td>\n",
       "      <td>0</td>\n",
       "      <td>1</td>\n",
       "      <td>0</td>\n",
       "      <td>0</td>\n",
       "      <td>0</td>\n",
       "    </tr>\n",
       "    <tr>\n",
       "      <th>3</th>\n",
       "      <td>1.378405</td>\n",
       "      <td>17.691806</td>\n",
       "      <td>37.554991</td>\n",
       "      <td>-75.473321</td>\n",
       "      <td>0</td>\n",
       "      <td>0</td>\n",
       "      <td>0</td>\n",
       "      <td>0</td>\n",
       "      <td>0</td>\n",
       "      <td>0</td>\n",
       "      <td>...</td>\n",
       "      <td>0</td>\n",
       "      <td>0</td>\n",
       "      <td>0</td>\n",
       "      <td>0</td>\n",
       "      <td>0</td>\n",
       "      <td>0</td>\n",
       "      <td>0</td>\n",
       "      <td>0</td>\n",
       "      <td>0</td>\n",
       "      <td>0</td>\n",
       "    </tr>\n",
       "    <tr>\n",
       "      <th>4</th>\n",
       "      <td>8.129576</td>\n",
       "      <td>39.534795</td>\n",
       "      <td>32.554119</td>\n",
       "      <td>-96.383418</td>\n",
       "      <td>1</td>\n",
       "      <td>0</td>\n",
       "      <td>0</td>\n",
       "      <td>0</td>\n",
       "      <td>0</td>\n",
       "      <td>0</td>\n",
       "      <td>...</td>\n",
       "      <td>0</td>\n",
       "      <td>0</td>\n",
       "      <td>0</td>\n",
       "      <td>0</td>\n",
       "      <td>0</td>\n",
       "      <td>0</td>\n",
       "      <td>0</td>\n",
       "      <td>0</td>\n",
       "      <td>0</td>\n",
       "      <td>0</td>\n",
       "    </tr>\n",
       "  </tbody>\n",
       "</table>\n",
       "<p>5 rows × 26 columns</p>\n",
       "</div>"
      ],
      "text/plain": [
       "         amt    city_pop  merch_lat  merch_long  state_TX  state_PA  state_CA  \\\n",
       "0   2.607681   25.019992  39.752861  -78.727874         0         0         0   \n",
       "1   7.857481  219.319402  45.341148 -123.117822         0         0         0   \n",
       "2  13.890644  127.212421  39.324516  -81.006573         0         0         0   \n",
       "3   1.378405   17.691806  37.554991  -75.473321         0         0         0   \n",
       "4   8.129576   39.534795  32.554119  -96.383418         1         0         0   \n",
       "\n",
       "   state_OH  state_MI  state_IL  ...  category_home  category_kids_pets  \\\n",
       "0         0         0         0  ...              1                   0   \n",
       "1         0         0         0  ...              0                   0   \n",
       "2         0         0         0  ...              0                   0   \n",
       "3         0         0         0  ...              0                   0   \n",
       "4         0         0         0  ...              0                   0   \n",
       "\n",
       "   category_misc_net  category_misc_pos  category_personal_care  \\\n",
       "0                  0                  0                       0   \n",
       "1                  0                  0                       0   \n",
       "2                  0                  0                       0   \n",
       "3                  0                  0                       0   \n",
       "4                  0                  0                       0   \n",
       "\n",
       "   category_shopping_net  category_shopping_pos  category_travel  gender_M  \\\n",
       "0                      0                      0                0         1   \n",
       "1                      0                      0                0         1   \n",
       "2                      0                      1                0         0   \n",
       "3                      0                      0                0         0   \n",
       "4                      0                      0                0         0   \n",
       "\n",
       "   is_fraud  \n",
       "0         0  \n",
       "1         0  \n",
       "2         0  \n",
       "3         0  \n",
       "4         0  \n",
       "\n",
       "[5 rows x 26 columns]"
      ]
     },
     "execution_count": 96,
     "metadata": {},
     "output_type": "execute_result"
    }
   ],
   "source": [
    "df_train.head()"
   ]
  },
  {
   "cell_type": "markdown",
   "id": "26126014",
   "metadata": {},
   "source": [
    "#### Feature scaling"
   ]
  },
  {
   "cell_type": "code",
   "execution_count": 97,
   "id": "80507dd2",
   "metadata": {},
   "outputs": [
    {
     "data": {
      "text/html": [
       "<div>\n",
       "<style scoped>\n",
       "    .dataframe tbody tr th:only-of-type {\n",
       "        vertical-align: middle;\n",
       "    }\n",
       "\n",
       "    .dataframe tbody tr th {\n",
       "        vertical-align: top;\n",
       "    }\n",
       "\n",
       "    .dataframe thead th {\n",
       "        text-align: right;\n",
       "    }\n",
       "</style>\n",
       "<table border=\"1\" class=\"dataframe\">\n",
       "  <thead>\n",
       "    <tr style=\"text-align: right;\">\n",
       "      <th></th>\n",
       "      <th>amt</th>\n",
       "      <th>city_pop</th>\n",
       "      <th>merch_lat</th>\n",
       "      <th>merch_long</th>\n",
       "      <th>state_TX</th>\n",
       "      <th>state_PA</th>\n",
       "      <th>state_CA</th>\n",
       "      <th>state_OH</th>\n",
       "      <th>state_MI</th>\n",
       "      <th>state_IL</th>\n",
       "      <th>...</th>\n",
       "      <th>category_home</th>\n",
       "      <th>category_kids_pets</th>\n",
       "      <th>category_misc_net</th>\n",
       "      <th>category_misc_pos</th>\n",
       "      <th>category_personal_care</th>\n",
       "      <th>category_shopping_net</th>\n",
       "      <th>category_shopping_pos</th>\n",
       "      <th>category_travel</th>\n",
       "      <th>gender_M</th>\n",
       "      <th>is_fraud</th>\n",
       "    </tr>\n",
       "  </thead>\n",
       "  <tbody>\n",
       "    <tr>\n",
       "      <th>count</th>\n",
       "      <td>553576.000000</td>\n",
       "      <td>553576.000000</td>\n",
       "      <td>553576.000000</td>\n",
       "      <td>553576.000000</td>\n",
       "      <td>553576.000000</td>\n",
       "      <td>553576.000000</td>\n",
       "      <td>553576.000000</td>\n",
       "      <td>553576.000000</td>\n",
       "      <td>553576.000000</td>\n",
       "      <td>553576.000000</td>\n",
       "      <td>...</td>\n",
       "      <td>553576.000000</td>\n",
       "      <td>553576.000000</td>\n",
       "      <td>553576.000000</td>\n",
       "      <td>553576.000000</td>\n",
       "      <td>553576.000000</td>\n",
       "      <td>553576.000000</td>\n",
       "      <td>553576.000000</td>\n",
       "      <td>553576.000000</td>\n",
       "      <td>553576.000000</td>\n",
       "      <td>553576.0</td>\n",
       "    </tr>\n",
       "    <tr>\n",
       "      <th>mean</th>\n",
       "      <td>9.246426</td>\n",
       "      <td>86.078073</td>\n",
       "      <td>38.784934</td>\n",
       "      <td>-90.597202</td>\n",
       "      <td>0.051169</td>\n",
       "      <td>0.052667</td>\n",
       "      <td>0.040686</td>\n",
       "      <td>0.024208</td>\n",
       "      <td>0.025122</td>\n",
       "      <td>0.029134</td>\n",
       "      <td>...</td>\n",
       "      <td>0.047918</td>\n",
       "      <td>0.046705</td>\n",
       "      <td>0.036974</td>\n",
       "      <td>0.033302</td>\n",
       "      <td>0.037859</td>\n",
       "      <td>0.085226</td>\n",
       "      <td>0.053617</td>\n",
       "      <td>0.017681</td>\n",
       "      <td>0.400671</td>\n",
       "      <td>0.5</td>\n",
       "    </tr>\n",
       "    <tr>\n",
       "      <th>std</th>\n",
       "      <td>4.563692</td>\n",
       "      <td>73.817807</td>\n",
       "      <td>5.002378</td>\n",
       "      <td>14.199987</td>\n",
       "      <td>0.220343</td>\n",
       "      <td>0.223367</td>\n",
       "      <td>0.197563</td>\n",
       "      <td>0.153695</td>\n",
       "      <td>0.156496</td>\n",
       "      <td>0.168183</td>\n",
       "      <td>...</td>\n",
       "      <td>0.213592</td>\n",
       "      <td>0.211007</td>\n",
       "      <td>0.188698</td>\n",
       "      <td>0.179423</td>\n",
       "      <td>0.190856</td>\n",
       "      <td>0.279218</td>\n",
       "      <td>0.225260</td>\n",
       "      <td>0.131791</td>\n",
       "      <td>0.490035</td>\n",
       "      <td>0.5</td>\n",
       "    </tr>\n",
       "    <tr>\n",
       "      <th>min</th>\n",
       "      <td>1.000000</td>\n",
       "      <td>4.795832</td>\n",
       "      <td>19.027422</td>\n",
       "      <td>-166.671575</td>\n",
       "      <td>0.000000</td>\n",
       "      <td>0.000000</td>\n",
       "      <td>0.000000</td>\n",
       "      <td>0.000000</td>\n",
       "      <td>0.000000</td>\n",
       "      <td>0.000000</td>\n",
       "      <td>...</td>\n",
       "      <td>0.000000</td>\n",
       "      <td>0.000000</td>\n",
       "      <td>0.000000</td>\n",
       "      <td>0.000000</td>\n",
       "      <td>0.000000</td>\n",
       "      <td>0.000000</td>\n",
       "      <td>0.000000</td>\n",
       "      <td>0.000000</td>\n",
       "      <td>0.000000</td>\n",
       "      <td>0.0</td>\n",
       "    </tr>\n",
       "    <tr>\n",
       "      <th>25%</th>\n",
       "      <td>4.619673</td>\n",
       "      <td>29.631065</td>\n",
       "      <td>34.963217</td>\n",
       "      <td>-97.231770</td>\n",
       "      <td>0.000000</td>\n",
       "      <td>0.000000</td>\n",
       "      <td>0.000000</td>\n",
       "      <td>0.000000</td>\n",
       "      <td>0.000000</td>\n",
       "      <td>0.000000</td>\n",
       "      <td>...</td>\n",
       "      <td>0.000000</td>\n",
       "      <td>0.000000</td>\n",
       "      <td>0.000000</td>\n",
       "      <td>0.000000</td>\n",
       "      <td>0.000000</td>\n",
       "      <td>0.000000</td>\n",
       "      <td>0.000000</td>\n",
       "      <td>0.000000</td>\n",
       "      <td>0.000000</td>\n",
       "      <td>0.0</td>\n",
       "    </tr>\n",
       "    <tr>\n",
       "      <th>50%</th>\n",
       "      <td>9.603124</td>\n",
       "      <td>53.254108</td>\n",
       "      <td>39.597914</td>\n",
       "      <td>-87.948547</td>\n",
       "      <td>0.000000</td>\n",
       "      <td>0.000000</td>\n",
       "      <td>0.000000</td>\n",
       "      <td>0.000000</td>\n",
       "      <td>0.000000</td>\n",
       "      <td>0.000000</td>\n",
       "      <td>...</td>\n",
       "      <td>0.000000</td>\n",
       "      <td>0.000000</td>\n",
       "      <td>0.000000</td>\n",
       "      <td>0.000000</td>\n",
       "      <td>0.000000</td>\n",
       "      <td>0.000000</td>\n",
       "      <td>0.000000</td>\n",
       "      <td>0.000000</td>\n",
       "      <td>0.000000</td>\n",
       "      <td>0.5</td>\n",
       "    </tr>\n",
       "    <tr>\n",
       "      <th>75%</th>\n",
       "      <td>13.890644</td>\n",
       "      <td>130.564160</td>\n",
       "      <td>41.990381</td>\n",
       "      <td>-79.944798</td>\n",
       "      <td>0.000000</td>\n",
       "      <td>0.000000</td>\n",
       "      <td>0.000000</td>\n",
       "      <td>0.000000</td>\n",
       "      <td>0.000000</td>\n",
       "      <td>0.000000</td>\n",
       "      <td>...</td>\n",
       "      <td>0.000000</td>\n",
       "      <td>0.000000</td>\n",
       "      <td>0.000000</td>\n",
       "      <td>0.000000</td>\n",
       "      <td>0.000000</td>\n",
       "      <td>0.000000</td>\n",
       "      <td>0.000000</td>\n",
       "      <td>0.000000</td>\n",
       "      <td>1.000000</td>\n",
       "      <td>1.0</td>\n",
       "    </tr>\n",
       "    <tr>\n",
       "      <th>max</th>\n",
       "      <td>13.890644</td>\n",
       "      <td>219.319402</td>\n",
       "      <td>66.674714</td>\n",
       "      <td>-66.952352</td>\n",
       "      <td>1.000000</td>\n",
       "      <td>1.000000</td>\n",
       "      <td>1.000000</td>\n",
       "      <td>1.000000</td>\n",
       "      <td>1.000000</td>\n",
       "      <td>1.000000</td>\n",
       "      <td>...</td>\n",
       "      <td>1.000000</td>\n",
       "      <td>1.000000</td>\n",
       "      <td>1.000000</td>\n",
       "      <td>1.000000</td>\n",
       "      <td>1.000000</td>\n",
       "      <td>1.000000</td>\n",
       "      <td>1.000000</td>\n",
       "      <td>1.000000</td>\n",
       "      <td>1.000000</td>\n",
       "      <td>1.0</td>\n",
       "    </tr>\n",
       "  </tbody>\n",
       "</table>\n",
       "<p>8 rows × 26 columns</p>\n",
       "</div>"
      ],
      "text/plain": [
       "                 amt       city_pop      merch_lat     merch_long  \\\n",
       "count  553576.000000  553576.000000  553576.000000  553576.000000   \n",
       "mean        9.246426      86.078073      38.784934     -90.597202   \n",
       "std         4.563692      73.817807       5.002378      14.199987   \n",
       "min         1.000000       4.795832      19.027422    -166.671575   \n",
       "25%         4.619673      29.631065      34.963217     -97.231770   \n",
       "50%         9.603124      53.254108      39.597914     -87.948547   \n",
       "75%        13.890644     130.564160      41.990381     -79.944798   \n",
       "max        13.890644     219.319402      66.674714     -66.952352   \n",
       "\n",
       "            state_TX       state_PA       state_CA       state_OH  \\\n",
       "count  553576.000000  553576.000000  553576.000000  553576.000000   \n",
       "mean        0.051169       0.052667       0.040686       0.024208   \n",
       "std         0.220343       0.223367       0.197563       0.153695   \n",
       "min         0.000000       0.000000       0.000000       0.000000   \n",
       "25%         0.000000       0.000000       0.000000       0.000000   \n",
       "50%         0.000000       0.000000       0.000000       0.000000   \n",
       "75%         0.000000       0.000000       0.000000       0.000000   \n",
       "max         1.000000       1.000000       1.000000       1.000000   \n",
       "\n",
       "            state_MI       state_IL  ...  category_home  category_kids_pets  \\\n",
       "count  553576.000000  553576.000000  ...  553576.000000       553576.000000   \n",
       "mean        0.025122       0.029134  ...       0.047918            0.046705   \n",
       "std         0.156496       0.168183  ...       0.213592            0.211007   \n",
       "min         0.000000       0.000000  ...       0.000000            0.000000   \n",
       "25%         0.000000       0.000000  ...       0.000000            0.000000   \n",
       "50%         0.000000       0.000000  ...       0.000000            0.000000   \n",
       "75%         0.000000       0.000000  ...       0.000000            0.000000   \n",
       "max         1.000000       1.000000  ...       1.000000            1.000000   \n",
       "\n",
       "       category_misc_net  category_misc_pos  category_personal_care  \\\n",
       "count      553576.000000      553576.000000           553576.000000   \n",
       "mean            0.036974           0.033302                0.037859   \n",
       "std             0.188698           0.179423                0.190856   \n",
       "min             0.000000           0.000000                0.000000   \n",
       "25%             0.000000           0.000000                0.000000   \n",
       "50%             0.000000           0.000000                0.000000   \n",
       "75%             0.000000           0.000000                0.000000   \n",
       "max             1.000000           1.000000                1.000000   \n",
       "\n",
       "       category_shopping_net  category_shopping_pos  category_travel  \\\n",
       "count          553576.000000          553576.000000    553576.000000   \n",
       "mean                0.085226               0.053617         0.017681   \n",
       "std                 0.279218               0.225260         0.131791   \n",
       "min                 0.000000               0.000000         0.000000   \n",
       "25%                 0.000000               0.000000         0.000000   \n",
       "50%                 0.000000               0.000000         0.000000   \n",
       "75%                 0.000000               0.000000         0.000000   \n",
       "max                 1.000000               1.000000         1.000000   \n",
       "\n",
       "            gender_M  is_fraud  \n",
       "count  553576.000000  553576.0  \n",
       "mean        0.400671       0.5  \n",
       "std         0.490035       0.5  \n",
       "min         0.000000       0.0  \n",
       "25%         0.000000       0.0  \n",
       "50%         0.000000       0.5  \n",
       "75%         1.000000       1.0  \n",
       "max         1.000000       1.0  \n",
       "\n",
       "[8 rows x 26 columns]"
      ]
     },
     "execution_count": 97,
     "metadata": {},
     "output_type": "execute_result"
    }
   ],
   "source": [
    "df_train.describe()"
   ]
  },
  {
   "cell_type": "markdown",
   "id": "ddb8139b",
   "metadata": {},
   "source": [
    "It can be observed that there is different in the scales of respective continuous features. So we need to perform feature scaling. We can use **MinMaxScaler** to perform Min max normalization"
   ]
  },
  {
   "cell_type": "code",
   "execution_count": 98,
   "id": "5f505f64",
   "metadata": {},
   "outputs": [],
   "source": [
    "from sklearn.preprocessing import MinMaxScaler"
   ]
  },
  {
   "cell_type": "code",
   "execution_count": 99,
   "id": "b71f2d70",
   "metadata": {},
   "outputs": [],
   "source": [
    "std_scaler = MinMaxScaler()"
   ]
  },
  {
   "cell_type": "code",
   "execution_count": 100,
   "id": "778e5315",
   "metadata": {},
   "outputs": [
    {
     "data": {
      "text/plain": [
       "MinMaxScaler()"
      ]
     },
     "execution_count": 100,
     "metadata": {},
     "output_type": "execute_result"
    }
   ],
   "source": [
    "std_scaler.fit(df_train)"
   ]
  },
  {
   "cell_type": "code",
   "execution_count": 101,
   "id": "24b8ce78",
   "metadata": {},
   "outputs": [],
   "source": [
    "df_train_scaled = std_scaler.transform(df_train)"
   ]
  },
  {
   "cell_type": "code",
   "execution_count": 102,
   "id": "ed11fcf1",
   "metadata": {},
   "outputs": [],
   "source": [
    "df_train = pd.DataFrame(df_train_scaled, columns=df_train.columns)"
   ]
  },
  {
   "cell_type": "code",
   "execution_count": 103,
   "id": "14ea98fb",
   "metadata": {},
   "outputs": [
    {
     "data": {
      "text/html": [
       "<div>\n",
       "<style scoped>\n",
       "    .dataframe tbody tr th:only-of-type {\n",
       "        vertical-align: middle;\n",
       "    }\n",
       "\n",
       "    .dataframe tbody tr th {\n",
       "        vertical-align: top;\n",
       "    }\n",
       "\n",
       "    .dataframe thead th {\n",
       "        text-align: right;\n",
       "    }\n",
       "</style>\n",
       "<table border=\"1\" class=\"dataframe\">\n",
       "  <thead>\n",
       "    <tr style=\"text-align: right;\">\n",
       "      <th></th>\n",
       "      <th>amt</th>\n",
       "      <th>city_pop</th>\n",
       "      <th>merch_lat</th>\n",
       "      <th>merch_long</th>\n",
       "      <th>state_TX</th>\n",
       "      <th>state_PA</th>\n",
       "      <th>state_CA</th>\n",
       "      <th>state_OH</th>\n",
       "      <th>state_MI</th>\n",
       "      <th>state_IL</th>\n",
       "      <th>...</th>\n",
       "      <th>category_home</th>\n",
       "      <th>category_kids_pets</th>\n",
       "      <th>category_misc_net</th>\n",
       "      <th>category_misc_pos</th>\n",
       "      <th>category_personal_care</th>\n",
       "      <th>category_shopping_net</th>\n",
       "      <th>category_shopping_pos</th>\n",
       "      <th>category_travel</th>\n",
       "      <th>gender_M</th>\n",
       "      <th>is_fraud</th>\n",
       "    </tr>\n",
       "  </thead>\n",
       "  <tbody>\n",
       "    <tr>\n",
       "      <th>0</th>\n",
       "      <td>0.124717</td>\n",
       "      <td>0.094275</td>\n",
       "      <td>0.434976</td>\n",
       "      <td>0.881913</td>\n",
       "      <td>0.0</td>\n",
       "      <td>0.0</td>\n",
       "      <td>0.0</td>\n",
       "      <td>0.0</td>\n",
       "      <td>0.0</td>\n",
       "      <td>0.0</td>\n",
       "      <td>...</td>\n",
       "      <td>1.0</td>\n",
       "      <td>0.0</td>\n",
       "      <td>0.0</td>\n",
       "      <td>0.0</td>\n",
       "      <td>0.0</td>\n",
       "      <td>0.0</td>\n",
       "      <td>0.0</td>\n",
       "      <td>0.0</td>\n",
       "      <td>1.0</td>\n",
       "      <td>0.0</td>\n",
       "    </tr>\n",
       "    <tr>\n",
       "      <th>1</th>\n",
       "      <td>0.531973</td>\n",
       "      <td>1.000000</td>\n",
       "      <td>0.552261</td>\n",
       "      <td>0.436764</td>\n",
       "      <td>0.0</td>\n",
       "      <td>0.0</td>\n",
       "      <td>0.0</td>\n",
       "      <td>0.0</td>\n",
       "      <td>0.0</td>\n",
       "      <td>0.0</td>\n",
       "      <td>...</td>\n",
       "      <td>0.0</td>\n",
       "      <td>0.0</td>\n",
       "      <td>0.0</td>\n",
       "      <td>0.0</td>\n",
       "      <td>0.0</td>\n",
       "      <td>0.0</td>\n",
       "      <td>0.0</td>\n",
       "      <td>0.0</td>\n",
       "      <td>1.0</td>\n",
       "      <td>0.0</td>\n",
       "    </tr>\n",
       "    <tr>\n",
       "      <th>2</th>\n",
       "      <td>1.000000</td>\n",
       "      <td>0.570644</td>\n",
       "      <td>0.425986</td>\n",
       "      <td>0.859062</td>\n",
       "      <td>0.0</td>\n",
       "      <td>0.0</td>\n",
       "      <td>0.0</td>\n",
       "      <td>0.0</td>\n",
       "      <td>0.0</td>\n",
       "      <td>0.0</td>\n",
       "      <td>...</td>\n",
       "      <td>0.0</td>\n",
       "      <td>0.0</td>\n",
       "      <td>0.0</td>\n",
       "      <td>0.0</td>\n",
       "      <td>0.0</td>\n",
       "      <td>0.0</td>\n",
       "      <td>1.0</td>\n",
       "      <td>0.0</td>\n",
       "      <td>0.0</td>\n",
       "      <td>0.0</td>\n",
       "    </tr>\n",
       "    <tr>\n",
       "      <th>3</th>\n",
       "      <td>0.029355</td>\n",
       "      <td>0.060114</td>\n",
       "      <td>0.388848</td>\n",
       "      <td>0.914550</td>\n",
       "      <td>0.0</td>\n",
       "      <td>0.0</td>\n",
       "      <td>0.0</td>\n",
       "      <td>0.0</td>\n",
       "      <td>0.0</td>\n",
       "      <td>0.0</td>\n",
       "      <td>...</td>\n",
       "      <td>0.0</td>\n",
       "      <td>0.0</td>\n",
       "      <td>0.0</td>\n",
       "      <td>0.0</td>\n",
       "      <td>0.0</td>\n",
       "      <td>0.0</td>\n",
       "      <td>0.0</td>\n",
       "      <td>0.0</td>\n",
       "      <td>0.0</td>\n",
       "      <td>0.0</td>\n",
       "    </tr>\n",
       "    <tr>\n",
       "      <th>4</th>\n",
       "      <td>0.553081</td>\n",
       "      <td>0.161935</td>\n",
       "      <td>0.283892</td>\n",
       "      <td>0.704861</td>\n",
       "      <td>1.0</td>\n",
       "      <td>0.0</td>\n",
       "      <td>0.0</td>\n",
       "      <td>0.0</td>\n",
       "      <td>0.0</td>\n",
       "      <td>0.0</td>\n",
       "      <td>...</td>\n",
       "      <td>0.0</td>\n",
       "      <td>0.0</td>\n",
       "      <td>0.0</td>\n",
       "      <td>0.0</td>\n",
       "      <td>0.0</td>\n",
       "      <td>0.0</td>\n",
       "      <td>0.0</td>\n",
       "      <td>0.0</td>\n",
       "      <td>0.0</td>\n",
       "      <td>0.0</td>\n",
       "    </tr>\n",
       "  </tbody>\n",
       "</table>\n",
       "<p>5 rows × 26 columns</p>\n",
       "</div>"
      ],
      "text/plain": [
       "        amt  city_pop  merch_lat  merch_long  state_TX  state_PA  state_CA  \\\n",
       "0  0.124717  0.094275   0.434976    0.881913       0.0       0.0       0.0   \n",
       "1  0.531973  1.000000   0.552261    0.436764       0.0       0.0       0.0   \n",
       "2  1.000000  0.570644   0.425986    0.859062       0.0       0.0       0.0   \n",
       "3  0.029355  0.060114   0.388848    0.914550       0.0       0.0       0.0   \n",
       "4  0.553081  0.161935   0.283892    0.704861       1.0       0.0       0.0   \n",
       "\n",
       "   state_OH  state_MI  state_IL  ...  category_home  category_kids_pets  \\\n",
       "0       0.0       0.0       0.0  ...            1.0                 0.0   \n",
       "1       0.0       0.0       0.0  ...            0.0                 0.0   \n",
       "2       0.0       0.0       0.0  ...            0.0                 0.0   \n",
       "3       0.0       0.0       0.0  ...            0.0                 0.0   \n",
       "4       0.0       0.0       0.0  ...            0.0                 0.0   \n",
       "\n",
       "   category_misc_net  category_misc_pos  category_personal_care  \\\n",
       "0                0.0                0.0                     0.0   \n",
       "1                0.0                0.0                     0.0   \n",
       "2                0.0                0.0                     0.0   \n",
       "3                0.0                0.0                     0.0   \n",
       "4                0.0                0.0                     0.0   \n",
       "\n",
       "   category_shopping_net  category_shopping_pos  category_travel  gender_M  \\\n",
       "0                    0.0                    0.0              0.0       1.0   \n",
       "1                    0.0                    0.0              0.0       1.0   \n",
       "2                    0.0                    1.0              0.0       0.0   \n",
       "3                    0.0                    0.0              0.0       0.0   \n",
       "4                    0.0                    0.0              0.0       0.0   \n",
       "\n",
       "   is_fraud  \n",
       "0       0.0  \n",
       "1       0.0  \n",
       "2       0.0  \n",
       "3       0.0  \n",
       "4       0.0  \n",
       "\n",
       "[5 rows x 26 columns]"
      ]
     },
     "execution_count": 103,
     "metadata": {},
     "output_type": "execute_result"
    }
   ],
   "source": [
    "df_train.head()"
   ]
  },
  {
   "cell_type": "code",
   "execution_count": 104,
   "id": "1a8c5918",
   "metadata": {},
   "outputs": [
    {
     "data": {
      "text/html": [
       "<div>\n",
       "<style scoped>\n",
       "    .dataframe tbody tr th:only-of-type {\n",
       "        vertical-align: middle;\n",
       "    }\n",
       "\n",
       "    .dataframe tbody tr th {\n",
       "        vertical-align: top;\n",
       "    }\n",
       "\n",
       "    .dataframe thead th {\n",
       "        text-align: right;\n",
       "    }\n",
       "</style>\n",
       "<table border=\"1\" class=\"dataframe\">\n",
       "  <thead>\n",
       "    <tr style=\"text-align: right;\">\n",
       "      <th></th>\n",
       "      <th>amt</th>\n",
       "      <th>city_pop</th>\n",
       "      <th>merch_lat</th>\n",
       "      <th>merch_long</th>\n",
       "      <th>state_TX</th>\n",
       "      <th>state_PA</th>\n",
       "      <th>state_CA</th>\n",
       "      <th>state_OH</th>\n",
       "      <th>state_MI</th>\n",
       "      <th>state_IL</th>\n",
       "      <th>...</th>\n",
       "      <th>category_home</th>\n",
       "      <th>category_kids_pets</th>\n",
       "      <th>category_misc_net</th>\n",
       "      <th>category_misc_pos</th>\n",
       "      <th>category_personal_care</th>\n",
       "      <th>category_shopping_net</th>\n",
       "      <th>category_shopping_pos</th>\n",
       "      <th>category_travel</th>\n",
       "      <th>gender_M</th>\n",
       "      <th>is_fraud</th>\n",
       "    </tr>\n",
       "  </thead>\n",
       "  <tbody>\n",
       "    <tr>\n",
       "      <th>count</th>\n",
       "      <td>553576.000000</td>\n",
       "      <td>553576.000000</td>\n",
       "      <td>553576.000000</td>\n",
       "      <td>553576.000000</td>\n",
       "      <td>553576.000000</td>\n",
       "      <td>553576.000000</td>\n",
       "      <td>553576.000000</td>\n",
       "      <td>553576.000000</td>\n",
       "      <td>553576.000000</td>\n",
       "      <td>553576.000000</td>\n",
       "      <td>...</td>\n",
       "      <td>553576.000000</td>\n",
       "      <td>553576.000000</td>\n",
       "      <td>553576.000000</td>\n",
       "      <td>553576.000000</td>\n",
       "      <td>553576.000000</td>\n",
       "      <td>553576.000000</td>\n",
       "      <td>553576.000000</td>\n",
       "      <td>553576.000000</td>\n",
       "      <td>553576.000000</td>\n",
       "      <td>553576.0</td>\n",
       "    </tr>\n",
       "    <tr>\n",
       "      <th>mean</th>\n",
       "      <td>0.639722</td>\n",
       "      <td>0.378897</td>\n",
       "      <td>0.414662</td>\n",
       "      <td>0.762886</td>\n",
       "      <td>0.051169</td>\n",
       "      <td>0.052667</td>\n",
       "      <td>0.040686</td>\n",
       "      <td>0.024208</td>\n",
       "      <td>0.025122</td>\n",
       "      <td>0.029134</td>\n",
       "      <td>...</td>\n",
       "      <td>0.047918</td>\n",
       "      <td>0.046705</td>\n",
       "      <td>0.036974</td>\n",
       "      <td>0.033302</td>\n",
       "      <td>0.037859</td>\n",
       "      <td>0.085226</td>\n",
       "      <td>0.053617</td>\n",
       "      <td>0.017681</td>\n",
       "      <td>0.400671</td>\n",
       "      <td>0.5</td>\n",
       "    </tr>\n",
       "    <tr>\n",
       "      <th>std</th>\n",
       "      <td>0.354031</td>\n",
       "      <td>0.344101</td>\n",
       "      <td>0.104988</td>\n",
       "      <td>0.142400</td>\n",
       "      <td>0.220343</td>\n",
       "      <td>0.223367</td>\n",
       "      <td>0.197563</td>\n",
       "      <td>0.153695</td>\n",
       "      <td>0.156496</td>\n",
       "      <td>0.168183</td>\n",
       "      <td>...</td>\n",
       "      <td>0.213592</td>\n",
       "      <td>0.211007</td>\n",
       "      <td>0.188698</td>\n",
       "      <td>0.179423</td>\n",
       "      <td>0.190856</td>\n",
       "      <td>0.279218</td>\n",
       "      <td>0.225260</td>\n",
       "      <td>0.131791</td>\n",
       "      <td>0.490035</td>\n",
       "      <td>0.5</td>\n",
       "    </tr>\n",
       "    <tr>\n",
       "      <th>min</th>\n",
       "      <td>0.000000</td>\n",
       "      <td>0.000000</td>\n",
       "      <td>0.000000</td>\n",
       "      <td>0.000000</td>\n",
       "      <td>0.000000</td>\n",
       "      <td>0.000000</td>\n",
       "      <td>0.000000</td>\n",
       "      <td>0.000000</td>\n",
       "      <td>0.000000</td>\n",
       "      <td>0.000000</td>\n",
       "      <td>...</td>\n",
       "      <td>0.000000</td>\n",
       "      <td>0.000000</td>\n",
       "      <td>0.000000</td>\n",
       "      <td>0.000000</td>\n",
       "      <td>0.000000</td>\n",
       "      <td>0.000000</td>\n",
       "      <td>0.000000</td>\n",
       "      <td>0.000000</td>\n",
       "      <td>0.000000</td>\n",
       "      <td>0.0</td>\n",
       "    </tr>\n",
       "    <tr>\n",
       "      <th>25%</th>\n",
       "      <td>0.280798</td>\n",
       "      <td>0.115769</td>\n",
       "      <td>0.334453</td>\n",
       "      <td>0.696353</td>\n",
       "      <td>0.000000</td>\n",
       "      <td>0.000000</td>\n",
       "      <td>0.000000</td>\n",
       "      <td>0.000000</td>\n",
       "      <td>0.000000</td>\n",
       "      <td>0.000000</td>\n",
       "      <td>...</td>\n",
       "      <td>0.000000</td>\n",
       "      <td>0.000000</td>\n",
       "      <td>0.000000</td>\n",
       "      <td>0.000000</td>\n",
       "      <td>0.000000</td>\n",
       "      <td>0.000000</td>\n",
       "      <td>0.000000</td>\n",
       "      <td>0.000000</td>\n",
       "      <td>0.000000</td>\n",
       "      <td>0.0</td>\n",
       "    </tr>\n",
       "    <tr>\n",
       "      <th>50%</th>\n",
       "      <td>0.667393</td>\n",
       "      <td>0.225888</td>\n",
       "      <td>0.431724</td>\n",
       "      <td>0.789447</td>\n",
       "      <td>0.000000</td>\n",
       "      <td>0.000000</td>\n",
       "      <td>0.000000</td>\n",
       "      <td>0.000000</td>\n",
       "      <td>0.000000</td>\n",
       "      <td>0.000000</td>\n",
       "      <td>...</td>\n",
       "      <td>0.000000</td>\n",
       "      <td>0.000000</td>\n",
       "      <td>0.000000</td>\n",
       "      <td>0.000000</td>\n",
       "      <td>0.000000</td>\n",
       "      <td>0.000000</td>\n",
       "      <td>0.000000</td>\n",
       "      <td>0.000000</td>\n",
       "      <td>0.000000</td>\n",
       "      <td>0.5</td>\n",
       "    </tr>\n",
       "    <tr>\n",
       "      <th>75%</th>\n",
       "      <td>1.000000</td>\n",
       "      <td>0.586268</td>\n",
       "      <td>0.481936</td>\n",
       "      <td>0.869710</td>\n",
       "      <td>0.000000</td>\n",
       "      <td>0.000000</td>\n",
       "      <td>0.000000</td>\n",
       "      <td>0.000000</td>\n",
       "      <td>0.000000</td>\n",
       "      <td>0.000000</td>\n",
       "      <td>...</td>\n",
       "      <td>0.000000</td>\n",
       "      <td>0.000000</td>\n",
       "      <td>0.000000</td>\n",
       "      <td>0.000000</td>\n",
       "      <td>0.000000</td>\n",
       "      <td>0.000000</td>\n",
       "      <td>0.000000</td>\n",
       "      <td>0.000000</td>\n",
       "      <td>1.000000</td>\n",
       "      <td>1.0</td>\n",
       "    </tr>\n",
       "    <tr>\n",
       "      <th>max</th>\n",
       "      <td>1.000000</td>\n",
       "      <td>1.000000</td>\n",
       "      <td>1.000000</td>\n",
       "      <td>1.000000</td>\n",
       "      <td>1.000000</td>\n",
       "      <td>1.000000</td>\n",
       "      <td>1.000000</td>\n",
       "      <td>1.000000</td>\n",
       "      <td>1.000000</td>\n",
       "      <td>1.000000</td>\n",
       "      <td>...</td>\n",
       "      <td>1.000000</td>\n",
       "      <td>1.000000</td>\n",
       "      <td>1.000000</td>\n",
       "      <td>1.000000</td>\n",
       "      <td>1.000000</td>\n",
       "      <td>1.000000</td>\n",
       "      <td>1.000000</td>\n",
       "      <td>1.000000</td>\n",
       "      <td>1.000000</td>\n",
       "      <td>1.0</td>\n",
       "    </tr>\n",
       "  </tbody>\n",
       "</table>\n",
       "<p>8 rows × 26 columns</p>\n",
       "</div>"
      ],
      "text/plain": [
       "                 amt       city_pop      merch_lat     merch_long  \\\n",
       "count  553576.000000  553576.000000  553576.000000  553576.000000   \n",
       "mean        0.639722       0.378897       0.414662       0.762886   \n",
       "std         0.354031       0.344101       0.104988       0.142400   \n",
       "min         0.000000       0.000000       0.000000       0.000000   \n",
       "25%         0.280798       0.115769       0.334453       0.696353   \n",
       "50%         0.667393       0.225888       0.431724       0.789447   \n",
       "75%         1.000000       0.586268       0.481936       0.869710   \n",
       "max         1.000000       1.000000       1.000000       1.000000   \n",
       "\n",
       "            state_TX       state_PA       state_CA       state_OH  \\\n",
       "count  553576.000000  553576.000000  553576.000000  553576.000000   \n",
       "mean        0.051169       0.052667       0.040686       0.024208   \n",
       "std         0.220343       0.223367       0.197563       0.153695   \n",
       "min         0.000000       0.000000       0.000000       0.000000   \n",
       "25%         0.000000       0.000000       0.000000       0.000000   \n",
       "50%         0.000000       0.000000       0.000000       0.000000   \n",
       "75%         0.000000       0.000000       0.000000       0.000000   \n",
       "max         1.000000       1.000000       1.000000       1.000000   \n",
       "\n",
       "            state_MI       state_IL  ...  category_home  category_kids_pets  \\\n",
       "count  553576.000000  553576.000000  ...  553576.000000       553576.000000   \n",
       "mean        0.025122       0.029134  ...       0.047918            0.046705   \n",
       "std         0.156496       0.168183  ...       0.213592            0.211007   \n",
       "min         0.000000       0.000000  ...       0.000000            0.000000   \n",
       "25%         0.000000       0.000000  ...       0.000000            0.000000   \n",
       "50%         0.000000       0.000000  ...       0.000000            0.000000   \n",
       "75%         0.000000       0.000000  ...       0.000000            0.000000   \n",
       "max         1.000000       1.000000  ...       1.000000            1.000000   \n",
       "\n",
       "       category_misc_net  category_misc_pos  category_personal_care  \\\n",
       "count      553576.000000      553576.000000           553576.000000   \n",
       "mean            0.036974           0.033302                0.037859   \n",
       "std             0.188698           0.179423                0.190856   \n",
       "min             0.000000           0.000000                0.000000   \n",
       "25%             0.000000           0.000000                0.000000   \n",
       "50%             0.000000           0.000000                0.000000   \n",
       "75%             0.000000           0.000000                0.000000   \n",
       "max             1.000000           1.000000                1.000000   \n",
       "\n",
       "       category_shopping_net  category_shopping_pos  category_travel  \\\n",
       "count          553576.000000          553576.000000    553576.000000   \n",
       "mean                0.085226               0.053617         0.017681   \n",
       "std                 0.279218               0.225260         0.131791   \n",
       "min                 0.000000               0.000000         0.000000   \n",
       "25%                 0.000000               0.000000         0.000000   \n",
       "50%                 0.000000               0.000000         0.000000   \n",
       "75%                 0.000000               0.000000         0.000000   \n",
       "max                 1.000000               1.000000         1.000000   \n",
       "\n",
       "            gender_M  is_fraud  \n",
       "count  553576.000000  553576.0  \n",
       "mean        0.400671       0.5  \n",
       "std         0.490035       0.5  \n",
       "min         0.000000       0.0  \n",
       "25%         0.000000       0.0  \n",
       "50%         0.000000       0.5  \n",
       "75%         1.000000       1.0  \n",
       "max         1.000000       1.0  \n",
       "\n",
       "[8 rows x 26 columns]"
      ]
     },
     "execution_count": 104,
     "metadata": {},
     "output_type": "execute_result"
    }
   ],
   "source": [
    "df_train.describe()"
   ]
  },
  {
   "cell_type": "markdown",
   "id": "e4991619",
   "metadata": {},
   "source": [
    "It can be observed that the features have been scaled in the training dataset"
   ]
  },
  {
   "cell_type": "markdown",
   "id": "c26d9b51",
   "metadata": {},
   "source": [
    "#### Performing feature engineering on the test dataset"
   ]
  },
  {
   "cell_type": "code",
   "execution_count": 105,
   "id": "f77b8590",
   "metadata": {},
   "outputs": [
    {
     "data": {
      "text/html": [
       "<div>\n",
       "<style scoped>\n",
       "    .dataframe tbody tr th:only-of-type {\n",
       "        vertical-align: middle;\n",
       "    }\n",
       "\n",
       "    .dataframe tbody tr th {\n",
       "        vertical-align: top;\n",
       "    }\n",
       "\n",
       "    .dataframe thead th {\n",
       "        text-align: right;\n",
       "    }\n",
       "</style>\n",
       "<table border=\"1\" class=\"dataframe\">\n",
       "  <thead>\n",
       "    <tr style=\"text-align: right;\">\n",
       "      <th></th>\n",
       "      <th>category</th>\n",
       "      <th>amt</th>\n",
       "      <th>gender</th>\n",
       "      <th>state</th>\n",
       "      <th>city_pop</th>\n",
       "      <th>merch_lat</th>\n",
       "      <th>merch_long</th>\n",
       "      <th>is_fraud</th>\n",
       "    </tr>\n",
       "  </thead>\n",
       "  <tbody>\n",
       "    <tr>\n",
       "      <th>0</th>\n",
       "      <td>shopping_pos</td>\n",
       "      <td>1.07</td>\n",
       "      <td>F</td>\n",
       "      <td>CT</td>\n",
       "      <td>5438</td>\n",
       "      <td>41.240083</td>\n",
       "      <td>-71.837788</td>\n",
       "      <td>0</td>\n",
       "    </tr>\n",
       "    <tr>\n",
       "      <th>1</th>\n",
       "      <td>kids_pets</td>\n",
       "      <td>94.99</td>\n",
       "      <td>M</td>\n",
       "      <td>OK</td>\n",
       "      <td>7163</td>\n",
       "      <td>35.156537</td>\n",
       "      <td>-95.806648</td>\n",
       "      <td>0</td>\n",
       "    </tr>\n",
       "    <tr>\n",
       "      <th>2</th>\n",
       "      <td>kids_pets</td>\n",
       "      <td>31.28</td>\n",
       "      <td>F</td>\n",
       "      <td>MO</td>\n",
       "      <td>602</td>\n",
       "      <td>39.888665</td>\n",
       "      <td>-93.106804</td>\n",
       "      <td>0</td>\n",
       "    </tr>\n",
       "    <tr>\n",
       "      <th>3</th>\n",
       "      <td>gas_transport</td>\n",
       "      <td>73.06</td>\n",
       "      <td>M</td>\n",
       "      <td>OK</td>\n",
       "      <td>7163</td>\n",
       "      <td>36.734101</td>\n",
       "      <td>-96.737345</td>\n",
       "      <td>0</td>\n",
       "    </tr>\n",
       "    <tr>\n",
       "      <th>4</th>\n",
       "      <td>misc_net</td>\n",
       "      <td>9.99</td>\n",
       "      <td>F</td>\n",
       "      <td>IA</td>\n",
       "      <td>2036</td>\n",
       "      <td>40.922072</td>\n",
       "      <td>-94.899388</td>\n",
       "      <td>0</td>\n",
       "    </tr>\n",
       "  </tbody>\n",
       "</table>\n",
       "</div>"
      ],
      "text/plain": [
       "        category    amt gender state  city_pop  merch_lat  merch_long  \\\n",
       "0   shopping_pos   1.07      F    CT      5438  41.240083  -71.837788   \n",
       "1      kids_pets  94.99      M    OK      7163  35.156537  -95.806648   \n",
       "2      kids_pets  31.28      F    MO       602  39.888665  -93.106804   \n",
       "3  gas_transport  73.06      M    OK      7163  36.734101  -96.737345   \n",
       "4       misc_net   9.99      F    IA      2036  40.922072  -94.899388   \n",
       "\n",
       "   is_fraud  \n",
       "0         0  \n",
       "1         0  \n",
       "2         0  \n",
       "3         0  \n",
       "4         0  "
      ]
     },
     "execution_count": 105,
     "metadata": {},
     "output_type": "execute_result"
    }
   ],
   "source": [
    "df_test.head()"
   ]
  },
  {
   "cell_type": "markdown",
   "id": "c1025023",
   "metadata": {},
   "source": [
    "Checking if there are any missing values in the test dataset"
   ]
  },
  {
   "cell_type": "code",
   "execution_count": 106,
   "id": "41ff531a",
   "metadata": {},
   "outputs": [
    {
     "data": {
      "text/plain": [
       "category      0\n",
       "amt           0\n",
       "gender        0\n",
       "state         0\n",
       "city_pop      0\n",
       "merch_lat     0\n",
       "merch_long    0\n",
       "is_fraud      0\n",
       "dtype: int64"
      ]
     },
     "execution_count": 106,
     "metadata": {},
     "output_type": "execute_result"
    }
   ],
   "source": [
    "df_test.isnull().sum()"
   ]
  },
  {
   "cell_type": "markdown",
   "id": "693dd436",
   "metadata": {},
   "source": [
    "#### Encoding of categorical variables in the training dataset"
   ]
  },
  {
   "cell_type": "code",
   "execution_count": 107,
   "id": "d4696278",
   "metadata": {},
   "outputs": [],
   "source": [
    "categorical_features = [feature for feature in df_test.select_dtypes(np.object).columns]"
   ]
  },
  {
   "cell_type": "code",
   "execution_count": 108,
   "id": "1c3074e6",
   "metadata": {},
   "outputs": [
    {
     "data": {
      "text/plain": [
       "['category', 'gender', 'state']"
      ]
     },
     "execution_count": 108,
     "metadata": {},
     "output_type": "execute_result"
    }
   ],
   "source": [
    "categorical_features"
   ]
  },
  {
   "cell_type": "code",
   "execution_count": 109,
   "id": "225127c0",
   "metadata": {},
   "outputs": [
    {
     "name": "stdout",
     "output_type": "stream",
     "text": [
      "Unique categories in the feature category :  14\n",
      "Unique categories in the feature gender :  2\n",
      "Unique categories in the feature state :  50\n"
     ]
    }
   ],
   "source": [
    "for col in categorical_features:\n",
    "    print('Unique categories in the feature', col, ': ', df_test[col].nunique())"
   ]
  },
  {
   "cell_type": "code",
   "execution_count": 110,
   "id": "42a5ccaf",
   "metadata": {},
   "outputs": [],
   "source": [
    "def one_hot_top_10(dataset, variable):\n",
    "    top_10 = [x for x in dataset[variable].value_counts().sort_values(ascending=False).head(10).index]\n",
    "    \n",
    "    for label in top_10:\n",
    "        dataset[variable+'_'+label] = np.where(dataset[variable]==label,1,0)"
   ]
  },
  {
   "cell_type": "code",
   "execution_count": 111,
   "id": "d730e530",
   "metadata": {},
   "outputs": [],
   "source": [
    "one_hot_top_10(df_test, 'state')"
   ]
  },
  {
   "cell_type": "code",
   "execution_count": 112,
   "id": "20e4d3d5",
   "metadata": {},
   "outputs": [],
   "source": [
    "df_test = df_test.drop(columns=[\"state\"], axis=1)"
   ]
  },
  {
   "cell_type": "code",
   "execution_count": 113,
   "id": "73c18068",
   "metadata": {},
   "outputs": [],
   "source": [
    "df_test = pd.get_dummies(df_test, drop_first=True)"
   ]
  },
  {
   "cell_type": "code",
   "execution_count": 114,
   "id": "27e86e43",
   "metadata": {},
   "outputs": [
    {
     "data": {
      "text/html": [
       "<div>\n",
       "<style scoped>\n",
       "    .dataframe tbody tr th:only-of-type {\n",
       "        vertical-align: middle;\n",
       "    }\n",
       "\n",
       "    .dataframe tbody tr th {\n",
       "        vertical-align: top;\n",
       "    }\n",
       "\n",
       "    .dataframe thead th {\n",
       "        text-align: right;\n",
       "    }\n",
       "</style>\n",
       "<table border=\"1\" class=\"dataframe\">\n",
       "  <thead>\n",
       "    <tr style=\"text-align: right;\">\n",
       "      <th></th>\n",
       "      <th>amt</th>\n",
       "      <th>city_pop</th>\n",
       "      <th>merch_lat</th>\n",
       "      <th>merch_long</th>\n",
       "      <th>is_fraud</th>\n",
       "      <th>state_TX</th>\n",
       "      <th>state_NY</th>\n",
       "      <th>state_PA</th>\n",
       "      <th>state_CA</th>\n",
       "      <th>state_OH</th>\n",
       "      <th>...</th>\n",
       "      <th>category_health_fitness</th>\n",
       "      <th>category_home</th>\n",
       "      <th>category_kids_pets</th>\n",
       "      <th>category_misc_net</th>\n",
       "      <th>category_misc_pos</th>\n",
       "      <th>category_personal_care</th>\n",
       "      <th>category_shopping_net</th>\n",
       "      <th>category_shopping_pos</th>\n",
       "      <th>category_travel</th>\n",
       "      <th>gender_M</th>\n",
       "    </tr>\n",
       "  </thead>\n",
       "  <tbody>\n",
       "    <tr>\n",
       "      <th>0</th>\n",
       "      <td>1.07</td>\n",
       "      <td>5438</td>\n",
       "      <td>41.240083</td>\n",
       "      <td>-71.837788</td>\n",
       "      <td>0</td>\n",
       "      <td>0</td>\n",
       "      <td>0</td>\n",
       "      <td>0</td>\n",
       "      <td>0</td>\n",
       "      <td>0</td>\n",
       "      <td>...</td>\n",
       "      <td>0</td>\n",
       "      <td>0</td>\n",
       "      <td>0</td>\n",
       "      <td>0</td>\n",
       "      <td>0</td>\n",
       "      <td>0</td>\n",
       "      <td>0</td>\n",
       "      <td>1</td>\n",
       "      <td>0</td>\n",
       "      <td>0</td>\n",
       "    </tr>\n",
       "    <tr>\n",
       "      <th>1</th>\n",
       "      <td>94.99</td>\n",
       "      <td>7163</td>\n",
       "      <td>35.156537</td>\n",
       "      <td>-95.806648</td>\n",
       "      <td>0</td>\n",
       "      <td>0</td>\n",
       "      <td>0</td>\n",
       "      <td>0</td>\n",
       "      <td>0</td>\n",
       "      <td>0</td>\n",
       "      <td>...</td>\n",
       "      <td>0</td>\n",
       "      <td>0</td>\n",
       "      <td>1</td>\n",
       "      <td>0</td>\n",
       "      <td>0</td>\n",
       "      <td>0</td>\n",
       "      <td>0</td>\n",
       "      <td>0</td>\n",
       "      <td>0</td>\n",
       "      <td>1</td>\n",
       "    </tr>\n",
       "    <tr>\n",
       "      <th>2</th>\n",
       "      <td>31.28</td>\n",
       "      <td>602</td>\n",
       "      <td>39.888665</td>\n",
       "      <td>-93.106804</td>\n",
       "      <td>0</td>\n",
       "      <td>0</td>\n",
       "      <td>0</td>\n",
       "      <td>0</td>\n",
       "      <td>0</td>\n",
       "      <td>0</td>\n",
       "      <td>...</td>\n",
       "      <td>0</td>\n",
       "      <td>0</td>\n",
       "      <td>1</td>\n",
       "      <td>0</td>\n",
       "      <td>0</td>\n",
       "      <td>0</td>\n",
       "      <td>0</td>\n",
       "      <td>0</td>\n",
       "      <td>0</td>\n",
       "      <td>0</td>\n",
       "    </tr>\n",
       "    <tr>\n",
       "      <th>3</th>\n",
       "      <td>73.06</td>\n",
       "      <td>7163</td>\n",
       "      <td>36.734101</td>\n",
       "      <td>-96.737345</td>\n",
       "      <td>0</td>\n",
       "      <td>0</td>\n",
       "      <td>0</td>\n",
       "      <td>0</td>\n",
       "      <td>0</td>\n",
       "      <td>0</td>\n",
       "      <td>...</td>\n",
       "      <td>0</td>\n",
       "      <td>0</td>\n",
       "      <td>0</td>\n",
       "      <td>0</td>\n",
       "      <td>0</td>\n",
       "      <td>0</td>\n",
       "      <td>0</td>\n",
       "      <td>0</td>\n",
       "      <td>0</td>\n",
       "      <td>1</td>\n",
       "    </tr>\n",
       "    <tr>\n",
       "      <th>4</th>\n",
       "      <td>9.99</td>\n",
       "      <td>2036</td>\n",
       "      <td>40.922072</td>\n",
       "      <td>-94.899388</td>\n",
       "      <td>0</td>\n",
       "      <td>0</td>\n",
       "      <td>0</td>\n",
       "      <td>0</td>\n",
       "      <td>0</td>\n",
       "      <td>0</td>\n",
       "      <td>...</td>\n",
       "      <td>0</td>\n",
       "      <td>0</td>\n",
       "      <td>0</td>\n",
       "      <td>1</td>\n",
       "      <td>0</td>\n",
       "      <td>0</td>\n",
       "      <td>0</td>\n",
       "      <td>0</td>\n",
       "      <td>0</td>\n",
       "      <td>0</td>\n",
       "    </tr>\n",
       "  </tbody>\n",
       "</table>\n",
       "<p>5 rows × 29 columns</p>\n",
       "</div>"
      ],
      "text/plain": [
       "     amt  city_pop  merch_lat  merch_long  is_fraud  state_TX  state_NY  \\\n",
       "0   1.07      5438  41.240083  -71.837788         0         0         0   \n",
       "1  94.99      7163  35.156537  -95.806648         0         0         0   \n",
       "2  31.28       602  39.888665  -93.106804         0         0         0   \n",
       "3  73.06      7163  36.734101  -96.737345         0         0         0   \n",
       "4   9.99      2036  40.922072  -94.899388         0         0         0   \n",
       "\n",
       "   state_PA  state_CA  state_OH  ...  category_health_fitness  category_home  \\\n",
       "0         0         0         0  ...                        0              0   \n",
       "1         0         0         0  ...                        0              0   \n",
       "2         0         0         0  ...                        0              0   \n",
       "3         0         0         0  ...                        0              0   \n",
       "4         0         0         0  ...                        0              0   \n",
       "\n",
       "   category_kids_pets  category_misc_net  category_misc_pos  \\\n",
       "0                   0                  0                  0   \n",
       "1                   1                  0                  0   \n",
       "2                   1                  0                  0   \n",
       "3                   0                  0                  0   \n",
       "4                   0                  1                  0   \n",
       "\n",
       "   category_personal_care  category_shopping_net  category_shopping_pos  \\\n",
       "0                       0                      0                      1   \n",
       "1                       0                      0                      0   \n",
       "2                       0                      0                      0   \n",
       "3                       0                      0                      0   \n",
       "4                       0                      0                      0   \n",
       "\n",
       "   category_travel  gender_M  \n",
       "0                0         0  \n",
       "1                0         1  \n",
       "2                0         0  \n",
       "3                0         1  \n",
       "4                0         0  \n",
       "\n",
       "[5 rows x 29 columns]"
      ]
     },
     "execution_count": 114,
     "metadata": {},
     "output_type": "execute_result"
    }
   ],
   "source": [
    "df_test.head()"
   ]
  },
  {
   "cell_type": "markdown",
   "id": "25715315",
   "metadata": {},
   "source": [
    "#### Feature Selection and Feature scaling in the testing dataset"
   ]
  },
  {
   "cell_type": "code",
   "execution_count": 115,
   "id": "9abe9c86",
   "metadata": {},
   "outputs": [],
   "source": [
    "df_test = df_test.drop(['state_FL', 'state_NY', 'state_MO'], axis = 1)"
   ]
  },
  {
   "cell_type": "code",
   "execution_count": 116,
   "id": "2d214da7",
   "metadata": {},
   "outputs": [
    {
     "data": {
      "text/html": [
       "<div>\n",
       "<style scoped>\n",
       "    .dataframe tbody tr th:only-of-type {\n",
       "        vertical-align: middle;\n",
       "    }\n",
       "\n",
       "    .dataframe tbody tr th {\n",
       "        vertical-align: top;\n",
       "    }\n",
       "\n",
       "    .dataframe thead th {\n",
       "        text-align: right;\n",
       "    }\n",
       "</style>\n",
       "<table border=\"1\" class=\"dataframe\">\n",
       "  <thead>\n",
       "    <tr style=\"text-align: right;\">\n",
       "      <th></th>\n",
       "      <th>amt</th>\n",
       "      <th>city_pop</th>\n",
       "      <th>merch_lat</th>\n",
       "      <th>merch_long</th>\n",
       "      <th>is_fraud</th>\n",
       "      <th>state_TX</th>\n",
       "      <th>state_PA</th>\n",
       "      <th>state_CA</th>\n",
       "      <th>state_OH</th>\n",
       "      <th>state_MI</th>\n",
       "      <th>...</th>\n",
       "      <th>category_health_fitness</th>\n",
       "      <th>category_home</th>\n",
       "      <th>category_kids_pets</th>\n",
       "      <th>category_misc_net</th>\n",
       "      <th>category_misc_pos</th>\n",
       "      <th>category_personal_care</th>\n",
       "      <th>category_shopping_net</th>\n",
       "      <th>category_shopping_pos</th>\n",
       "      <th>category_travel</th>\n",
       "      <th>gender_M</th>\n",
       "    </tr>\n",
       "  </thead>\n",
       "  <tbody>\n",
       "    <tr>\n",
       "      <th>0</th>\n",
       "      <td>1.07</td>\n",
       "      <td>5438</td>\n",
       "      <td>41.240083</td>\n",
       "      <td>-71.837788</td>\n",
       "      <td>0</td>\n",
       "      <td>0</td>\n",
       "      <td>0</td>\n",
       "      <td>0</td>\n",
       "      <td>0</td>\n",
       "      <td>0</td>\n",
       "      <td>...</td>\n",
       "      <td>0</td>\n",
       "      <td>0</td>\n",
       "      <td>0</td>\n",
       "      <td>0</td>\n",
       "      <td>0</td>\n",
       "      <td>0</td>\n",
       "      <td>0</td>\n",
       "      <td>1</td>\n",
       "      <td>0</td>\n",
       "      <td>0</td>\n",
       "    </tr>\n",
       "    <tr>\n",
       "      <th>1</th>\n",
       "      <td>94.99</td>\n",
       "      <td>7163</td>\n",
       "      <td>35.156537</td>\n",
       "      <td>-95.806648</td>\n",
       "      <td>0</td>\n",
       "      <td>0</td>\n",
       "      <td>0</td>\n",
       "      <td>0</td>\n",
       "      <td>0</td>\n",
       "      <td>0</td>\n",
       "      <td>...</td>\n",
       "      <td>0</td>\n",
       "      <td>0</td>\n",
       "      <td>1</td>\n",
       "      <td>0</td>\n",
       "      <td>0</td>\n",
       "      <td>0</td>\n",
       "      <td>0</td>\n",
       "      <td>0</td>\n",
       "      <td>0</td>\n",
       "      <td>1</td>\n",
       "    </tr>\n",
       "    <tr>\n",
       "      <th>2</th>\n",
       "      <td>31.28</td>\n",
       "      <td>602</td>\n",
       "      <td>39.888665</td>\n",
       "      <td>-93.106804</td>\n",
       "      <td>0</td>\n",
       "      <td>0</td>\n",
       "      <td>0</td>\n",
       "      <td>0</td>\n",
       "      <td>0</td>\n",
       "      <td>0</td>\n",
       "      <td>...</td>\n",
       "      <td>0</td>\n",
       "      <td>0</td>\n",
       "      <td>1</td>\n",
       "      <td>0</td>\n",
       "      <td>0</td>\n",
       "      <td>0</td>\n",
       "      <td>0</td>\n",
       "      <td>0</td>\n",
       "      <td>0</td>\n",
       "      <td>0</td>\n",
       "    </tr>\n",
       "    <tr>\n",
       "      <th>3</th>\n",
       "      <td>73.06</td>\n",
       "      <td>7163</td>\n",
       "      <td>36.734101</td>\n",
       "      <td>-96.737345</td>\n",
       "      <td>0</td>\n",
       "      <td>0</td>\n",
       "      <td>0</td>\n",
       "      <td>0</td>\n",
       "      <td>0</td>\n",
       "      <td>0</td>\n",
       "      <td>...</td>\n",
       "      <td>0</td>\n",
       "      <td>0</td>\n",
       "      <td>0</td>\n",
       "      <td>0</td>\n",
       "      <td>0</td>\n",
       "      <td>0</td>\n",
       "      <td>0</td>\n",
       "      <td>0</td>\n",
       "      <td>0</td>\n",
       "      <td>1</td>\n",
       "    </tr>\n",
       "    <tr>\n",
       "      <th>4</th>\n",
       "      <td>9.99</td>\n",
       "      <td>2036</td>\n",
       "      <td>40.922072</td>\n",
       "      <td>-94.899388</td>\n",
       "      <td>0</td>\n",
       "      <td>0</td>\n",
       "      <td>0</td>\n",
       "      <td>0</td>\n",
       "      <td>0</td>\n",
       "      <td>0</td>\n",
       "      <td>...</td>\n",
       "      <td>0</td>\n",
       "      <td>0</td>\n",
       "      <td>0</td>\n",
       "      <td>1</td>\n",
       "      <td>0</td>\n",
       "      <td>0</td>\n",
       "      <td>0</td>\n",
       "      <td>0</td>\n",
       "      <td>0</td>\n",
       "      <td>0</td>\n",
       "    </tr>\n",
       "  </tbody>\n",
       "</table>\n",
       "<p>5 rows × 26 columns</p>\n",
       "</div>"
      ],
      "text/plain": [
       "     amt  city_pop  merch_lat  merch_long  is_fraud  state_TX  state_PA  \\\n",
       "0   1.07      5438  41.240083  -71.837788         0         0         0   \n",
       "1  94.99      7163  35.156537  -95.806648         0         0         0   \n",
       "2  31.28       602  39.888665  -93.106804         0         0         0   \n",
       "3  73.06      7163  36.734101  -96.737345         0         0         0   \n",
       "4   9.99      2036  40.922072  -94.899388         0         0         0   \n",
       "\n",
       "   state_CA  state_OH  state_MI  ...  category_health_fitness  category_home  \\\n",
       "0         0         0         0  ...                        0              0   \n",
       "1         0         0         0  ...                        0              0   \n",
       "2         0         0         0  ...                        0              0   \n",
       "3         0         0         0  ...                        0              0   \n",
       "4         0         0         0  ...                        0              0   \n",
       "\n",
       "   category_kids_pets  category_misc_net  category_misc_pos  \\\n",
       "0                   0                  0                  0   \n",
       "1                   1                  0                  0   \n",
       "2                   1                  0                  0   \n",
       "3                   0                  0                  0   \n",
       "4                   0                  1                  0   \n",
       "\n",
       "   category_personal_care  category_shopping_net  category_shopping_pos  \\\n",
       "0                       0                      0                      1   \n",
       "1                       0                      0                      0   \n",
       "2                       0                      0                      0   \n",
       "3                       0                      0                      0   \n",
       "4                       0                      0                      0   \n",
       "\n",
       "   category_travel  gender_M  \n",
       "0                0         0  \n",
       "1                0         1  \n",
       "2                0         0  \n",
       "3                0         1  \n",
       "4                0         0  \n",
       "\n",
       "[5 rows x 26 columns]"
      ]
     },
     "execution_count": 116,
     "metadata": {},
     "output_type": "execute_result"
    }
   ],
   "source": [
    "df_test.head()"
   ]
  },
  {
   "cell_type": "code",
   "execution_count": 117,
   "id": "48b0d82e",
   "metadata": {},
   "outputs": [
    {
     "data": {
      "text/html": [
       "<div>\n",
       "<style scoped>\n",
       "    .dataframe tbody tr th:only-of-type {\n",
       "        vertical-align: middle;\n",
       "    }\n",
       "\n",
       "    .dataframe tbody tr th {\n",
       "        vertical-align: top;\n",
       "    }\n",
       "\n",
       "    .dataframe thead th {\n",
       "        text-align: right;\n",
       "    }\n",
       "</style>\n",
       "<table border=\"1\" class=\"dataframe\">\n",
       "  <thead>\n",
       "    <tr style=\"text-align: right;\">\n",
       "      <th></th>\n",
       "      <th>amt</th>\n",
       "      <th>city_pop</th>\n",
       "      <th>merch_lat</th>\n",
       "      <th>merch_long</th>\n",
       "      <th>is_fraud</th>\n",
       "      <th>state_TX</th>\n",
       "      <th>state_PA</th>\n",
       "      <th>state_CA</th>\n",
       "      <th>state_OH</th>\n",
       "      <th>state_MI</th>\n",
       "      <th>...</th>\n",
       "      <th>category_health_fitness</th>\n",
       "      <th>category_home</th>\n",
       "      <th>category_kids_pets</th>\n",
       "      <th>category_misc_net</th>\n",
       "      <th>category_misc_pos</th>\n",
       "      <th>category_personal_care</th>\n",
       "      <th>category_shopping_net</th>\n",
       "      <th>category_shopping_pos</th>\n",
       "      <th>category_travel</th>\n",
       "      <th>gender_M</th>\n",
       "    </tr>\n",
       "  </thead>\n",
       "  <tbody>\n",
       "    <tr>\n",
       "      <th>count</th>\n",
       "      <td>277860.000000</td>\n",
       "      <td>2.778600e+05</td>\n",
       "      <td>277860.000000</td>\n",
       "      <td>277860.000000</td>\n",
       "      <td>277860.000000</td>\n",
       "      <td>277860.000000</td>\n",
       "      <td>277860.000000</td>\n",
       "      <td>277860.000000</td>\n",
       "      <td>277860.000000</td>\n",
       "      <td>277860.000000</td>\n",
       "      <td>...</td>\n",
       "      <td>277860.000000</td>\n",
       "      <td>277860.000000</td>\n",
       "      <td>277860.000000</td>\n",
       "      <td>277860.000000</td>\n",
       "      <td>277860.000000</td>\n",
       "      <td>277860.000000</td>\n",
       "      <td>277860.000000</td>\n",
       "      <td>277860.000000</td>\n",
       "      <td>277860.000000</td>\n",
       "      <td>277860.000000</td>\n",
       "    </tr>\n",
       "    <tr>\n",
       "      <th>mean</th>\n",
       "      <td>69.663882</td>\n",
       "      <td>8.814643e+04</td>\n",
       "      <td>38.549467</td>\n",
       "      <td>-90.212141</td>\n",
       "      <td>0.003894</td>\n",
       "      <td>0.072324</td>\n",
       "      <td>0.061383</td>\n",
       "      <td>0.042982</td>\n",
       "      <td>0.036709</td>\n",
       "      <td>0.035827</td>\n",
       "      <td>...</td>\n",
       "      <td>0.066076</td>\n",
       "      <td>0.094407</td>\n",
       "      <td>0.086983</td>\n",
       "      <td>0.049107</td>\n",
       "      <td>0.061862</td>\n",
       "      <td>0.070572</td>\n",
       "      <td>0.075650</td>\n",
       "      <td>0.089595</td>\n",
       "      <td>0.031376</td>\n",
       "      <td>0.452249</td>\n",
       "    </tr>\n",
       "    <tr>\n",
       "      <th>std</th>\n",
       "      <td>160.440865</td>\n",
       "      <td>2.997059e+05</td>\n",
       "      <td>5.100443</td>\n",
       "      <td>13.734059</td>\n",
       "      <td>0.062281</td>\n",
       "      <td>0.259024</td>\n",
       "      <td>0.240033</td>\n",
       "      <td>0.202817</td>\n",
       "      <td>0.188047</td>\n",
       "      <td>0.185860</td>\n",
       "      <td>...</td>\n",
       "      <td>0.248416</td>\n",
       "      <td>0.292395</td>\n",
       "      <td>0.281810</td>\n",
       "      <td>0.216093</td>\n",
       "      <td>0.240905</td>\n",
       "      <td>0.256108</td>\n",
       "      <td>0.264437</td>\n",
       "      <td>0.285602</td>\n",
       "      <td>0.174331</td>\n",
       "      <td>0.497716</td>\n",
       "    </tr>\n",
       "    <tr>\n",
       "      <th>min</th>\n",
       "      <td>1.000000</td>\n",
       "      <td>2.300000e+01</td>\n",
       "      <td>19.027849</td>\n",
       "      <td>-166.670006</td>\n",
       "      <td>0.000000</td>\n",
       "      <td>0.000000</td>\n",
       "      <td>0.000000</td>\n",
       "      <td>0.000000</td>\n",
       "      <td>0.000000</td>\n",
       "      <td>0.000000</td>\n",
       "      <td>...</td>\n",
       "      <td>0.000000</td>\n",
       "      <td>0.000000</td>\n",
       "      <td>0.000000</td>\n",
       "      <td>0.000000</td>\n",
       "      <td>0.000000</td>\n",
       "      <td>0.000000</td>\n",
       "      <td>0.000000</td>\n",
       "      <td>0.000000</td>\n",
       "      <td>0.000000</td>\n",
       "      <td>0.000000</td>\n",
       "    </tr>\n",
       "    <tr>\n",
       "      <th>25%</th>\n",
       "      <td>9.660000</td>\n",
       "      <td>7.410000e+02</td>\n",
       "      <td>34.770097</td>\n",
       "      <td>-96.875338</td>\n",
       "      <td>0.000000</td>\n",
       "      <td>0.000000</td>\n",
       "      <td>0.000000</td>\n",
       "      <td>0.000000</td>\n",
       "      <td>0.000000</td>\n",
       "      <td>0.000000</td>\n",
       "      <td>...</td>\n",
       "      <td>0.000000</td>\n",
       "      <td>0.000000</td>\n",
       "      <td>0.000000</td>\n",
       "      <td>0.000000</td>\n",
       "      <td>0.000000</td>\n",
       "      <td>0.000000</td>\n",
       "      <td>0.000000</td>\n",
       "      <td>0.000000</td>\n",
       "      <td>0.000000</td>\n",
       "      <td>0.000000</td>\n",
       "    </tr>\n",
       "    <tr>\n",
       "      <th>50%</th>\n",
       "      <td>47.420000</td>\n",
       "      <td>2.408000e+03</td>\n",
       "      <td>39.392480</td>\n",
       "      <td>-87.421527</td>\n",
       "      <td>0.000000</td>\n",
       "      <td>0.000000</td>\n",
       "      <td>0.000000</td>\n",
       "      <td>0.000000</td>\n",
       "      <td>0.000000</td>\n",
       "      <td>0.000000</td>\n",
       "      <td>...</td>\n",
       "      <td>0.000000</td>\n",
       "      <td>0.000000</td>\n",
       "      <td>0.000000</td>\n",
       "      <td>0.000000</td>\n",
       "      <td>0.000000</td>\n",
       "      <td>0.000000</td>\n",
       "      <td>0.000000</td>\n",
       "      <td>0.000000</td>\n",
       "      <td>0.000000</td>\n",
       "      <td>0.000000</td>\n",
       "    </tr>\n",
       "    <tr>\n",
       "      <th>75%</th>\n",
       "      <td>83.090000</td>\n",
       "      <td>1.968500e+04</td>\n",
       "      <td>41.961519</td>\n",
       "      <td>-80.270665</td>\n",
       "      <td>0.000000</td>\n",
       "      <td>0.000000</td>\n",
       "      <td>0.000000</td>\n",
       "      <td>0.000000</td>\n",
       "      <td>0.000000</td>\n",
       "      <td>0.000000</td>\n",
       "      <td>...</td>\n",
       "      <td>0.000000</td>\n",
       "      <td>0.000000</td>\n",
       "      <td>0.000000</td>\n",
       "      <td>0.000000</td>\n",
       "      <td>0.000000</td>\n",
       "      <td>0.000000</td>\n",
       "      <td>0.000000</td>\n",
       "      <td>0.000000</td>\n",
       "      <td>0.000000</td>\n",
       "      <td>1.000000</td>\n",
       "    </tr>\n",
       "    <tr>\n",
       "      <th>max</th>\n",
       "      <td>22768.110000</td>\n",
       "      <td>2.906700e+06</td>\n",
       "      <td>66.679297</td>\n",
       "      <td>-66.952026</td>\n",
       "      <td>1.000000</td>\n",
       "      <td>1.000000</td>\n",
       "      <td>1.000000</td>\n",
       "      <td>1.000000</td>\n",
       "      <td>1.000000</td>\n",
       "      <td>1.000000</td>\n",
       "      <td>...</td>\n",
       "      <td>1.000000</td>\n",
       "      <td>1.000000</td>\n",
       "      <td>1.000000</td>\n",
       "      <td>1.000000</td>\n",
       "      <td>1.000000</td>\n",
       "      <td>1.000000</td>\n",
       "      <td>1.000000</td>\n",
       "      <td>1.000000</td>\n",
       "      <td>1.000000</td>\n",
       "      <td>1.000000</td>\n",
       "    </tr>\n",
       "  </tbody>\n",
       "</table>\n",
       "<p>8 rows × 26 columns</p>\n",
       "</div>"
      ],
      "text/plain": [
       "                 amt      city_pop      merch_lat     merch_long  \\\n",
       "count  277860.000000  2.778600e+05  277860.000000  277860.000000   \n",
       "mean       69.663882  8.814643e+04      38.549467     -90.212141   \n",
       "std       160.440865  2.997059e+05       5.100443      13.734059   \n",
       "min         1.000000  2.300000e+01      19.027849    -166.670006   \n",
       "25%         9.660000  7.410000e+02      34.770097     -96.875338   \n",
       "50%        47.420000  2.408000e+03      39.392480     -87.421527   \n",
       "75%        83.090000  1.968500e+04      41.961519     -80.270665   \n",
       "max     22768.110000  2.906700e+06      66.679297     -66.952026   \n",
       "\n",
       "            is_fraud       state_TX       state_PA       state_CA  \\\n",
       "count  277860.000000  277860.000000  277860.000000  277860.000000   \n",
       "mean        0.003894       0.072324       0.061383       0.042982   \n",
       "std         0.062281       0.259024       0.240033       0.202817   \n",
       "min         0.000000       0.000000       0.000000       0.000000   \n",
       "25%         0.000000       0.000000       0.000000       0.000000   \n",
       "50%         0.000000       0.000000       0.000000       0.000000   \n",
       "75%         0.000000       0.000000       0.000000       0.000000   \n",
       "max         1.000000       1.000000       1.000000       1.000000   \n",
       "\n",
       "            state_OH       state_MI  ...  category_health_fitness  \\\n",
       "count  277860.000000  277860.000000  ...            277860.000000   \n",
       "mean        0.036709       0.035827  ...                 0.066076   \n",
       "std         0.188047       0.185860  ...                 0.248416   \n",
       "min         0.000000       0.000000  ...                 0.000000   \n",
       "25%         0.000000       0.000000  ...                 0.000000   \n",
       "50%         0.000000       0.000000  ...                 0.000000   \n",
       "75%         0.000000       0.000000  ...                 0.000000   \n",
       "max         1.000000       1.000000  ...                 1.000000   \n",
       "\n",
       "       category_home  category_kids_pets  category_misc_net  \\\n",
       "count  277860.000000       277860.000000      277860.000000   \n",
       "mean        0.094407            0.086983           0.049107   \n",
       "std         0.292395            0.281810           0.216093   \n",
       "min         0.000000            0.000000           0.000000   \n",
       "25%         0.000000            0.000000           0.000000   \n",
       "50%         0.000000            0.000000           0.000000   \n",
       "75%         0.000000            0.000000           0.000000   \n",
       "max         1.000000            1.000000           1.000000   \n",
       "\n",
       "       category_misc_pos  category_personal_care  category_shopping_net  \\\n",
       "count      277860.000000           277860.000000          277860.000000   \n",
       "mean            0.061862                0.070572               0.075650   \n",
       "std             0.240905                0.256108               0.264437   \n",
       "min             0.000000                0.000000               0.000000   \n",
       "25%             0.000000                0.000000               0.000000   \n",
       "50%             0.000000                0.000000               0.000000   \n",
       "75%             0.000000                0.000000               0.000000   \n",
       "max             1.000000                1.000000               1.000000   \n",
       "\n",
       "       category_shopping_pos  category_travel       gender_M  \n",
       "count          277860.000000    277860.000000  277860.000000  \n",
       "mean                0.089595         0.031376       0.452249  \n",
       "std                 0.285602         0.174331       0.497716  \n",
       "min                 0.000000         0.000000       0.000000  \n",
       "25%                 0.000000         0.000000       0.000000  \n",
       "50%                 0.000000         0.000000       0.000000  \n",
       "75%                 0.000000         0.000000       1.000000  \n",
       "max                 1.000000         1.000000       1.000000  \n",
       "\n",
       "[8 rows x 26 columns]"
      ]
     },
     "execution_count": 117,
     "metadata": {},
     "output_type": "execute_result"
    }
   ],
   "source": [
    "df_test.describe()"
   ]
  },
  {
   "cell_type": "code",
   "execution_count": 118,
   "id": "31829b8e",
   "metadata": {},
   "outputs": [],
   "source": [
    "df_test['merch_long'] = abs(df_test['merch_long'])"
   ]
  },
  {
   "cell_type": "code",
   "execution_count": 119,
   "id": "10b894db",
   "metadata": {},
   "outputs": [],
   "source": [
    "df_test['merch_lat'] = abs(df_test['merch_lat'])"
   ]
  },
  {
   "cell_type": "code",
   "execution_count": 120,
   "id": "57ca49ea",
   "metadata": {},
   "outputs": [],
   "source": [
    "df_test_scaled = std_scaler.transform(df_test)"
   ]
  },
  {
   "cell_type": "code",
   "execution_count": 121,
   "id": "2aac711f",
   "metadata": {},
   "outputs": [],
   "source": [
    "df_test = pd.DataFrame(df_test_scaled, columns=df_test.columns)"
   ]
  },
  {
   "cell_type": "code",
   "execution_count": 122,
   "id": "b44586dd",
   "metadata": {},
   "outputs": [
    {
     "data": {
      "text/html": [
       "<div>\n",
       "<style scoped>\n",
       "    .dataframe tbody tr th:only-of-type {\n",
       "        vertical-align: middle;\n",
       "    }\n",
       "\n",
       "    .dataframe tbody tr th {\n",
       "        vertical-align: top;\n",
       "    }\n",
       "\n",
       "    .dataframe thead th {\n",
       "        text-align: right;\n",
       "    }\n",
       "</style>\n",
       "<table border=\"1\" class=\"dataframe\">\n",
       "  <thead>\n",
       "    <tr style=\"text-align: right;\">\n",
       "      <th></th>\n",
       "      <th>amt</th>\n",
       "      <th>city_pop</th>\n",
       "      <th>merch_lat</th>\n",
       "      <th>merch_long</th>\n",
       "      <th>is_fraud</th>\n",
       "      <th>state_TX</th>\n",
       "      <th>state_PA</th>\n",
       "      <th>state_CA</th>\n",
       "      <th>state_OH</th>\n",
       "      <th>state_MI</th>\n",
       "      <th>...</th>\n",
       "      <th>category_health_fitness</th>\n",
       "      <th>category_home</th>\n",
       "      <th>category_kids_pets</th>\n",
       "      <th>category_misc_net</th>\n",
       "      <th>category_misc_pos</th>\n",
       "      <th>category_personal_care</th>\n",
       "      <th>category_shopping_net</th>\n",
       "      <th>category_shopping_pos</th>\n",
       "      <th>category_travel</th>\n",
       "      <th>gender_M</th>\n",
       "    </tr>\n",
       "  </thead>\n",
       "  <tbody>\n",
       "    <tr>\n",
       "      <th>0</th>\n",
       "      <td>0.005430</td>\n",
       "      <td>25.326840</td>\n",
       "      <td>0.466189</td>\n",
       "      <td>2.391809</td>\n",
       "      <td>0.0</td>\n",
       "      <td>0.0</td>\n",
       "      <td>0.0</td>\n",
       "      <td>0.0</td>\n",
       "      <td>0.0</td>\n",
       "      <td>0.0</td>\n",
       "      <td>...</td>\n",
       "      <td>0.0</td>\n",
       "      <td>0.0</td>\n",
       "      <td>0.0</td>\n",
       "      <td>0.0</td>\n",
       "      <td>0.0</td>\n",
       "      <td>0.0</td>\n",
       "      <td>0.0</td>\n",
       "      <td>1.0</td>\n",
       "      <td>0.0</td>\n",
       "      <td>0.0</td>\n",
       "    </tr>\n",
       "    <tr>\n",
       "      <th>1</th>\n",
       "      <td>7.291335</td>\n",
       "      <td>33.367915</td>\n",
       "      <td>0.338511</td>\n",
       "      <td>2.632173</td>\n",
       "      <td>0.0</td>\n",
       "      <td>0.0</td>\n",
       "      <td>0.0</td>\n",
       "      <td>0.0</td>\n",
       "      <td>0.0</td>\n",
       "      <td>0.0</td>\n",
       "      <td>...</td>\n",
       "      <td>0.0</td>\n",
       "      <td>0.0</td>\n",
       "      <td>1.0</td>\n",
       "      <td>0.0</td>\n",
       "      <td>0.0</td>\n",
       "      <td>0.0</td>\n",
       "      <td>0.0</td>\n",
       "      <td>0.0</td>\n",
       "      <td>0.0</td>\n",
       "      <td>1.0</td>\n",
       "    </tr>\n",
       "    <tr>\n",
       "      <th>2</th>\n",
       "      <td>2.348990</td>\n",
       "      <td>2.783863</td>\n",
       "      <td>0.437826</td>\n",
       "      <td>2.605098</td>\n",
       "      <td>0.0</td>\n",
       "      <td>0.0</td>\n",
       "      <td>0.0</td>\n",
       "      <td>0.0</td>\n",
       "      <td>0.0</td>\n",
       "      <td>0.0</td>\n",
       "      <td>...</td>\n",
       "      <td>0.0</td>\n",
       "      <td>0.0</td>\n",
       "      <td>1.0</td>\n",
       "      <td>0.0</td>\n",
       "      <td>0.0</td>\n",
       "      <td>0.0</td>\n",
       "      <td>0.0</td>\n",
       "      <td>0.0</td>\n",
       "      <td>0.0</td>\n",
       "      <td>0.0</td>\n",
       "    </tr>\n",
       "    <tr>\n",
       "      <th>3</th>\n",
       "      <td>5.590101</td>\n",
       "      <td>33.367915</td>\n",
       "      <td>0.371620</td>\n",
       "      <td>2.641506</td>\n",
       "      <td>0.0</td>\n",
       "      <td>0.0</td>\n",
       "      <td>0.0</td>\n",
       "      <td>0.0</td>\n",
       "      <td>0.0</td>\n",
       "      <td>0.0</td>\n",
       "      <td>...</td>\n",
       "      <td>0.0</td>\n",
       "      <td>0.0</td>\n",
       "      <td>0.0</td>\n",
       "      <td>0.0</td>\n",
       "      <td>0.0</td>\n",
       "      <td>0.0</td>\n",
       "      <td>0.0</td>\n",
       "      <td>0.0</td>\n",
       "      <td>0.0</td>\n",
       "      <td>1.0</td>\n",
       "    </tr>\n",
       "    <tr>\n",
       "      <th>4</th>\n",
       "      <td>0.697405</td>\n",
       "      <td>9.468443</td>\n",
       "      <td>0.459515</td>\n",
       "      <td>2.623075</td>\n",
       "      <td>0.0</td>\n",
       "      <td>0.0</td>\n",
       "      <td>0.0</td>\n",
       "      <td>0.0</td>\n",
       "      <td>0.0</td>\n",
       "      <td>0.0</td>\n",
       "      <td>...</td>\n",
       "      <td>0.0</td>\n",
       "      <td>0.0</td>\n",
       "      <td>0.0</td>\n",
       "      <td>1.0</td>\n",
       "      <td>0.0</td>\n",
       "      <td>0.0</td>\n",
       "      <td>0.0</td>\n",
       "      <td>0.0</td>\n",
       "      <td>0.0</td>\n",
       "      <td>0.0</td>\n",
       "    </tr>\n",
       "  </tbody>\n",
       "</table>\n",
       "<p>5 rows × 26 columns</p>\n",
       "</div>"
      ],
      "text/plain": [
       "        amt   city_pop  merch_lat  merch_long  is_fraud  state_TX  state_PA  \\\n",
       "0  0.005430  25.326840   0.466189    2.391809       0.0       0.0       0.0   \n",
       "1  7.291335  33.367915   0.338511    2.632173       0.0       0.0       0.0   \n",
       "2  2.348990   2.783863   0.437826    2.605098       0.0       0.0       0.0   \n",
       "3  5.590101  33.367915   0.371620    2.641506       0.0       0.0       0.0   \n",
       "4  0.697405   9.468443   0.459515    2.623075       0.0       0.0       0.0   \n",
       "\n",
       "   state_CA  state_OH  state_MI  ...  category_health_fitness  category_home  \\\n",
       "0       0.0       0.0       0.0  ...                      0.0            0.0   \n",
       "1       0.0       0.0       0.0  ...                      0.0            0.0   \n",
       "2       0.0       0.0       0.0  ...                      0.0            0.0   \n",
       "3       0.0       0.0       0.0  ...                      0.0            0.0   \n",
       "4       0.0       0.0       0.0  ...                      0.0            0.0   \n",
       "\n",
       "   category_kids_pets  category_misc_net  category_misc_pos  \\\n",
       "0                 0.0                0.0                0.0   \n",
       "1                 1.0                0.0                0.0   \n",
       "2                 1.0                0.0                0.0   \n",
       "3                 0.0                0.0                0.0   \n",
       "4                 0.0                1.0                0.0   \n",
       "\n",
       "   category_personal_care  category_shopping_net  category_shopping_pos  \\\n",
       "0                     0.0                    0.0                    1.0   \n",
       "1                     0.0                    0.0                    0.0   \n",
       "2                     0.0                    0.0                    0.0   \n",
       "3                     0.0                    0.0                    0.0   \n",
       "4                     0.0                    0.0                    0.0   \n",
       "\n",
       "   category_travel  gender_M  \n",
       "0              0.0       0.0  \n",
       "1              0.0       1.0  \n",
       "2              0.0       0.0  \n",
       "3              0.0       1.0  \n",
       "4              0.0       0.0  \n",
       "\n",
       "[5 rows x 26 columns]"
      ]
     },
     "execution_count": 122,
     "metadata": {},
     "output_type": "execute_result"
    }
   ],
   "source": [
    "df_test.head()"
   ]
  },
  {
   "cell_type": "code",
   "execution_count": 123,
   "id": "9386df71",
   "metadata": {},
   "outputs": [
    {
     "data": {
      "text/html": [
       "<div>\n",
       "<style scoped>\n",
       "    .dataframe tbody tr th:only-of-type {\n",
       "        vertical-align: middle;\n",
       "    }\n",
       "\n",
       "    .dataframe tbody tr th {\n",
       "        vertical-align: top;\n",
       "    }\n",
       "\n",
       "    .dataframe thead th {\n",
       "        text-align: right;\n",
       "    }\n",
       "</style>\n",
       "<table border=\"1\" class=\"dataframe\">\n",
       "  <thead>\n",
       "    <tr style=\"text-align: right;\">\n",
       "      <th></th>\n",
       "      <th>amt</th>\n",
       "      <th>city_pop</th>\n",
       "      <th>merch_lat</th>\n",
       "      <th>merch_long</th>\n",
       "      <th>is_fraud</th>\n",
       "      <th>state_TX</th>\n",
       "      <th>state_PA</th>\n",
       "      <th>state_CA</th>\n",
       "      <th>state_OH</th>\n",
       "      <th>state_MI</th>\n",
       "      <th>...</th>\n",
       "      <th>category_health_fitness</th>\n",
       "      <th>category_home</th>\n",
       "      <th>category_kids_pets</th>\n",
       "      <th>category_misc_net</th>\n",
       "      <th>category_misc_pos</th>\n",
       "      <th>category_personal_care</th>\n",
       "      <th>category_shopping_net</th>\n",
       "      <th>category_shopping_pos</th>\n",
       "      <th>category_travel</th>\n",
       "      <th>gender_M</th>\n",
       "    </tr>\n",
       "  </thead>\n",
       "  <tbody>\n",
       "    <tr>\n",
       "      <th>count</th>\n",
       "      <td>277860.000000</td>\n",
       "      <td>277860.000000</td>\n",
       "      <td>277860.000000</td>\n",
       "      <td>277860.000000</td>\n",
       "      <td>277860.000000</td>\n",
       "      <td>277860.000000</td>\n",
       "      <td>277860.000000</td>\n",
       "      <td>277860.000000</td>\n",
       "      <td>277860.000000</td>\n",
       "      <td>277860.000000</td>\n",
       "      <td>...</td>\n",
       "      <td>277860.000000</td>\n",
       "      <td>277860.000000</td>\n",
       "      <td>277860.000000</td>\n",
       "      <td>277860.000000</td>\n",
       "      <td>277860.000000</td>\n",
       "      <td>277860.000000</td>\n",
       "      <td>277860.000000</td>\n",
       "      <td>277860.000000</td>\n",
       "      <td>277860.000000</td>\n",
       "      <td>277860.000000</td>\n",
       "    </tr>\n",
       "    <tr>\n",
       "      <th>mean</th>\n",
       "      <td>5.326645</td>\n",
       "      <td>410.871571</td>\n",
       "      <td>0.409720</td>\n",
       "      <td>2.576070</td>\n",
       "      <td>0.003894</td>\n",
       "      <td>0.072324</td>\n",
       "      <td>0.061383</td>\n",
       "      <td>0.042982</td>\n",
       "      <td>0.036709</td>\n",
       "      <td>0.035827</td>\n",
       "      <td>...</td>\n",
       "      <td>0.066076</td>\n",
       "      <td>0.094407</td>\n",
       "      <td>0.086983</td>\n",
       "      <td>0.049107</td>\n",
       "      <td>0.061862</td>\n",
       "      <td>0.070572</td>\n",
       "      <td>0.075650</td>\n",
       "      <td>0.089595</td>\n",
       "      <td>0.031376</td>\n",
       "      <td>0.452249</td>\n",
       "    </tr>\n",
       "    <tr>\n",
       "      <th>std</th>\n",
       "      <td>12.446303</td>\n",
       "      <td>1397.076883</td>\n",
       "      <td>0.107046</td>\n",
       "      <td>0.137727</td>\n",
       "      <td>0.062281</td>\n",
       "      <td>0.259024</td>\n",
       "      <td>0.240033</td>\n",
       "      <td>0.202817</td>\n",
       "      <td>0.188047</td>\n",
       "      <td>0.185860</td>\n",
       "      <td>...</td>\n",
       "      <td>0.248416</td>\n",
       "      <td>0.292395</td>\n",
       "      <td>0.281810</td>\n",
       "      <td>0.216093</td>\n",
       "      <td>0.240905</td>\n",
       "      <td>0.256108</td>\n",
       "      <td>0.264437</td>\n",
       "      <td>0.285602</td>\n",
       "      <td>0.174331</td>\n",
       "      <td>0.497716</td>\n",
       "    </tr>\n",
       "    <tr>\n",
       "      <th>min</th>\n",
       "      <td>0.000000</td>\n",
       "      <td>0.084859</td>\n",
       "      <td>0.000009</td>\n",
       "      <td>2.342814</td>\n",
       "      <td>0.000000</td>\n",
       "      <td>0.000000</td>\n",
       "      <td>0.000000</td>\n",
       "      <td>0.000000</td>\n",
       "      <td>0.000000</td>\n",
       "      <td>0.000000</td>\n",
       "      <td>...</td>\n",
       "      <td>0.000000</td>\n",
       "      <td>0.000000</td>\n",
       "      <td>0.000000</td>\n",
       "      <td>0.000000</td>\n",
       "      <td>0.000000</td>\n",
       "      <td>0.000000</td>\n",
       "      <td>0.000000</td>\n",
       "      <td>0.000000</td>\n",
       "      <td>0.000000</td>\n",
       "      <td>0.000000</td>\n",
       "    </tr>\n",
       "    <tr>\n",
       "      <th>25%</th>\n",
       "      <td>0.671805</td>\n",
       "      <td>3.431810</td>\n",
       "      <td>0.330400</td>\n",
       "      <td>2.476375</td>\n",
       "      <td>0.000000</td>\n",
       "      <td>0.000000</td>\n",
       "      <td>0.000000</td>\n",
       "      <td>0.000000</td>\n",
       "      <td>0.000000</td>\n",
       "      <td>0.000000</td>\n",
       "      <td>...</td>\n",
       "      <td>0.000000</td>\n",
       "      <td>0.000000</td>\n",
       "      <td>0.000000</td>\n",
       "      <td>0.000000</td>\n",
       "      <td>0.000000</td>\n",
       "      <td>0.000000</td>\n",
       "      <td>0.000000</td>\n",
       "      <td>0.000000</td>\n",
       "      <td>0.000000</td>\n",
       "      <td>0.000000</td>\n",
       "    </tr>\n",
       "    <tr>\n",
       "      <th>50%</th>\n",
       "      <td>3.601061</td>\n",
       "      <td>11.202518</td>\n",
       "      <td>0.427413</td>\n",
       "      <td>2.548085</td>\n",
       "      <td>0.000000</td>\n",
       "      <td>0.000000</td>\n",
       "      <td>0.000000</td>\n",
       "      <td>0.000000</td>\n",
       "      <td>0.000000</td>\n",
       "      <td>0.000000</td>\n",
       "      <td>...</td>\n",
       "      <td>0.000000</td>\n",
       "      <td>0.000000</td>\n",
       "      <td>0.000000</td>\n",
       "      <td>0.000000</td>\n",
       "      <td>0.000000</td>\n",
       "      <td>0.000000</td>\n",
       "      <td>0.000000</td>\n",
       "      <td>0.000000</td>\n",
       "      <td>0.000000</td>\n",
       "      <td>0.000000</td>\n",
       "    </tr>\n",
       "    <tr>\n",
       "      <th>75%</th>\n",
       "      <td>6.368184</td>\n",
       "      <td>91.739123</td>\n",
       "      <td>0.481331</td>\n",
       "      <td>2.642890</td>\n",
       "      <td>0.000000</td>\n",
       "      <td>0.000000</td>\n",
       "      <td>0.000000</td>\n",
       "      <td>0.000000</td>\n",
       "      <td>0.000000</td>\n",
       "      <td>0.000000</td>\n",
       "      <td>...</td>\n",
       "      <td>0.000000</td>\n",
       "      <td>0.000000</td>\n",
       "      <td>0.000000</td>\n",
       "      <td>0.000000</td>\n",
       "      <td>0.000000</td>\n",
       "      <td>0.000000</td>\n",
       "      <td>0.000000</td>\n",
       "      <td>0.000000</td>\n",
       "      <td>0.000000</td>\n",
       "      <td>1.000000</td>\n",
       "    </tr>\n",
       "    <tr>\n",
       "      <th>max</th>\n",
       "      <td>1766.173157</td>\n",
       "      <td>13549.537706</td>\n",
       "      <td>1.000096</td>\n",
       "      <td>3.342802</td>\n",
       "      <td>1.000000</td>\n",
       "      <td>1.000000</td>\n",
       "      <td>1.000000</td>\n",
       "      <td>1.000000</td>\n",
       "      <td>1.000000</td>\n",
       "      <td>1.000000</td>\n",
       "      <td>...</td>\n",
       "      <td>1.000000</td>\n",
       "      <td>1.000000</td>\n",
       "      <td>1.000000</td>\n",
       "      <td>1.000000</td>\n",
       "      <td>1.000000</td>\n",
       "      <td>1.000000</td>\n",
       "      <td>1.000000</td>\n",
       "      <td>1.000000</td>\n",
       "      <td>1.000000</td>\n",
       "      <td>1.000000</td>\n",
       "    </tr>\n",
       "  </tbody>\n",
       "</table>\n",
       "<p>8 rows × 26 columns</p>\n",
       "</div>"
      ],
      "text/plain": [
       "                 amt       city_pop      merch_lat     merch_long  \\\n",
       "count  277860.000000  277860.000000  277860.000000  277860.000000   \n",
       "mean        5.326645     410.871571       0.409720       2.576070   \n",
       "std        12.446303    1397.076883       0.107046       0.137727   \n",
       "min         0.000000       0.084859       0.000009       2.342814   \n",
       "25%         0.671805       3.431810       0.330400       2.476375   \n",
       "50%         3.601061      11.202518       0.427413       2.548085   \n",
       "75%         6.368184      91.739123       0.481331       2.642890   \n",
       "max      1766.173157   13549.537706       1.000096       3.342802   \n",
       "\n",
       "            is_fraud       state_TX       state_PA       state_CA  \\\n",
       "count  277860.000000  277860.000000  277860.000000  277860.000000   \n",
       "mean        0.003894       0.072324       0.061383       0.042982   \n",
       "std         0.062281       0.259024       0.240033       0.202817   \n",
       "min         0.000000       0.000000       0.000000       0.000000   \n",
       "25%         0.000000       0.000000       0.000000       0.000000   \n",
       "50%         0.000000       0.000000       0.000000       0.000000   \n",
       "75%         0.000000       0.000000       0.000000       0.000000   \n",
       "max         1.000000       1.000000       1.000000       1.000000   \n",
       "\n",
       "            state_OH       state_MI  ...  category_health_fitness  \\\n",
       "count  277860.000000  277860.000000  ...            277860.000000   \n",
       "mean        0.036709       0.035827  ...                 0.066076   \n",
       "std         0.188047       0.185860  ...                 0.248416   \n",
       "min         0.000000       0.000000  ...                 0.000000   \n",
       "25%         0.000000       0.000000  ...                 0.000000   \n",
       "50%         0.000000       0.000000  ...                 0.000000   \n",
       "75%         0.000000       0.000000  ...                 0.000000   \n",
       "max         1.000000       1.000000  ...                 1.000000   \n",
       "\n",
       "       category_home  category_kids_pets  category_misc_net  \\\n",
       "count  277860.000000       277860.000000      277860.000000   \n",
       "mean        0.094407            0.086983           0.049107   \n",
       "std         0.292395            0.281810           0.216093   \n",
       "min         0.000000            0.000000           0.000000   \n",
       "25%         0.000000            0.000000           0.000000   \n",
       "50%         0.000000            0.000000           0.000000   \n",
       "75%         0.000000            0.000000           0.000000   \n",
       "max         1.000000            1.000000           1.000000   \n",
       "\n",
       "       category_misc_pos  category_personal_care  category_shopping_net  \\\n",
       "count      277860.000000           277860.000000          277860.000000   \n",
       "mean            0.061862                0.070572               0.075650   \n",
       "std             0.240905                0.256108               0.264437   \n",
       "min             0.000000                0.000000               0.000000   \n",
       "25%             0.000000                0.000000               0.000000   \n",
       "50%             0.000000                0.000000               0.000000   \n",
       "75%             0.000000                0.000000               0.000000   \n",
       "max             1.000000                1.000000               1.000000   \n",
       "\n",
       "       category_shopping_pos  category_travel       gender_M  \n",
       "count          277860.000000    277860.000000  277860.000000  \n",
       "mean                0.089595         0.031376       0.452249  \n",
       "std                 0.285602         0.174331       0.497716  \n",
       "min                 0.000000         0.000000       0.000000  \n",
       "25%                 0.000000         0.000000       0.000000  \n",
       "50%                 0.000000         0.000000       0.000000  \n",
       "75%                 0.000000         0.000000       1.000000  \n",
       "max                 1.000000         1.000000       1.000000  \n",
       "\n",
       "[8 rows x 26 columns]"
      ]
     },
     "execution_count": 123,
     "metadata": {},
     "output_type": "execute_result"
    }
   ],
   "source": [
    "df_test.describe()"
   ]
  },
  {
   "cell_type": "markdown",
   "id": "8c36f0ad",
   "metadata": {},
   "source": [
    "The training and the test dataframes are ready for model training and testing purpose"
   ]
  },
  {
   "cell_type": "markdown",
   "id": "6d8462fe",
   "metadata": {},
   "source": [
    "### Separating the target feature in the training and testing datasets"
   ]
  },
  {
   "cell_type": "code",
   "execution_count": 124,
   "id": "d9420f60",
   "metadata": {},
   "outputs": [],
   "source": [
    "X_train = df_train.drop(columns=[\"is_fraud\"], axis=1)\n",
    "Y_train = df_train.is_fraud"
   ]
  },
  {
   "cell_type": "code",
   "execution_count": 125,
   "id": "d3c44e40",
   "metadata": {},
   "outputs": [],
   "source": [
    "X_test = df_test.drop(columns=[\"is_fraud\"], axis=1)\n",
    "Y_test = df_test.is_fraud"
   ]
  },
  {
   "cell_type": "markdown",
   "id": "b89aeb89",
   "metadata": {},
   "source": [
    "# 4. Deep Neural Network Architecture"
   ]
  },
  {
   "cell_type": "markdown",
   "id": "fd9b76bc",
   "metadata": {},
   "source": [
    "#### Importing the keras libraries and packages"
   ]
  },
  {
   "cell_type": "code",
   "execution_count": 126,
   "id": "bdfa7fd4",
   "metadata": {},
   "outputs": [],
   "source": [
    "from keras.models import Sequential\n",
    "from keras import layers\n",
    "from keras.layers import Dense, LeakyReLU, PReLU, ELU, Dropout"
   ]
  },
  {
   "cell_type": "markdown",
   "id": "9ef6f467",
   "metadata": {},
   "source": [
    "* Initiating the ANN. This will be an empty neural network when instantiated"
   ]
  },
  {
   "cell_type": "code",
   "execution_count": 127,
   "id": "15914070",
   "metadata": {},
   "outputs": [],
   "source": [
    "model = Sequential()"
   ]
  },
  {
   "cell_type": "markdown",
   "id": "1de5251b",
   "metadata": {},
   "source": [
    "* Add dense layers, specifying the number of units in each layer and the activation function used in the layer."
   ]
  },
  {
   "cell_type": "code",
   "execution_count": 128,
   "id": "766319dc",
   "metadata": {},
   "outputs": [],
   "source": [
    "# Number of features\n",
    "input_dim = X_train.shape[1]\n",
    "\n",
    "# Adding the input layer\n",
    "model.add(layers.Dense(units=32, kernel_initializer = 'he_uniform', input_dim=input_dim, activation='relu'))\n",
    "model.add(Dropout(0.2))\n",
    "\n",
    "# Adding the first hidden layer\n",
    "model.add(layers.Dense(units=16, kernel_initializer = 'he_uniform', activation='relu'))\n",
    "model.add(Dropout(0.4))\n",
    "\n",
    "# Adding the first hidden layer\n",
    "model.add(layers.Dense(units=8, kernel_initializer = 'he_uniform', activation='relu'))\n",
    "model.add(Dropout(0.3))\n",
    "\n",
    "# Adding the output layer\n",
    "model.add(layers.Dense(units=1, kernel_initializer = 'glorot_uniform', activation='sigmoid'))"
   ]
  },
  {
   "cell_type": "markdown",
   "id": "2342d676",
   "metadata": {},
   "source": [
    "### Reason/Justification for choosing the number of layers, nodes, activation function\n",
    "\n",
    "In the above code, **he_uniform** is a technique to intialize the weights of the ANN. This technique works well with **relu** activation function. The **relu** activation function prevents vanishing gradient problem. **sigmoid** activation function is helpful in binary classification\n",
    "\n",
    "We have passed the **input dimensions** in the input layer\n",
    "\n",
    "We are considering 16 neurons in the input layer, 8 neurons in the first hidden layerand 4 neurons in the second hidden layer.\n",
    "\n",
    "The output layer will have 1 neuron because this is a binary classification problem\n",
    "\n",
    "The number of hidden neurons should be between the size of the input layer and the size of the output layer. The number of hidden neurons should be 2/3 the size of the input layer, plus the size of the output layer.\n",
    "\n",
    "Here are some guidelines to know the number of hidden layers and neurons per each hidden layer in a classification problem:\n",
    "\n",
    "Based on the data, draw an expected decision boundary to separate the classes.\n",
    "Express the decision boundary as a set of lines. Note that the combination of such lines must yield to the decision boundary. The number of selected lines represents the number of hidden neurons in the first hidden layer. To connect the lines created by the previous layer, a new hidden layer is added each time you need to create connections among the lines in the previous hidden layer. The number of hidden neurons in each new hidden layer equals the number of connections to be made."
   ]
  },
  {
   "cell_type": "code",
   "execution_count": 129,
   "id": "b265f4f4",
   "metadata": {},
   "outputs": [
    {
     "name": "stdout",
     "output_type": "stream",
     "text": [
      "Model: \"sequential\"\n",
      "_________________________________________________________________\n",
      " Layer (type)                Output Shape              Param #   \n",
      "=================================================================\n",
      " dense (Dense)               (None, 32)                832       \n",
      "                                                                 \n",
      " dropout (Dropout)           (None, 32)                0         \n",
      "                                                                 \n",
      " dense_1 (Dense)             (None, 16)                528       \n",
      "                                                                 \n",
      " dropout_1 (Dropout)         (None, 16)                0         \n",
      "                                                                 \n",
      " dense_2 (Dense)             (None, 8)                 136       \n",
      "                                                                 \n",
      " dropout_2 (Dropout)         (None, 8)                 0         \n",
      "                                                                 \n",
      " dense_3 (Dense)             (None, 1)                 9         \n",
      "                                                                 \n",
      "=================================================================\n",
      "Total params: 1,505\n",
      "Trainable params: 1,505\n",
      "Non-trainable params: 0\n",
      "_________________________________________________________________\n"
     ]
    }
   ],
   "source": [
    "#Displaying the model summary\n",
    "model.summary()"
   ]
  },
  {
   "cell_type": "markdown",
   "id": "a43f261e",
   "metadata": {},
   "source": [
    "The above summary shows the number of layers in the ANN model, the number of neurons in each of the layers"
   ]
  },
  {
   "cell_type": "markdown",
   "id": "6f4cfa65",
   "metadata": {},
   "source": [
    "# 5. Training the model\n",
    "\n",
    "## 5.1 Configure the training\n",
    "\n",
    "Configure the model for training, by using appropriate optimizers and regularizations"
   ]
  },
  {
   "cell_type": "code",
   "execution_count": 130,
   "id": "9a1b0e98",
   "metadata": {},
   "outputs": [],
   "source": [
    "# Compiling the ANN\n",
    "model.compile(loss='binary_crossentropy', \n",
    "              optimizer='adam', \n",
    "              metrics=['accuracy'])"
   ]
  },
  {
   "cell_type": "markdown",
   "id": "4ca158e7",
   "metadata": {},
   "source": [
    "We have selected the **adam** optimizer for backpropagation\n",
    "\n",
    "Whenever the output is binary, then we can select **binary_crossentropy** for the loss\n",
    "\n",
    "We have selected **accuracy** as the metrics"
   ]
  },
  {
   "cell_type": "markdown",
   "id": "e77da30e",
   "metadata": {},
   "source": [
    "## 5.2 Train the model"
   ]
  },
  {
   "cell_type": "code",
   "execution_count": 131,
   "id": "4405fbbe",
   "metadata": {},
   "outputs": [
    {
     "name": "stdout",
     "output_type": "stream",
     "text": [
      "Epoch 1/15\n",
      "1449/1449 [==============================] - 10s 6ms/step - loss: 0.3017 - accuracy: 0.8767 - val_loss: 0.3860 - val_accuracy: 0.8925\n",
      "Epoch 2/15\n",
      "1449/1449 [==============================] - 8s 5ms/step - loss: 0.1855 - accuracy: 0.9307 - val_loss: 0.2333 - val_accuracy: 0.9329\n",
      "Epoch 3/15\n",
      "1449/1449 [==============================] - 8s 5ms/step - loss: 0.1568 - accuracy: 0.9405 - val_loss: 0.2079 - val_accuracy: 0.9397\n",
      "Epoch 4/15\n",
      "1449/1449 [==============================] - 8s 5ms/step - loss: 0.1443 - accuracy: 0.9439 - val_loss: 0.1830 - val_accuracy: 0.9477\n",
      "Epoch 5/15\n",
      "1449/1449 [==============================] - 8s 5ms/step - loss: 0.1390 - accuracy: 0.9456 - val_loss: 0.1682 - val_accuracy: 0.9560\n",
      "Epoch 6/15\n",
      "1449/1449 [==============================] - 8s 5ms/step - loss: 0.1348 - accuracy: 0.9467 - val_loss: 0.1841 - val_accuracy: 0.9481\n",
      "Epoch 7/15\n",
      "1449/1449 [==============================] - 8s 5ms/step - loss: 0.1323 - accuracy: 0.9474 - val_loss: 0.1691 - val_accuracy: 0.9604\n",
      "Epoch 8/15\n",
      "1449/1449 [==============================] - 8s 5ms/step - loss: 0.1298 - accuracy: 0.9482 - val_loss: 0.1909 - val_accuracy: 0.9444\n",
      "Epoch 9/15\n",
      "1449/1449 [==============================] - 8s 5ms/step - loss: 0.1290 - accuracy: 0.9487 - val_loss: 0.1778 - val_accuracy: 0.9505\n",
      "Epoch 10/15\n",
      "1449/1449 [==============================] - 8s 5ms/step - loss: 0.1277 - accuracy: 0.9493 - val_loss: 0.1733 - val_accuracy: 0.9525\n",
      "Epoch 11/15\n",
      "1449/1449 [==============================] - 8s 5ms/step - loss: 0.1277 - accuracy: 0.9492 - val_loss: 0.1645 - val_accuracy: 0.9589\n",
      "Epoch 12/15\n",
      "1449/1449 [==============================] - 8s 5ms/step - loss: 0.1264 - accuracy: 0.9494 - val_loss: 0.1796 - val_accuracy: 0.9542\n",
      "Epoch 13/15\n",
      "1449/1449 [==============================] - 8s 5ms/step - loss: 0.1256 - accuracy: 0.9497 - val_loss: 0.1754 - val_accuracy: 0.9532\n",
      "Epoch 14/15\n",
      "1449/1449 [==============================] - 8s 5ms/step - loss: 0.1252 - accuracy: 0.9499 - val_loss: 0.1404 - val_accuracy: 0.9712\n",
      "Epoch 15/15\n",
      "1449/1449 [==============================] - 8s 5ms/step - loss: 0.1250 - accuracy: 0.9499 - val_loss: 0.1760 - val_accuracy: 0.9518\n"
     ]
    }
   ],
   "source": [
    "# Fitting the ANN to the training set\n",
    "classifier_nn = model.fit(X_train,Y_train,\n",
    "                          validation_split = 0.33,\n",
    "                          epochs=15,\n",
    "                          verbose=True,\n",
    "                          batch_size=256)"
   ]
  },
  {
   "cell_type": "markdown",
   "id": "320a6ccc",
   "metadata": {},
   "source": [
    "**batch_size** is used to specify the number of data points for computations in respective iterations so that less computation power is required"
   ]
  },
  {
   "cell_type": "markdown",
   "id": "1e41ff2b",
   "metadata": {},
   "source": [
    "# 6. Test the model"
   ]
  },
  {
   "cell_type": "code",
   "execution_count": 132,
   "id": "ea2b54b6",
   "metadata": {},
   "outputs": [
    {
     "name": "stdout",
     "output_type": "stream",
     "text": [
      "8684/8684 [==============================] - 18s 2ms/step\n"
     ]
    }
   ],
   "source": [
    "# Predict Labels\n",
    "testLoss, testAccuracy = model.evaluate(X_test, Y_test, verbose=0)\n",
    "\n",
    "# Predict Labels\n",
    "Y_pred = model.predict(X_test)\n",
    "\n",
    "for i in range(len(Y_pred)):\n",
    "    if Y_pred[i]>0.5:\n",
    "        Y_pred[i]=1\n",
    "    elif Y_pred[i]<=0.5:\n",
    "        Y_pred[i]=0"
   ]
  },
  {
   "cell_type": "markdown",
   "id": "d59447da",
   "metadata": {},
   "source": [
    "## 7.  Conclusion \n",
    "\n",
    "Plot the training and validation accuracy and loss report the testing accuracy and loss.\n",
    "\n",
    "Report values for preformance study metrics like accuracy, precision, recall, F1 Score.\n",
    "\n",
    "A proper comparision based on different metrics should be done and not just accuracy alone, only then the comparision becomes authentic. You may use Confusion matrix, classification report, MAE etc per the requirement of your application/problem."
   ]
  },
  {
   "cell_type": "code",
   "execution_count": 133,
   "id": "39966304",
   "metadata": {},
   "outputs": [
    {
     "data": {
      "image/png": "[encoded data removed]",
      "text/plain": [
       "<Figure size 640x480 with 1 Axes>"
      ]
     },
     "metadata": {},
     "output_type": "display_data"
    }
   ],
   "source": [
    "# summarize history for accuracy between training and validation\n",
    "\n",
    "import matplotlib.pyplot as plt\n",
    "\n",
    "plt.plot(classifier_nn.history['accuracy'])\n",
    "plt.plot(classifier_nn.history['val_accuracy'])\n",
    "plt.title('model accuracy')\n",
    "plt.ylabel('accuracy')\n",
    "plt.xlabel('epoch')\n",
    "plt.legend(['train', 'validation'], loc='upper left')\n",
    "plt.show()"
   ]
  },
  {
   "cell_type": "markdown",
   "id": "09364929",
   "metadata": {},
   "source": [
    "It can be observed that at the 15th epoch, the training and validation accuracy are quite close"
   ]
  },
  {
   "cell_type": "code",
   "execution_count": 134,
   "id": "e8ddc8a3",
   "metadata": {},
   "outputs": [
    {
     "data": {
      "image/png": "[encoded data removed]",
      "text/plain": [
       "<Figure size 640x480 with 1 Axes>"
      ]
     },
     "metadata": {},
     "output_type": "display_data"
    }
   ],
   "source": [
    "# summarize history for loss between training and validation\n",
    "\n",
    "import matplotlib.pyplot as plt\n",
    "\n",
    "plt.plot(classifier_nn.history['loss'])\n",
    "plt.plot(classifier_nn.history['val_loss'])\n",
    "plt.title('model loss')\n",
    "plt.ylabel('loss')\n",
    "plt.xlabel('epoch')\n",
    "plt.legend(['train', 'validation'], loc='upper left')\n",
    "plt.show()"
   ]
  },
  {
   "cell_type": "markdown",
   "id": "3ba803eb",
   "metadata": {},
   "source": [
    "It can be observed that the training and the validation loss have reduced with increase in the epochs"
   ]
  },
  {
   "cell_type": "markdown",
   "id": "ff631e2d",
   "metadata": {},
   "source": [
    "#### Determining model accuracy"
   ]
  },
  {
   "cell_type": "code",
   "execution_count": 135,
   "id": "7f07418a",
   "metadata": {},
   "outputs": [],
   "source": [
    "from sklearn.metrics import accuracy_score"
   ]
  },
  {
   "cell_type": "code",
   "execution_count": 136,
   "id": "34d80b82",
   "metadata": {},
   "outputs": [
    {
     "name": "stdout",
     "output_type": "stream",
     "text": [
      "accuracy score :  81.58209170085655\n"
     ]
    }
   ],
   "source": [
    "print(\"accuracy score : \", str(accuracy_score(Y_test, Y_pred)*100))"
   ]
  },
  {
   "cell_type": "markdown",
   "id": "25897da2",
   "metadata": {},
   "source": [
    "The accuracy of the ANN model is good"
   ]
  },
  {
   "cell_type": "code",
   "execution_count": 137,
   "id": "c062279e",
   "metadata": {},
   "outputs": [
    {
     "data": {
      "text/plain": [
       "<AxesSubplot:>"
      ]
     },
     "execution_count": 137,
     "metadata": {},
     "output_type": "execute_result"
    },
    {
     "data": {
      "image/png": "[encoded data removed]",
      "text/plain": [
       "<Figure size 640x480 with 2 Axes>"
      ]
     },
     "metadata": {},
     "output_type": "display_data"
    }
   ],
   "source": [
    "from sklearn.metrics import classification_report\n",
    "from sklearn.metrics import confusion_matrix\n",
    "\n",
    "sns.heatmap(confusion_matrix(Y_test, Y_pred), annot = True, cmap = 'Blues', fmt='g')"
   ]
  },
  {
   "cell_type": "markdown",
   "id": "8d69588f",
   "metadata": {},
   "source": [
    "As per the confusion matrix, the false positives and false negatives are high"
   ]
  },
  {
   "cell_type": "code",
   "execution_count": 138,
   "id": "d9c2dc22",
   "metadata": {},
   "outputs": [
    {
     "name": "stdout",
     "output_type": "stream",
     "text": [
      "Classfication report = \n",
      "               precision    recall  f1-score   support\n",
      "\n",
      "         0.0       1.00      0.82      0.90    276778\n",
      "         1.0       0.01      0.60      0.02      1082\n",
      "\n",
      "    accuracy                           0.82    277860\n",
      "   macro avg       0.51      0.71      0.46    277860\n",
      "weighted avg       0.99      0.82      0.89    277860\n",
      "\n"
     ]
    }
   ],
   "source": [
    "# Classification Report    \n",
    "print('Classfication report = \\n', classification_report(Y_test, Y_pred))"
   ]
  },
  {
   "cell_type": "markdown",
   "id": "d1d83a57",
   "metadata": {},
   "source": [
    "The precision and recall scores are poor"
   ]
  },
  {
   "cell_type": "markdown",
   "id": "9d2a2ebd",
   "metadata": {},
   "source": [
    "### Hyperparameter tuning"
   ]
  },
  {
   "cell_type": "code",
   "execution_count": 139,
   "id": "7e34414e",
   "metadata": {},
   "outputs": [],
   "source": [
    "from keras.wrappers.scikit_learn import KerasClassifier\n",
    "from sklearn.model_selection import GridSearchCV\n",
    "\n",
    "from keras.models import Sequential\n",
    "from keras.layers import Dense, Activation, Embedding, Flatten, LeakyReLU, BatchNormalization\n",
    "from keras.activations import relu, sigmoid"
   ]
  },
  {
   "cell_type": "markdown",
   "id": "583a4c51",
   "metadata": {},
   "source": [
    "We will perform **GridSearchCV** to select the suitable hyperaprameters."
   ]
  },
  {
   "cell_type": "markdown",
   "id": "1311d410",
   "metadata": {},
   "source": [
    "We will create a function where we will initialize the Sequential model. We will provide the layers and the type of activations required as arguments to this function"
   ]
  },
  {
   "cell_type": "code",
   "execution_count": 140,
   "id": "35899250",
   "metadata": {},
   "outputs": [],
   "source": [
    "def create_model(layers, activation):\n",
    "    model_new = Sequential()\n",
    "    # We will iterate through the layers and create the dense neurons\n",
    "    for i, nodes in enumerate(layers):\n",
    "        # For the input layer, we will provide the input dimension \n",
    "        if i==0:\n",
    "            model_new.add(Dense(nodes, input_dim=X_train.shape[1]))\n",
    "            model_new.add(Activation(activation))\n",
    "            model_new.add(Dropout(0.3))\n",
    "        else:\n",
    "        # For the successive layers, we do not need to provide the input dimension\n",
    "            model_new.add(Dense(nodes))\n",
    "            model_new.add(Activation(activation))\n",
    "            model_new.add(Dropout(0.3))\n",
    "            \n",
    "    # The output layer will have only 1 neuron\n",
    "    model_new.add(Dense(units=1, kernel_initializer='glorot_uniform', activation='sigmoid'))\n",
    "    \n",
    "    # Compiling the model\n",
    "    model_new.compile(optimizer='adam', loss='binary_crossentropy', metrics=['accuracy'])\n",
    "    return model_new"
   ]
  },
  {
   "cell_type": "markdown",
   "id": "835245e8",
   "metadata": {},
   "source": [
    "**KerasClassifier** is the classifier that we will build. We will pass the **create_model** function to it as an argument"
   ]
  },
  {
   "cell_type": "code",
   "execution_count": 141,
   "id": "d691a40d",
   "metadata": {},
   "outputs": [],
   "source": [
    "model_new_2 = KerasClassifier(build_fn=create_model, verbose=0)"
   ]
  },
  {
   "cell_type": "code",
   "execution_count": 142,
   "id": "ab375c23",
   "metadata": {},
   "outputs": [],
   "source": [
    "# In the first iteration, there will be 1 hidden layer with 20 neurons\n",
    "\n",
    "# In the second iteration, there will be 2 hidden layers with 40 and 20 neurons respectively\n",
    "\n",
    "layers = [[20], [40, 20]]"
   ]
  },
  {
   "cell_type": "code",
   "execution_count": 143,
   "id": "d4829a23",
   "metadata": {},
   "outputs": [],
   "source": [
    "# The activation functions used for hyperparameter tuning are sigmoid and relu. For the first iteration, sigmoid will be used for the hidden layers\n",
    "# for the second iteration, sigmoid will be used for the hidden layers\n",
    "activations = ['sigmoid', 'relu']"
   ]
  },
  {
   "cell_type": "code",
   "execution_count": 144,
   "id": "ea531437",
   "metadata": {},
   "outputs": [],
   "source": [
    "# Preparing a dictionary of the hyperparameters\n",
    "param_grid = dict(layers=layers, activation=activations, batch_size = [128, 256], epochs = [10])"
   ]
  },
  {
   "cell_type": "code",
   "execution_count": 145,
   "id": "149867b1",
   "metadata": {},
   "outputs": [],
   "source": [
    "# Building the GridSearchCV model\n",
    "grid = GridSearchCV(estimator=model_new_2, param_grid=param_grid, cv=5)"
   ]
  },
  {
   "cell_type": "code",
   "execution_count": 146,
   "id": "ecded2f4",
   "metadata": {},
   "outputs": [],
   "source": [
    "# Training the GridSearchCV\n",
    "grid_result = grid.fit(X_train, Y_train)"
   ]
  },
  {
   "cell_type": "markdown",
   "id": "9f358587",
   "metadata": {},
   "source": [
    "### Model best results"
   ]
  },
  {
   "cell_type": "code",
   "execution_count": 147,
   "id": "5b316431",
   "metadata": {},
   "outputs": [
    {
     "name": "stdout",
     "output_type": "stream",
     "text": [
      "0.9517989039421082 {'activation': 'relu', 'batch_size': 256, 'epochs': 10, 'layers': [40, 20]}\n"
     ]
    }
   ],
   "source": [
    "print(grid_result.best_score_, grid_result.best_params_)"
   ]
  },
  {
   "cell_type": "code",
   "execution_count": 148,
   "id": "3f58713a",
   "metadata": {},
   "outputs": [
    {
     "name": "stdout",
     "output_type": "stream",
     "text": [
      "8684/8684 [==============================] - 17s 2ms/step\n"
     ]
    }
   ],
   "source": [
    "pred_y = grid.predict(X_test)"
   ]
  },
  {
   "cell_type": "code",
   "execution_count": 149,
   "id": "d90e4ec6",
   "metadata": {},
   "outputs": [],
   "source": [
    "y_pred = (pred_y > 0.5)"
   ]
  },
  {
   "cell_type": "code",
   "execution_count": 150,
   "id": "2c2e0e8a",
   "metadata": {},
   "outputs": [
    {
     "data": {
      "text/plain": [
       "<AxesSubplot:>"
      ]
     },
     "execution_count": 150,
     "metadata": {},
     "output_type": "execute_result"
    },
    {
     "data": {
      "image/png": "[encoded data removed]",
      "text/plain": [
       "<Figure size 640x480 with 2 Axes>"
      ]
     },
     "metadata": {},
     "output_type": "display_data"
    }
   ],
   "source": [
    "sns.heatmap(confusion_matrix(Y_test, y_pred), annot = True, cmap = 'Blues', fmt='g')"
   ]
  },
  {
   "cell_type": "code",
   "execution_count": 151,
   "id": "458c95a3",
   "metadata": {},
   "outputs": [],
   "source": [
    "score = accuracy_score(Y_test, y_pred)"
   ]
  },
  {
   "cell_type": "code",
   "execution_count": 152,
   "id": "0d75dbce",
   "metadata": {},
   "outputs": [
    {
     "data": {
      "text/plain": [
       "0.866259987043835"
      ]
     },
     "execution_count": 152,
     "metadata": {},
     "output_type": "execute_result"
    }
   ],
   "source": [
    "score"
   ]
  },
  {
   "cell_type": "code",
   "execution_count": 153,
   "id": "16f11da4",
   "metadata": {},
   "outputs": [
    {
     "name": "stdout",
     "output_type": "stream",
     "text": [
      "Classfication report = \n",
      "               precision    recall  f1-score   support\n",
      "\n",
      "         0.0       1.00      0.87      0.93    276778\n",
      "         1.0       0.02      0.53      0.03      1082\n",
      "\n",
      "    accuracy                           0.87    277860\n",
      "   macro avg       0.51      0.70      0.48    277860\n",
      "weighted avg       0.99      0.87      0.92    277860\n",
      "\n"
     ]
    }
   ],
   "source": [
    "print('Classfication report = \\n', classification_report(Y_test, y_pred))"
   ]
  },
  {
   "cell_type": "markdown",
   "id": "f47685f0",
   "metadata": {},
   "source": [
    "The above are the results of **Hyperparameter tuning**"
   ]
  },
  {
   "cell_type": "markdown",
   "id": "d4bf81a3",
   "metadata": {},
   "source": [
    "# 8. Solution\n",
    "\n",
    "What is the solution that is proposed to solve the business problem discussed in Section 1. Also share your learnings while working through solving the problem in terms of challenges, observations, decisions made etc.\n",
    "\n"
   ]
  },
  {
   "cell_type": "markdown",
   "id": "588ece2f",
   "metadata": {},
   "source": [
    "We propose an ANN Deep Learning solution for the credit card fraud transaction detection problem scenario\n",
    "\n",
    "Challenges faced :\n",
    "\n",
    " - Huge dataset\n",
    " - Oversampling of the dataset took long time\n",
    "\n",
    "\n",
    "Observations :\n",
    "\n",
    " - The ANN model is predicting well on the genuine transactions but not so well on the fraudulent transactions\n",
    " \n",
    " - The precision, recall and F1 scores are good for genuine transactions but not so good for fraudulent transactions\n",
    " \n",
    " - The ANN model is performing well on the training and validation datasets "
   ]
  },
  {
   "cell_type": "markdown",
   "id": "3c90d354",
   "metadata": {},
   "source": [
    "### Alternative Way: Data Modelling - Random Forest"
   ]
  },
  {
   "cell_type": "code",
   "execution_count": 154,
   "id": "5504a9f8",
   "metadata": {},
   "outputs": [],
   "source": [
    "# Building random forest model\n",
    "from sklearn.ensemble import RandomForestClassifier\n",
    "rfc = RandomForestClassifier(n_estimators  = 300)"
   ]
  },
  {
   "cell_type": "code",
   "execution_count": 155,
   "id": "b59187e4",
   "metadata": {},
   "outputs": [
    {
     "data": {
      "text/plain": [
       "RandomForestClassifier(n_estimators=300)"
      ]
     },
     "execution_count": 155,
     "metadata": {},
     "output_type": "execute_result"
    }
   ],
   "source": [
    "rfc.fit(X_train,Y_train)"
   ]
  },
  {
   "cell_type": "code",
   "execution_count": 156,
   "id": "9a076cdf",
   "metadata": {},
   "outputs": [],
   "source": [
    "predictions = rfc.predict(X_test)"
   ]
  },
  {
   "cell_type": "code",
   "execution_count": 157,
   "id": "8a877f3b",
   "metadata": {},
   "outputs": [
    {
     "name": "stdout",
     "output_type": "stream",
     "text": [
      "              precision    recall  f1-score   support\n",
      "\n",
      "         0.0       1.00      0.96      0.98    276778\n",
      "         1.0       0.01      0.10      0.02      1082\n",
      "\n",
      "    accuracy                           0.96    277860\n",
      "   macro avg       0.50      0.53      0.50    277860\n",
      "weighted avg       0.99      0.96      0.97    277860\n",
      "\n"
     ]
    }
   ],
   "source": [
    "from sklearn.metrics import classification_report,confusion_matrix\n",
    "\n",
    "print(classification_report(Y_test,predictions))"
   ]
  },
  {
   "cell_type": "code",
   "execution_count": 158,
   "id": "e45e99cc",
   "metadata": {},
   "outputs": [
    {
     "name": "stdout",
     "output_type": "stream",
     "text": [
      "[[265253  11525]\n",
      " [   972    110]]\n"
     ]
    }
   ],
   "source": [
    "print(confusion_matrix(Y_test,predictions))"
   ]
  },
  {
   "cell_type": "markdown",
   "id": "5314f203",
   "metadata": {},
   "source": [
    "Decisions made :\n",
    "\n",
    " - The random forest model is performing poorer than ANN model\n",
    " - Hyperparameter tuning does not significantly improve the performance in this scenario for the chosen hyperparameters"
   ]
  }
 ],
 "metadata": {
  "kernelspec": {
   "display_name": "Python 3 (ipykernel)",
   "language": "python",
   "name": "python3"
  },
  "language_info": {
   "codemirror_mode": {
    "name": "ipython",
    "version": 3
   },
   "file_extension": ".py",
   "mimetype": "text/x-python",
   "name": "python",
   "nbconvert_exporter": "python",
   "pygments_lexer": "ipython3",
   "version": "3.9.13"
  }
 },
 "nbformat": 4,
 "nbformat_minor": 5
}
